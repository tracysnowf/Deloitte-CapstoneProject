{
 "cells": [
  {
   "cell_type": "code",
   "execution_count": 3,
   "id": "66a9724b",
   "metadata": {},
   "outputs": [],
   "source": [
    "import numpy as np\n",
    "import pandas as pd"
   ]
  },
  {
   "cell_type": "code",
   "execution_count": 4,
   "id": "e10f8c00",
   "metadata": {},
   "outputs": [],
   "source": [
    "credit_risk = 'https://raw.githubusercontent.com/tracysnowf/Deloitte-CapstoneProject/main/data/Mortgage%20Lending_raw.csv'\n",
    "df_cr = pd.read_csv(credit_risk, sep = ',')"
   ]
  },
  {
   "cell_type": "code",
   "execution_count": 5,
   "id": "e6f61669",
   "metadata": {
    "scrolled": false
   },
   "outputs": [
    {
     "data": {
      "text/html": [
       "<div>\n",
       "<style scoped>\n",
       "    .dataframe tbody tr th:only-of-type {\n",
       "        vertical-align: middle;\n",
       "    }\n",
       "\n",
       "    .dataframe tbody tr th {\n",
       "        vertical-align: top;\n",
       "    }\n",
       "\n",
       "    .dataframe thead th {\n",
       "        text-align: right;\n",
       "    }\n",
       "</style>\n",
       "<table border=\"1\" class=\"dataframe\">\n",
       "  <thead>\n",
       "    <tr style=\"text-align: right;\">\n",
       "      <th></th>\n",
       "      <th>Unnamed: 0</th>\n",
       "      <th>derived_ethnicity</th>\n",
       "      <th>derived_race</th>\n",
       "      <th>derived_sex</th>\n",
       "      <th>action_taken</th>\n",
       "      <th>preapproval</th>\n",
       "      <th>loan_type</th>\n",
       "      <th>loan_purpose</th>\n",
       "      <th>loan_amount</th>\n",
       "      <th>loan_to_value_ratio</th>\n",
       "      <th>interest_only_payment</th>\n",
       "      <th>balloon_payment</th>\n",
       "      <th>income</th>\n",
       "      <th>debt_to_income_ratio</th>\n",
       "      <th>applicant_age</th>\n",
       "    </tr>\n",
       "  </thead>\n",
       "  <tbody>\n",
       "    <tr>\n",
       "      <th>0</th>\n",
       "      <td>0</td>\n",
       "      <td>Not Hispanic or Latino</td>\n",
       "      <td>Black or African American</td>\n",
       "      <td>Female</td>\n",
       "      <td>1</td>\n",
       "      <td>2</td>\n",
       "      <td>1</td>\n",
       "      <td>32</td>\n",
       "      <td>105000.0</td>\n",
       "      <td>75.0</td>\n",
       "      <td>2</td>\n",
       "      <td>2</td>\n",
       "      <td>91.0</td>\n",
       "      <td>48</td>\n",
       "      <td>35-44</td>\n",
       "    </tr>\n",
       "    <tr>\n",
       "      <th>1</th>\n",
       "      <td>1</td>\n",
       "      <td>Not Hispanic or Latino</td>\n",
       "      <td>Black or African American</td>\n",
       "      <td>Female</td>\n",
       "      <td>3</td>\n",
       "      <td>2</td>\n",
       "      <td>1</td>\n",
       "      <td>31</td>\n",
       "      <td>275000.0</td>\n",
       "      <td>52.38</td>\n",
       "      <td>2</td>\n",
       "      <td>2</td>\n",
       "      <td>142.0</td>\n",
       "      <td>44</td>\n",
       "      <td>&gt;74</td>\n",
       "    </tr>\n",
       "    <tr>\n",
       "      <th>2</th>\n",
       "      <td>2</td>\n",
       "      <td>Hispanic or Latino</td>\n",
       "      <td>White</td>\n",
       "      <td>Male</td>\n",
       "      <td>3</td>\n",
       "      <td>2</td>\n",
       "      <td>1</td>\n",
       "      <td>1</td>\n",
       "      <td>235000.0</td>\n",
       "      <td>80.0</td>\n",
       "      <td>2</td>\n",
       "      <td>2</td>\n",
       "      <td>60.0</td>\n",
       "      <td>38</td>\n",
       "      <td>35-44</td>\n",
       "    </tr>\n",
       "    <tr>\n",
       "      <th>3</th>\n",
       "      <td>3</td>\n",
       "      <td>Not Hispanic or Latino</td>\n",
       "      <td>White</td>\n",
       "      <td>Male</td>\n",
       "      <td>1</td>\n",
       "      <td>2</td>\n",
       "      <td>1</td>\n",
       "      <td>1</td>\n",
       "      <td>465000.0</td>\n",
       "      <td>94.69</td>\n",
       "      <td>2</td>\n",
       "      <td>2</td>\n",
       "      <td>112.0</td>\n",
       "      <td>42</td>\n",
       "      <td>35-44</td>\n",
       "    </tr>\n",
       "    <tr>\n",
       "      <th>4</th>\n",
       "      <td>4</td>\n",
       "      <td>Not Hispanic or Latino</td>\n",
       "      <td>Black or African American</td>\n",
       "      <td>Male</td>\n",
       "      <td>1</td>\n",
       "      <td>1</td>\n",
       "      <td>3</td>\n",
       "      <td>1</td>\n",
       "      <td>415000.0</td>\n",
       "      <td>100.0</td>\n",
       "      <td>2</td>\n",
       "      <td>2</td>\n",
       "      <td>83.0</td>\n",
       "      <td>50%-60%</td>\n",
       "      <td>25-34</td>\n",
       "    </tr>\n",
       "  </tbody>\n",
       "</table>\n",
       "</div>"
      ],
      "text/plain": [
       "   Unnamed: 0       derived_ethnicity               derived_race derived_sex  \\\n",
       "0           0  Not Hispanic or Latino  Black or African American      Female   \n",
       "1           1  Not Hispanic or Latino  Black or African American      Female   \n",
       "2           2      Hispanic or Latino                      White        Male   \n",
       "3           3  Not Hispanic or Latino                      White        Male   \n",
       "4           4  Not Hispanic or Latino  Black or African American        Male   \n",
       "\n",
       "   action_taken  preapproval  loan_type  loan_purpose  loan_amount  \\\n",
       "0             1            2          1            32     105000.0   \n",
       "1             3            2          1            31     275000.0   \n",
       "2             3            2          1             1     235000.0   \n",
       "3             1            2          1             1     465000.0   \n",
       "4             1            1          3             1     415000.0   \n",
       "\n",
       "  loan_to_value_ratio  interest_only_payment  balloon_payment  income  \\\n",
       "0                75.0                      2                2    91.0   \n",
       "1               52.38                      2                2   142.0   \n",
       "2                80.0                      2                2    60.0   \n",
       "3               94.69                      2                2   112.0   \n",
       "4               100.0                      2                2    83.0   \n",
       "\n",
       "  debt_to_income_ratio applicant_age  \n",
       "0                   48         35-44  \n",
       "1                   44           >74  \n",
       "2                   38         35-44  \n",
       "3                   42         35-44  \n",
       "4              50%-60%         25-34  "
      ]
     },
     "execution_count": 5,
     "metadata": {},
     "output_type": "execute_result"
    }
   ],
   "source": [
    "df_cr.head() # column 0 is redundant"
   ]
  },
  {
   "cell_type": "code",
   "execution_count": 6,
   "id": "e570db05",
   "metadata": {},
   "outputs": [],
   "source": [
    "df_cr = df_cr.drop('Unnamed: 0', 1) # delete index column from csv"
   ]
  },
  {
   "cell_type": "code",
   "execution_count": 7,
   "id": "8e02b80b",
   "metadata": {},
   "outputs": [
    {
     "name": "stdout",
     "output_type": "stream",
     "text": [
      "<class 'pandas.core.frame.DataFrame'>\n",
      "RangeIndex: 14509 entries, 0 to 14508\n",
      "Data columns (total 14 columns):\n",
      " #   Column                 Non-Null Count  Dtype  \n",
      "---  ------                 --------------  -----  \n",
      " 0   derived_ethnicity      14509 non-null  object \n",
      " 1   derived_race           14509 non-null  object \n",
      " 2   derived_sex            14509 non-null  object \n",
      " 3   action_taken           14509 non-null  int64  \n",
      " 4   preapproval            14509 non-null  int64  \n",
      " 5   loan_type              14509 non-null  int64  \n",
      " 6   loan_purpose           14509 non-null  int64  \n",
      " 7   loan_amount            14509 non-null  float64\n",
      " 8   loan_to_value_ratio    13902 non-null  object \n",
      " 9   interest_only_payment  14509 non-null  int64  \n",
      " 10  balloon_payment        14509 non-null  int64  \n",
      " 11  income                 14027 non-null  float64\n",
      " 12  debt_to_income_ratio   13787 non-null  object \n",
      " 13  applicant_age          14509 non-null  object \n",
      "dtypes: float64(2), int64(6), object(6)\n",
      "memory usage: 1.5+ MB\n"
     ]
    }
   ],
   "source": [
    "df_cr.info()"
   ]
  },
  {
   "cell_type": "code",
   "execution_count": 8,
   "id": "0302d276",
   "metadata": {},
   "outputs": [
    {
     "data": {
      "text/html": [
       "<div>\n",
       "<style scoped>\n",
       "    .dataframe tbody tr th:only-of-type {\n",
       "        vertical-align: middle;\n",
       "    }\n",
       "\n",
       "    .dataframe tbody tr th {\n",
       "        vertical-align: top;\n",
       "    }\n",
       "\n",
       "    .dataframe thead th {\n",
       "        text-align: right;\n",
       "    }\n",
       "</style>\n",
       "<table border=\"1\" class=\"dataframe\">\n",
       "  <thead>\n",
       "    <tr style=\"text-align: right;\">\n",
       "      <th></th>\n",
       "      <th>action_taken</th>\n",
       "      <th>preapproval</th>\n",
       "      <th>loan_type</th>\n",
       "      <th>loan_purpose</th>\n",
       "      <th>loan_amount</th>\n",
       "      <th>interest_only_payment</th>\n",
       "      <th>balloon_payment</th>\n",
       "      <th>income</th>\n",
       "    </tr>\n",
       "  </thead>\n",
       "  <tbody>\n",
       "    <tr>\n",
       "      <th>count</th>\n",
       "      <td>14509.000000</td>\n",
       "      <td>14509.000000</td>\n",
       "      <td>14509.000000</td>\n",
       "      <td>14509.000000</td>\n",
       "      <td>1.450900e+04</td>\n",
       "      <td>14509.000000</td>\n",
       "      <td>14509.000000</td>\n",
       "      <td>14027.000000</td>\n",
       "    </tr>\n",
       "    <tr>\n",
       "      <th>mean</th>\n",
       "      <td>1.501482</td>\n",
       "      <td>1.978979</td>\n",
       "      <td>1.147081</td>\n",
       "      <td>14.755669</td>\n",
       "      <td>3.924981e+05</td>\n",
       "      <td>14.098973</td>\n",
       "      <td>14.135295</td>\n",
       "      <td>160.826335</td>\n",
       "    </tr>\n",
       "    <tr>\n",
       "      <th>std</th>\n",
       "      <td>0.866909</td>\n",
       "      <td>0.143461</td>\n",
       "      <td>0.459418</td>\n",
       "      <td>14.860877</td>\n",
       "      <td>3.340678e+05</td>\n",
       "      <td>115.466461</td>\n",
       "      <td>115.462492</td>\n",
       "      <td>297.351109</td>\n",
       "    </tr>\n",
       "    <tr>\n",
       "      <th>min</th>\n",
       "      <td>1.000000</td>\n",
       "      <td>1.000000</td>\n",
       "      <td>1.000000</td>\n",
       "      <td>1.000000</td>\n",
       "      <td>5.000000e+03</td>\n",
       "      <td>1.000000</td>\n",
       "      <td>1.000000</td>\n",
       "      <td>-123.000000</td>\n",
       "    </tr>\n",
       "    <tr>\n",
       "      <th>25%</th>\n",
       "      <td>1.000000</td>\n",
       "      <td>2.000000</td>\n",
       "      <td>1.000000</td>\n",
       "      <td>1.000000</td>\n",
       "      <td>1.950000e+05</td>\n",
       "      <td>2.000000</td>\n",
       "      <td>2.000000</td>\n",
       "      <td>79.000000</td>\n",
       "    </tr>\n",
       "    <tr>\n",
       "      <th>50%</th>\n",
       "      <td>1.000000</td>\n",
       "      <td>2.000000</td>\n",
       "      <td>1.000000</td>\n",
       "      <td>4.000000</td>\n",
       "      <td>3.450000e+05</td>\n",
       "      <td>2.000000</td>\n",
       "      <td>2.000000</td>\n",
       "      <td>116.000000</td>\n",
       "    </tr>\n",
       "    <tr>\n",
       "      <th>75%</th>\n",
       "      <td>3.000000</td>\n",
       "      <td>2.000000</td>\n",
       "      <td>1.000000</td>\n",
       "      <td>31.000000</td>\n",
       "      <td>5.050000e+05</td>\n",
       "      <td>2.000000</td>\n",
       "      <td>2.000000</td>\n",
       "      <td>170.000000</td>\n",
       "    </tr>\n",
       "    <tr>\n",
       "      <th>max</th>\n",
       "      <td>3.000000</td>\n",
       "      <td>2.000000</td>\n",
       "      <td>4.000000</td>\n",
       "      <td>32.000000</td>\n",
       "      <td>7.505000e+06</td>\n",
       "      <td>1111.000000</td>\n",
       "      <td>1111.000000</td>\n",
       "      <td>20000.000000</td>\n",
       "    </tr>\n",
       "  </tbody>\n",
       "</table>\n",
       "</div>"
      ],
      "text/plain": [
       "       action_taken   preapproval     loan_type  loan_purpose   loan_amount  \\\n",
       "count  14509.000000  14509.000000  14509.000000  14509.000000  1.450900e+04   \n",
       "mean       1.501482      1.978979      1.147081     14.755669  3.924981e+05   \n",
       "std        0.866909      0.143461      0.459418     14.860877  3.340678e+05   \n",
       "min        1.000000      1.000000      1.000000      1.000000  5.000000e+03   \n",
       "25%        1.000000      2.000000      1.000000      1.000000  1.950000e+05   \n",
       "50%        1.000000      2.000000      1.000000      4.000000  3.450000e+05   \n",
       "75%        3.000000      2.000000      1.000000     31.000000  5.050000e+05   \n",
       "max        3.000000      2.000000      4.000000     32.000000  7.505000e+06   \n",
       "\n",
       "       interest_only_payment  balloon_payment        income  \n",
       "count           14509.000000     14509.000000  14027.000000  \n",
       "mean               14.098973        14.135295    160.826335  \n",
       "std               115.466461       115.462492    297.351109  \n",
       "min                 1.000000         1.000000   -123.000000  \n",
       "25%                 2.000000         2.000000     79.000000  \n",
       "50%                 2.000000         2.000000    116.000000  \n",
       "75%                 2.000000         2.000000    170.000000  \n",
       "max              1111.000000      1111.000000  20000.000000  "
      ]
     },
     "execution_count": 8,
     "metadata": {},
     "output_type": "execute_result"
    }
   ],
   "source": [
    "df_cr.describe()\n",
    "# Action Taken:\n",
    "# 1 -- Loan originated\n",
    "# 2 -- Application approved but not accepted\n",
    "# 3 -- Application denied by financial institution\n",
    "\n",
    "# Preapproval:\n",
    "# 1 -- Preapproval was requested\n",
    "# 2 -- Preapproval was not requested\n",
    "\n",
    "# Loan Type: **75% IQR = 1\n",
    "# 1 -- Conventional (any loan other than FHA, VA, FSA, or RHS loans)\n",
    "# 2 -- FHA-insured (Federal Housing Administration)\n",
    "# 3 -- VA-guaranteed (Veterans Administration)\n",
    "# 4 -- FSA/RHS (Farm Service Agency or Rural Housing Service)\n",
    "\n",
    "# Loan Purpose: **error data\n",
    "# 1 -- Home purchase\n",
    "# 2 -- Home improvement\n",
    "# 3 -- Refinancing\n",
    "\n",
    "# Loan Amount: in thousands of dollars\n",
    "\n",
    "# interest_only_payment **not in the codebook, 1111？\n",
    "\n",
    "# balloon_payment **not in the codebook, 1111？\n",
    "\n",
    "# income: Gross Annual Income: in thousands of dollars **negative/ error data"
   ]
  },
  {
   "cell_type": "code",
   "execution_count": 9,
   "id": "3f7df01f",
   "metadata": {
    "scrolled": true
   },
   "outputs": [
    {
     "data": {
      "text/plain": [
       "array(['Not Hispanic or Latino', 'Hispanic or Latino', 'Joint',\n",
       "       'Ethnicity Not Available', 'Free Form Text Only'], dtype=object)"
      ]
     },
     "execution_count": 9,
     "metadata": {},
     "output_type": "execute_result"
    }
   ],
   "source": [
    "pd.unique(df_cr['derived_ethnicity'])"
   ]
  },
  {
   "cell_type": "code",
   "execution_count": 10,
   "id": "aa0c7e96",
   "metadata": {
    "scrolled": true
   },
   "outputs": [
    {
     "data": {
      "text/plain": [
       "array(['Black or African American', 'White', 'Asian',\n",
       "       '2 or more minority races', 'Race Not Available',\n",
       "       'American Indian or Alaska Native', 'Joint',\n",
       "       'Native Hawaiian or Other Pacific Islander', 'Free Form Text Only'],\n",
       "      dtype=object)"
      ]
     },
     "execution_count": 10,
     "metadata": {},
     "output_type": "execute_result"
    }
   ],
   "source": [
    "pd.unique(df_cr['derived_race']) # can we combine this column with derived_ethnicity?"
   ]
  },
  {
   "cell_type": "code",
   "execution_count": 11,
   "id": "90e98210",
   "metadata": {},
   "outputs": [
    {
     "data": {
      "text/plain": [
       "array(['Female', 'Male'], dtype=object)"
      ]
     },
     "execution_count": 11,
     "metadata": {},
     "output_type": "execute_result"
    }
   ],
   "source": [
    "pd.unique(df_cr['derived_sex']) # OK"
   ]
  },
  {
   "cell_type": "code",
   "execution_count": 26,
   "id": "7107c551",
   "metadata": {
    "scrolled": true
   },
   "outputs": [
    {
     "name": "stdout",
     "output_type": "stream",
     "text": [
      "766\n"
     ]
    },
    {
     "data": {
      "text/plain": [
       "159"
      ]
     },
     "execution_count": 26,
     "metadata": {},
     "output_type": "execute_result"
    }
   ],
   "source": [
    "# 159 (possible nan) values cannot be recognized as nan \n",
    "\n",
    "13902 + 766 - 14509"
   ]
  },
  {
   "cell_type": "code",
   "execution_count": 15,
   "id": "8e5035b9",
   "metadata": {},
   "outputs": [
    {
     "data": {
      "text/plain": [
       "array(['48', '44', '38', '42', '50%-60%', '>60%', '30%-<36%', '40', '36',\n",
       "       '<20%', '20%-<30%', '49', '47', '43', '41', '39', '46', '37', '45',\n",
       "       nan, 'Exempt'], dtype=object)"
      ]
     },
     "execution_count": 15,
     "metadata": {},
     "output_type": "execute_result"
    }
   ],
   "source": [
    "pd.unique(df_cr['debt_to_income_ratio']) # should create a new column: 36% - 49%, Exempt = NaN?"
   ]
  },
  {
   "cell_type": "code",
   "execution_count": 35,
   "id": "71bb546f",
   "metadata": {},
   "outputs": [
    {
     "data": {
      "text/plain": [
       "array(['35-44', '>74', '25-34', '55-64', '45-54', '65-74', '<25', '8888'],\n",
       "      dtype=object)"
      ]
     },
     "execution_count": 35,
     "metadata": {},
     "output_type": "execute_result"
    }
   ],
   "source": [
    "pd.unique(df_cr['applicant_age']) # 8888\n",
    "# df_cr[(df_cr['applicant_age'] == '8888')] # print 4 rows with age = 8888"
   ]
  },
  {
   "cell_type": "code",
   "execution_count": null,
   "id": "00b40263",
   "metadata": {},
   "outputs": [],
   "source": []
  }
 ],
 "metadata": {
  "kernelspec": {
   "display_name": "Python 3",
   "language": "python",
   "name": "python3"
  },
  "language_info": {
   "codemirror_mode": {
    "name": "ipython",
    "version": 3
   },
   "file_extension": ".py",
   "mimetype": "text/x-python",
   "name": "python",
   "nbconvert_exporter": "python",
   "pygments_lexer": "ipython3",
   "version": "3.8.8"
  }
 },
 "nbformat": 4,
 "nbformat_minor": 5
}
