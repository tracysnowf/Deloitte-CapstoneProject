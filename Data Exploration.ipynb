{
 "cells": [
  {
   "cell_type": "markdown",
   "id": "87662e00",
   "metadata": {},
   "source": [
    "# Part 1: Data Exploration"
   ]
  },
  {
   "cell_type": "markdown",
   "id": "b142b097",
   "metadata": {},
   "source": [
    "## Part 1.1: Understand the Raw Dataset"
   ]
  },
  {
   "cell_type": "code",
   "execution_count": 1,
   "id": "564b97cb",
   "metadata": {},
   "outputs": [],
   "source": [
    "import numpy as np\n",
    "import pandas as pd\n",
    "import matplotlib.pyplot as plt\n",
    "import seaborn as sns\n",
    "import math"
   ]
  },
  {
   "cell_type": "code",
   "execution_count": 2,
   "id": "e10f8c00",
   "metadata": {},
   "outputs": [],
   "source": [
    "credit_risk = 'https://raw.githubusercontent.com/tracysnowf/Deloitte-CapstoneProject/main/data/Mortgage%20Lending_raw.csv'\n",
    "df_cr = pd.read_csv(credit_risk, sep = ',')"
   ]
  },
  {
   "cell_type": "markdown",
   "id": "d637271f",
   "metadata": {},
   "source": []
  },
  {
   "cell_type": "code",
   "execution_count": 3,
   "id": "e6f61669",
   "metadata": {
    "scrolled": false
   },
   "outputs": [
    {
     "data": {
      "text/html": [
       "<div>\n",
       "<style scoped>\n",
       "    .dataframe tbody tr th:only-of-type {\n",
       "        vertical-align: middle;\n",
       "    }\n",
       "\n",
       "    .dataframe tbody tr th {\n",
       "        vertical-align: top;\n",
       "    }\n",
       "\n",
       "    .dataframe thead th {\n",
       "        text-align: right;\n",
       "    }\n",
       "</style>\n",
       "<table border=\"1\" class=\"dataframe\">\n",
       "  <thead>\n",
       "    <tr style=\"text-align: right;\">\n",
       "      <th></th>\n",
       "      <th>Unnamed: 0</th>\n",
       "      <th>derived_ethnicity</th>\n",
       "      <th>derived_race</th>\n",
       "      <th>derived_sex</th>\n",
       "      <th>action_taken</th>\n",
       "      <th>preapproval</th>\n",
       "      <th>loan_type</th>\n",
       "      <th>loan_purpose</th>\n",
       "      <th>loan_amount</th>\n",
       "      <th>loan_to_value_ratio</th>\n",
       "      <th>interest_only_payment</th>\n",
       "      <th>balloon_payment</th>\n",
       "      <th>income</th>\n",
       "      <th>debt_to_income_ratio</th>\n",
       "      <th>applicant_age</th>\n",
       "    </tr>\n",
       "  </thead>\n",
       "  <tbody>\n",
       "    <tr>\n",
       "      <th>0</th>\n",
       "      <td>0</td>\n",
       "      <td>Not Hispanic or Latino</td>\n",
       "      <td>Black or African American</td>\n",
       "      <td>Female</td>\n",
       "      <td>1</td>\n",
       "      <td>2</td>\n",
       "      <td>1</td>\n",
       "      <td>32</td>\n",
       "      <td>105000.0</td>\n",
       "      <td>75.0</td>\n",
       "      <td>2</td>\n",
       "      <td>2</td>\n",
       "      <td>91.0</td>\n",
       "      <td>48</td>\n",
       "      <td>35-44</td>\n",
       "    </tr>\n",
       "    <tr>\n",
       "      <th>1</th>\n",
       "      <td>1</td>\n",
       "      <td>Not Hispanic or Latino</td>\n",
       "      <td>Black or African American</td>\n",
       "      <td>Female</td>\n",
       "      <td>3</td>\n",
       "      <td>2</td>\n",
       "      <td>1</td>\n",
       "      <td>31</td>\n",
       "      <td>275000.0</td>\n",
       "      <td>52.38</td>\n",
       "      <td>2</td>\n",
       "      <td>2</td>\n",
       "      <td>142.0</td>\n",
       "      <td>44</td>\n",
       "      <td>&gt;74</td>\n",
       "    </tr>\n",
       "    <tr>\n",
       "      <th>2</th>\n",
       "      <td>2</td>\n",
       "      <td>Hispanic or Latino</td>\n",
       "      <td>White</td>\n",
       "      <td>Male</td>\n",
       "      <td>3</td>\n",
       "      <td>2</td>\n",
       "      <td>1</td>\n",
       "      <td>1</td>\n",
       "      <td>235000.0</td>\n",
       "      <td>80.0</td>\n",
       "      <td>2</td>\n",
       "      <td>2</td>\n",
       "      <td>60.0</td>\n",
       "      <td>38</td>\n",
       "      <td>35-44</td>\n",
       "    </tr>\n",
       "    <tr>\n",
       "      <th>3</th>\n",
       "      <td>3</td>\n",
       "      <td>Not Hispanic or Latino</td>\n",
       "      <td>White</td>\n",
       "      <td>Male</td>\n",
       "      <td>1</td>\n",
       "      <td>2</td>\n",
       "      <td>1</td>\n",
       "      <td>1</td>\n",
       "      <td>465000.0</td>\n",
       "      <td>94.69</td>\n",
       "      <td>2</td>\n",
       "      <td>2</td>\n",
       "      <td>112.0</td>\n",
       "      <td>42</td>\n",
       "      <td>35-44</td>\n",
       "    </tr>\n",
       "    <tr>\n",
       "      <th>4</th>\n",
       "      <td>4</td>\n",
       "      <td>Not Hispanic or Latino</td>\n",
       "      <td>Black or African American</td>\n",
       "      <td>Male</td>\n",
       "      <td>1</td>\n",
       "      <td>1</td>\n",
       "      <td>3</td>\n",
       "      <td>1</td>\n",
       "      <td>415000.0</td>\n",
       "      <td>100.0</td>\n",
       "      <td>2</td>\n",
       "      <td>2</td>\n",
       "      <td>83.0</td>\n",
       "      <td>50%-60%</td>\n",
       "      <td>25-34</td>\n",
       "    </tr>\n",
       "  </tbody>\n",
       "</table>\n",
       "</div>"
      ],
      "text/plain": [
       "   Unnamed: 0       derived_ethnicity               derived_race derived_sex  \\\n",
       "0           0  Not Hispanic or Latino  Black or African American      Female   \n",
       "1           1  Not Hispanic or Latino  Black or African American      Female   \n",
       "2           2      Hispanic or Latino                      White        Male   \n",
       "3           3  Not Hispanic or Latino                      White        Male   \n",
       "4           4  Not Hispanic or Latino  Black or African American        Male   \n",
       "\n",
       "   action_taken  preapproval  loan_type  loan_purpose  loan_amount  \\\n",
       "0             1            2          1            32     105000.0   \n",
       "1             3            2          1            31     275000.0   \n",
       "2             3            2          1             1     235000.0   \n",
       "3             1            2          1             1     465000.0   \n",
       "4             1            1          3             1     415000.0   \n",
       "\n",
       "  loan_to_value_ratio  interest_only_payment  balloon_payment  income  \\\n",
       "0                75.0                      2                2    91.0   \n",
       "1               52.38                      2                2   142.0   \n",
       "2                80.0                      2                2    60.0   \n",
       "3               94.69                      2                2   112.0   \n",
       "4               100.0                      2                2    83.0   \n",
       "\n",
       "  debt_to_income_ratio applicant_age  \n",
       "0                   48         35-44  \n",
       "1                   44           >74  \n",
       "2                   38         35-44  \n",
       "3                   42         35-44  \n",
       "4              50%-60%         25-34  "
      ]
     },
     "execution_count": 3,
     "metadata": {},
     "output_type": "execute_result"
    }
   ],
   "source": [
    "df_cr.head() # column 0 is redundant"
   ]
  },
  {
   "cell_type": "code",
   "execution_count": 4,
   "id": "3bbd805c",
   "metadata": {},
   "outputs": [
    {
     "name": "stdout",
     "output_type": "stream",
     "text": [
      "<class 'pandas.core.frame.DataFrame'>\n",
      "RangeIndex: 14509 entries, 0 to 14508\n",
      "Data columns (total 15 columns):\n",
      " #   Column                 Non-Null Count  Dtype  \n",
      "---  ------                 --------------  -----  \n",
      " 0   Unnamed: 0             14509 non-null  int64  \n",
      " 1   derived_ethnicity      14509 non-null  object \n",
      " 2   derived_race           14509 non-null  object \n",
      " 3   derived_sex            14509 non-null  object \n",
      " 4   action_taken           14509 non-null  int64  \n",
      " 5   preapproval            14509 non-null  int64  \n",
      " 6   loan_type              14509 non-null  int64  \n",
      " 7   loan_purpose           14509 non-null  int64  \n",
      " 8   loan_amount            14509 non-null  float64\n",
      " 9   loan_to_value_ratio    13902 non-null  object \n",
      " 10  interest_only_payment  14509 non-null  int64  \n",
      " 11  balloon_payment        14509 non-null  int64  \n",
      " 12  income                 14027 non-null  float64\n",
      " 13  debt_to_income_ratio   13787 non-null  object \n",
      " 14  applicant_age          14509 non-null  object \n",
      "dtypes: float64(2), int64(7), object(6)\n",
      "memory usage: 1.7+ MB\n"
     ]
    }
   ],
   "source": [
    "# check data info\n",
    "df_cr.info()"
   ]
  },
  {
   "cell_type": "code",
   "execution_count": 5,
   "id": "678b8385",
   "metadata": {
    "scrolled": true
   },
   "outputs": [
    {
     "data": {
      "text/plain": [
       "Unnamed: 0               14509\n",
       "derived_ethnicity            5\n",
       "derived_race                 9\n",
       "derived_sex                  2\n",
       "action_taken                 2\n",
       "preapproval                  2\n",
       "loan_type                    4\n",
       "loan_purpose                 6\n",
       "loan_amount                237\n",
       "loan_to_value_ratio       7074\n",
       "interest_only_payment        3\n",
       "balloon_payment              3\n",
       "income                     778\n",
       "debt_to_income_ratio        20\n",
       "applicant_age                8\n",
       "dtype: int64"
      ]
     },
     "execution_count": 5,
     "metadata": {},
     "output_type": "execute_result"
    }
   ],
   "source": [
    "# check the unique values for each column\n",
    "df_cr.nunique()"
   ]
  },
  {
   "cell_type": "code",
   "execution_count": 6,
   "id": "a6926495",
   "metadata": {},
   "outputs": [],
   "source": [
    "df_cr = df_cr.drop('Unnamed: 0', 1) # delete index column from csv"
   ]
  },
  {
   "cell_type": "markdown",
   "id": "09520e45",
   "metadata": {},
   "source": [
    "##### action_taken - Y variable\n",
    "1 -- Loan originated (the qualification and verification process that begins a new loan.) <br>\n",
    "2 -- Application approved but not accepted (If the loan was approved before closing but the applicant either failed to respond or the loan was not otherwise closed, then the action taken would be reported as approved but not accepted.) <br>\n",
    "3 -- Application denied by financial institution <br>\n",
    "\n",
    "Comments: <br>\n",
    "category 1 (a typo) might actually be 2(Approved) in the codebook, and 3 stays the same(Disapproved)"
   ]
  },
  {
   "cell_type": "code",
   "execution_count": 7,
   "id": "36bb0854",
   "metadata": {
    "scrolled": true
   },
   "outputs": [
    {
     "data": {
      "text/plain": [
       "array([1, 3], dtype=int64)"
      ]
     },
     "execution_count": 7,
     "metadata": {},
     "output_type": "execute_result"
    }
   ],
   "source": [
    "pd.unique(df_cr['action_taken'])"
   ]
  },
  {
   "cell_type": "code",
   "execution_count": 8,
   "id": "960e2679",
   "metadata": {},
   "outputs": [],
   "source": [
    "# new codebook: 1 - Approved; 0 - Disapproved\n",
    "# so change all the vlaues of 3 to 0\n",
    "df_cr['action_taken'].mask((df_cr['action_taken'] == 3), 0, inplace=True)"
   ]
  },
  {
   "cell_type": "code",
   "execution_count": 9,
   "id": "7782980c",
   "metadata": {},
   "outputs": [
    {
     "data": {
      "text/plain": [
       "1    10871\n",
       "0     3638\n",
       "Name: action_taken, dtype: int64"
      ]
     },
     "execution_count": 9,
     "metadata": {},
     "output_type": "execute_result"
    }
   ],
   "source": [
    "# check the distribution of target variable action_taken\n",
    "df_cr.loc[:,'action_taken'].value_counts()"
   ]
  },
  {
   "cell_type": "code",
   "execution_count": null,
   "id": "89efbb7d",
   "metadata": {},
   "outputs": [],
   "source": []
  },
  {
   "cell_type": "markdown",
   "id": "8bc5acdd",
   "metadata": {},
   "source": [
    "## Part 1.2: Understand the Features"
   ]
  },
  {
   "cell_type": "code",
   "execution_count": 10,
   "id": "0302d276",
   "metadata": {
    "scrolled": false
   },
   "outputs": [
    {
     "data": {
      "text/html": [
       "<div>\n",
       "<style scoped>\n",
       "    .dataframe tbody tr th:only-of-type {\n",
       "        vertical-align: middle;\n",
       "    }\n",
       "\n",
       "    .dataframe tbody tr th {\n",
       "        vertical-align: top;\n",
       "    }\n",
       "\n",
       "    .dataframe thead th {\n",
       "        text-align: right;\n",
       "    }\n",
       "</style>\n",
       "<table border=\"1\" class=\"dataframe\">\n",
       "  <thead>\n",
       "    <tr style=\"text-align: right;\">\n",
       "      <th></th>\n",
       "      <th>action_taken</th>\n",
       "      <th>preapproval</th>\n",
       "      <th>loan_type</th>\n",
       "      <th>loan_purpose</th>\n",
       "      <th>loan_amount</th>\n",
       "      <th>interest_only_payment</th>\n",
       "      <th>balloon_payment</th>\n",
       "      <th>income</th>\n",
       "    </tr>\n",
       "  </thead>\n",
       "  <tbody>\n",
       "    <tr>\n",
       "      <th>count</th>\n",
       "      <td>14509.000000</td>\n",
       "      <td>14509.000000</td>\n",
       "      <td>14509.000000</td>\n",
       "      <td>14509.000000</td>\n",
       "      <td>1.450900e+04</td>\n",
       "      <td>14509.000000</td>\n",
       "      <td>14509.000000</td>\n",
       "      <td>14027.000000</td>\n",
       "    </tr>\n",
       "    <tr>\n",
       "      <th>mean</th>\n",
       "      <td>0.749259</td>\n",
       "      <td>1.978979</td>\n",
       "      <td>1.147081</td>\n",
       "      <td>14.755669</td>\n",
       "      <td>3.924981e+05</td>\n",
       "      <td>14.098973</td>\n",
       "      <td>14.135295</td>\n",
       "      <td>160.826335</td>\n",
       "    </tr>\n",
       "    <tr>\n",
       "      <th>std</th>\n",
       "      <td>0.433455</td>\n",
       "      <td>0.143461</td>\n",
       "      <td>0.459418</td>\n",
       "      <td>14.860877</td>\n",
       "      <td>3.340678e+05</td>\n",
       "      <td>115.466461</td>\n",
       "      <td>115.462492</td>\n",
       "      <td>297.351109</td>\n",
       "    </tr>\n",
       "    <tr>\n",
       "      <th>min</th>\n",
       "      <td>0.000000</td>\n",
       "      <td>1.000000</td>\n",
       "      <td>1.000000</td>\n",
       "      <td>1.000000</td>\n",
       "      <td>5.000000e+03</td>\n",
       "      <td>1.000000</td>\n",
       "      <td>1.000000</td>\n",
       "      <td>-123.000000</td>\n",
       "    </tr>\n",
       "    <tr>\n",
       "      <th>25%</th>\n",
       "      <td>0.000000</td>\n",
       "      <td>2.000000</td>\n",
       "      <td>1.000000</td>\n",
       "      <td>1.000000</td>\n",
       "      <td>1.950000e+05</td>\n",
       "      <td>2.000000</td>\n",
       "      <td>2.000000</td>\n",
       "      <td>79.000000</td>\n",
       "    </tr>\n",
       "    <tr>\n",
       "      <th>50%</th>\n",
       "      <td>1.000000</td>\n",
       "      <td>2.000000</td>\n",
       "      <td>1.000000</td>\n",
       "      <td>4.000000</td>\n",
       "      <td>3.450000e+05</td>\n",
       "      <td>2.000000</td>\n",
       "      <td>2.000000</td>\n",
       "      <td>116.000000</td>\n",
       "    </tr>\n",
       "    <tr>\n",
       "      <th>75%</th>\n",
       "      <td>1.000000</td>\n",
       "      <td>2.000000</td>\n",
       "      <td>1.000000</td>\n",
       "      <td>31.000000</td>\n",
       "      <td>5.050000e+05</td>\n",
       "      <td>2.000000</td>\n",
       "      <td>2.000000</td>\n",
       "      <td>170.000000</td>\n",
       "    </tr>\n",
       "    <tr>\n",
       "      <th>max</th>\n",
       "      <td>1.000000</td>\n",
       "      <td>2.000000</td>\n",
       "      <td>4.000000</td>\n",
       "      <td>32.000000</td>\n",
       "      <td>7.505000e+06</td>\n",
       "      <td>1111.000000</td>\n",
       "      <td>1111.000000</td>\n",
       "      <td>20000.000000</td>\n",
       "    </tr>\n",
       "  </tbody>\n",
       "</table>\n",
       "</div>"
      ],
      "text/plain": [
       "       action_taken   preapproval     loan_type  loan_purpose   loan_amount  \\\n",
       "count  14509.000000  14509.000000  14509.000000  14509.000000  1.450900e+04   \n",
       "mean       0.749259      1.978979      1.147081     14.755669  3.924981e+05   \n",
       "std        0.433455      0.143461      0.459418     14.860877  3.340678e+05   \n",
       "min        0.000000      1.000000      1.000000      1.000000  5.000000e+03   \n",
       "25%        0.000000      2.000000      1.000000      1.000000  1.950000e+05   \n",
       "50%        1.000000      2.000000      1.000000      4.000000  3.450000e+05   \n",
       "75%        1.000000      2.000000      1.000000     31.000000  5.050000e+05   \n",
       "max        1.000000      2.000000      4.000000     32.000000  7.505000e+06   \n",
       "\n",
       "       interest_only_payment  balloon_payment        income  \n",
       "count           14509.000000     14509.000000  14027.000000  \n",
       "mean               14.098973        14.135295    160.826335  \n",
       "std               115.466461       115.462492    297.351109  \n",
       "min                 1.000000         1.000000   -123.000000  \n",
       "25%                 2.000000         2.000000     79.000000  \n",
       "50%                 2.000000         2.000000    116.000000  \n",
       "75%                 2.000000         2.000000    170.000000  \n",
       "max              1111.000000      1111.000000  20000.000000  "
      ]
     },
     "execution_count": 10,
     "metadata": {},
     "output_type": "execute_result"
    }
   ],
   "source": [
    "# understand overall features\n",
    "df_cr.describe()\n",
    "# Action Taken:\n",
    "# 1 -- Loan originated\n",
    "# 2 -- Application approved but not accepted\n",
    "# 3 -- Application denied by financial institution\n",
    "\n",
    "# Preapproval:\n",
    "# 1 -- Preapproval was requested\n",
    "# 2 -- Preapproval was not requested\n",
    "\n",
    "# Loan Type: **75% IQR = 1\n",
    "# 1 -- Conventional (any loan other than FHA, VA, FSA, or RHS loans)\n",
    "# 2 -- FHA-insured (Federal Housing Administration)\n",
    "# 3 -- VA-guaranteed (Veterans Administration)\n",
    "# 4 -- FSA/RHS (Farm Service Agency or Rural Housing Service)\n",
    "\n",
    "# Loan Purpose: **error data,\n",
    "# 1 -- Home purchase\n",
    "# 2 -- Home improvement\n",
    "# 3 -- Refinancing\n",
    "\n",
    "# Loan Amount: in thousands of dollars\n",
    "\n",
    "# interest_only_payment **not in the codebook, 1111？\n",
    "\n",
    "# balloon_payment **not in the codebook, 1111？\n",
    "\n",
    "# income: Gross Annual Income: in thousands of dollars **negative/ error data"
   ]
  },
  {
   "cell_type": "markdown",
   "id": "dfce8f2a",
   "metadata": {},
   "source": [
    "### Numerical Features Data Cleaning "
   ]
  },
  {
   "cell_type": "code",
   "execution_count": 11,
   "id": "e9fb6643",
   "metadata": {
    "scrolled": true
   },
   "outputs": [
    {
     "data": {
      "text/html": [
       "<div>\n",
       "<style scoped>\n",
       "    .dataframe tbody tr th:only-of-type {\n",
       "        vertical-align: middle;\n",
       "    }\n",
       "\n",
       "    .dataframe tbody tr th {\n",
       "        vertical-align: top;\n",
       "    }\n",
       "\n",
       "    .dataframe thead th {\n",
       "        text-align: right;\n",
       "    }\n",
       "</style>\n",
       "<table border=\"1\" class=\"dataframe\">\n",
       "  <thead>\n",
       "    <tr style=\"text-align: right;\">\n",
       "      <th></th>\n",
       "      <th>loan_amount</th>\n",
       "      <th>income</th>\n",
       "    </tr>\n",
       "  </thead>\n",
       "  <tbody>\n",
       "    <tr>\n",
       "      <th>count</th>\n",
       "      <td>1.450900e+04</td>\n",
       "      <td>14027.000000</td>\n",
       "    </tr>\n",
       "    <tr>\n",
       "      <th>mean</th>\n",
       "      <td>3.924981e+05</td>\n",
       "      <td>160.826335</td>\n",
       "    </tr>\n",
       "    <tr>\n",
       "      <th>std</th>\n",
       "      <td>3.340678e+05</td>\n",
       "      <td>297.351109</td>\n",
       "    </tr>\n",
       "    <tr>\n",
       "      <th>min</th>\n",
       "      <td>5.000000e+03</td>\n",
       "      <td>-123.000000</td>\n",
       "    </tr>\n",
       "    <tr>\n",
       "      <th>25%</th>\n",
       "      <td>1.950000e+05</td>\n",
       "      <td>79.000000</td>\n",
       "    </tr>\n",
       "    <tr>\n",
       "      <th>50%</th>\n",
       "      <td>3.450000e+05</td>\n",
       "      <td>116.000000</td>\n",
       "    </tr>\n",
       "    <tr>\n",
       "      <th>75%</th>\n",
       "      <td>5.050000e+05</td>\n",
       "      <td>170.000000</td>\n",
       "    </tr>\n",
       "    <tr>\n",
       "      <th>max</th>\n",
       "      <td>7.505000e+06</td>\n",
       "      <td>20000.000000</td>\n",
       "    </tr>\n",
       "  </tbody>\n",
       "</table>\n",
       "</div>"
      ],
      "text/plain": [
       "        loan_amount        income\n",
       "count  1.450900e+04  14027.000000\n",
       "mean   3.924981e+05    160.826335\n",
       "std    3.340678e+05    297.351109\n",
       "min    5.000000e+03   -123.000000\n",
       "25%    1.950000e+05     79.000000\n",
       "50%    3.450000e+05    116.000000\n",
       "75%    5.050000e+05    170.000000\n",
       "max    7.505000e+06  20000.000000"
      ]
     },
     "execution_count": 11,
     "metadata": {},
     "output_type": "execute_result"
    }
   ],
   "source": [
    "# understand numerical features\n",
    "# loan_amount look normal, need to clean column loan_to_value_ratio, income\n",
    "df_cr[[\"loan_amount\", \"loan_to_value_ratio\", \"income\"]].describe()"
   ]
  },
  {
   "cell_type": "markdown",
   "id": "30f6fa35",
   "metadata": {},
   "source": [
    "##### loan_to_value_ratio\n",
    "Description: The ratio of the total amount of debt secured by the property to the value of the property relied on in making the credit decisiontio."
   ]
  },
  {
   "cell_type": "code",
   "execution_count": 12,
   "id": "145cde97",
   "metadata": {
    "scrolled": false
   },
   "outputs": [
    {
     "data": {
      "text/plain": [
       "array(['75.0', '52.38', '80.0', ..., '68.883', '87.03', '52.45'],\n",
       "      dtype=object)"
      ]
     },
     "execution_count": 12,
     "metadata": {},
     "output_type": "execute_result"
    }
   ],
   "source": [
    "pd.unique(df_cr['loan_to_value_ratio'])"
   ]
  },
  {
   "cell_type": "code",
   "execution_count": 13,
   "id": "a2c52632",
   "metadata": {},
   "outputs": [
    {
     "data": {
      "text/plain": [
       "<class 'str'>      13902\n",
       "<class 'float'>      607\n",
       "Name: loan_to_value_ratio, dtype: int64"
      ]
     },
     "execution_count": 13,
     "metadata": {},
     "output_type": "execute_result"
    }
   ],
   "source": [
    "df_cr['loan_to_value_ratio'].map(type).value_counts()"
   ]
  },
  {
   "cell_type": "code",
   "execution_count": 14,
   "id": "9e5377bd",
   "metadata": {},
   "outputs": [
    {
     "data": {
      "text/plain": [
       "607"
      ]
     },
     "execution_count": 14,
     "metadata": {},
     "output_type": "execute_result"
    }
   ],
   "source": [
    "# 607 null values\n",
    "len(df_cr[pd.to_numeric(df_cr['loan_to_value_ratio'].isnull(),errors='coerce')])"
   ]
  },
  {
   "cell_type": "code",
   "execution_count": 15,
   "id": "bc3f3ccd",
   "metadata": {},
   "outputs": [
    {
     "data": {
      "text/plain": [
       "159"
      ]
     },
     "execution_count": 15,
     "metadata": {},
     "output_type": "execute_result"
    }
   ],
   "source": [
    "# 159 Exempt values\n",
    "len(df_cr[(df_cr['loan_to_value_ratio'] == \"Exempt\")])"
   ]
  },
  {
   "cell_type": "code",
   "execution_count": 16,
   "id": "8b5676ca",
   "metadata": {},
   "outputs": [],
   "source": [
    "# drop 607 null values and 159 Exempt values\n",
    "df_cr = df_cr[pd.to_numeric(df_cr['loan_to_value_ratio'].notnull(),errors='coerce')]\n",
    "df_cr = df_cr[(df_cr['loan_to_value_ratio'] != \"Exempt\")]\n",
    "# reset index\n",
    "df_cr = df_cr.reset_index(drop = True)\n",
    "# cast string types of values to numeric type\n",
    "pd.to_numeric(df_cr['loan_to_value_ratio'], errors='coerce')\n",
    "# cast string types of values to numeric type\n",
    "df_cr['loan_to_value_ratio'] = pd.to_numeric(df_cr['loan_to_value_ratio'], errors='coerce')"
   ]
  },
  {
   "cell_type": "code",
   "execution_count": 17,
   "id": "0b7b2ca8",
   "metadata": {
    "scrolled": true
   },
   "outputs": [
    {
     "data": {
      "text/plain": [
       "<class 'float'>    13743\n",
       "Name: loan_to_value_ratio, dtype: int64"
      ]
     },
     "execution_count": 17,
     "metadata": {},
     "output_type": "execute_result"
    }
   ],
   "source": [
    "# check the result\n",
    "df_cr['loan_to_value_ratio'].map(type).value_counts()"
   ]
  },
  {
   "cell_type": "markdown",
   "id": "9bec2f7d",
   "metadata": {},
   "source": [
    "##### log_loan_to_value_ratio (NEW column for log reg)\n",
    "Description: The log of the ratio of the total amount of debt secured by the property to the value of the property relied on in making the credit decisiontio."
   ]
  },
  {
   "cell_type": "code",
   "execution_count": 18,
   "id": "e541ee9e",
   "metadata": {},
   "outputs": [
    {
     "data": {
      "image/png": "[encoded data removed]",
      "text/plain": [
       "<Figure size 432x288 with 1 Axes>"
      ]
     },
     "metadata": {},
     "output_type": "display_data"
    }
   ],
   "source": [
    "# boxplot shows loan_to_value_ratio (without outliers) is a little left-skewed, so perform the log transformation\n",
    "sns.set_theme(style=\"whitegrid\")\n",
    "ax = sns.boxplot(x=df_cr[\"loan_to_value_ratio\"], data = df_cr, showfliers = False)"
   ]
  },
  {
   "cell_type": "code",
   "execution_count": 19,
   "id": "92c36cf1",
   "metadata": {},
   "outputs": [],
   "source": [
    "df_cr['log_loan_to_value_ratio'] = np.log2(df_cr['loan_to_value_ratio'])"
   ]
  },
  {
   "cell_type": "markdown",
   "id": "6288ac04",
   "metadata": {},
   "source": [
    "##### income"
   ]
  },
  {
   "cell_type": "code",
   "execution_count": 20,
   "id": "c7ca52df",
   "metadata": {},
   "outputs": [
    {
     "data": {
      "text/plain": [
       "252"
      ]
     },
     "execution_count": 20,
     "metadata": {},
     "output_type": "execute_result"
    }
   ],
   "source": [
    "# 252 null values\n",
    "len(df_cr[pd.to_numeric(df_cr['income'].isnull(),errors='coerce')])"
   ]
  },
  {
   "cell_type": "code",
   "execution_count": 21,
   "id": "89320b1b",
   "metadata": {},
   "outputs": [
    {
     "data": {
      "text/plain": [
       "10"
      ]
     },
     "execution_count": 21,
     "metadata": {},
     "output_type": "execute_result"
    }
   ],
   "source": [
    "# 10 negative/ error values, will keep them in the data\n",
    "len(df_cr[(df_cr['income'] < 0)])"
   ]
  },
  {
   "cell_type": "code",
   "execution_count": 22,
   "id": "bfd319b0",
   "metadata": {},
   "outputs": [],
   "source": [
    "# drop 252 null values\n",
    "df_cr = df_cr[pd.to_numeric(df_cr['income'].notnull(),errors='coerce')]\n",
    "# reset index\n",
    "df_cr = df_cr.reset_index(drop = True)"
   ]
  },
  {
   "cell_type": "code",
   "execution_count": 23,
   "id": "cb8b187b",
   "metadata": {
    "scrolled": true
   },
   "outputs": [
    {
     "data": {
      "text/plain": [
       "<class 'float'>    13491\n",
       "Name: loan_to_value_ratio, dtype: int64"
      ]
     },
     "execution_count": 23,
     "metadata": {},
     "output_type": "execute_result"
    }
   ],
   "source": [
    "# check the result\n",
    "df_cr['loan_to_value_ratio'].map(type).value_counts()"
   ]
  },
  {
   "cell_type": "markdown",
   "id": "e59b6620",
   "metadata": {},
   "source": [
    "#### Cleaned Numeric Features Summary"
   ]
  },
  {
   "cell_type": "code",
   "execution_count": 24,
   "id": "d6e637e2",
   "metadata": {
    "scrolled": true
   },
   "outputs": [
    {
     "data": {
      "text/html": [
       "<div>\n",
       "<style scoped>\n",
       "    .dataframe tbody tr th:only-of-type {\n",
       "        vertical-align: middle;\n",
       "    }\n",
       "\n",
       "    .dataframe tbody tr th {\n",
       "        vertical-align: top;\n",
       "    }\n",
       "\n",
       "    .dataframe thead th {\n",
       "        text-align: right;\n",
       "    }\n",
       "</style>\n",
       "<table border=\"1\" class=\"dataframe\">\n",
       "  <thead>\n",
       "    <tr style=\"text-align: right;\">\n",
       "      <th></th>\n",
       "      <th>loan_amount</th>\n",
       "      <th>loan_to_value_ratio</th>\n",
       "      <th>income</th>\n",
       "    </tr>\n",
       "  </thead>\n",
       "  <tbody>\n",
       "    <tr>\n",
       "      <th>count</th>\n",
       "      <td>1.349100e+04</td>\n",
       "      <td>13491.000000</td>\n",
       "      <td>13491.000000</td>\n",
       "    </tr>\n",
       "    <tr>\n",
       "      <th>mean</th>\n",
       "      <td>3.937288e+05</td>\n",
       "      <td>71.587950</td>\n",
       "      <td>162.098732</td>\n",
       "    </tr>\n",
       "    <tr>\n",
       "      <th>std</th>\n",
       "      <td>3.268893e+05</td>\n",
       "      <td>27.608336</td>\n",
       "      <td>295.949162</td>\n",
       "    </tr>\n",
       "    <tr>\n",
       "      <th>min</th>\n",
       "      <td>5.000000e+03</td>\n",
       "      <td>0.541000</td>\n",
       "      <td>-123.000000</td>\n",
       "    </tr>\n",
       "    <tr>\n",
       "      <th>25%</th>\n",
       "      <td>1.950000e+05</td>\n",
       "      <td>59.090000</td>\n",
       "      <td>80.000000</td>\n",
       "    </tr>\n",
       "    <tr>\n",
       "      <th>50%</th>\n",
       "      <td>3.450000e+05</td>\n",
       "      <td>75.000000</td>\n",
       "      <td>118.000000</td>\n",
       "    </tr>\n",
       "    <tr>\n",
       "      <th>75%</th>\n",
       "      <td>5.050000e+05</td>\n",
       "      <td>88.317000</td>\n",
       "      <td>172.000000</td>\n",
       "    </tr>\n",
       "    <tr>\n",
       "      <th>max</th>\n",
       "      <td>7.505000e+06</td>\n",
       "      <td>999.999000</td>\n",
       "      <td>20000.000000</td>\n",
       "    </tr>\n",
       "  </tbody>\n",
       "</table>\n",
       "</div>"
      ],
      "text/plain": [
       "        loan_amount  loan_to_value_ratio        income\n",
       "count  1.349100e+04         13491.000000  13491.000000\n",
       "mean   3.937288e+05            71.587950    162.098732\n",
       "std    3.268893e+05            27.608336    295.949162\n",
       "min    5.000000e+03             0.541000   -123.000000\n",
       "25%    1.950000e+05            59.090000     80.000000\n",
       "50%    3.450000e+05            75.000000    118.000000\n",
       "75%    5.050000e+05            88.317000    172.000000\n",
       "max    7.505000e+06           999.999000  20000.000000"
      ]
     },
     "execution_count": 24,
     "metadata": {},
     "output_type": "execute_result"
    }
   ],
   "source": [
    "# understand numeric features\n",
    "df_cr[[\"loan_amount\", \"loan_to_value_ratio\", \"income\"]].describe()"
   ]
  },
  {
   "cell_type": "markdown",
   "id": "41c2b351",
   "metadata": {},
   "source": [
    "#### Correlation of Numeric Features"
   ]
  },
  {
   "cell_type": "code",
   "execution_count": 25,
   "id": "c22d3190",
   "metadata": {},
   "outputs": [],
   "source": [
    "# correlation heat map of numerical features\n",
    "sns.set()\n",
    "\n",
    "numCol = []\n",
    "for col in df_cr:\n",
    "  if df_cr[col].dtype == np.float64:\n",
    "    numCol.append(col)\n",
    "corr = df_cr[numCol].corr()"
   ]
  },
  {
   "cell_type": "code",
   "execution_count": 26,
   "id": "0db34c0f",
   "metadata": {
    "scrolled": true
   },
   "outputs": [
    {
     "data": {
      "text/plain": [
       "[Text(0.5, 0, 'loan_amount'),\n",
       " Text(1.5, 0, 'loan_to_value_ratio'),\n",
       " Text(2.5, 0, 'income'),\n",
       " Text(3.5, 0, 'log_loan_to_value_ratio')]"
      ]
     },
     "execution_count": 26,
     "metadata": {},
     "output_type": "execute_result"
    },
    {
     "data": {
      "image/png": "[encoded data removed]",
      "text/plain": [
       "<Figure size 432x288 with 2 Axes>"
      ]
     },
     "metadata": {},
     "output_type": "display_data"
    }
   ],
   "source": [
    "ax = sns.heatmap(\n",
    "    corr, \n",
    "    vmin=-1, vmax=1, center=0,\n",
    "    cmap=sns.diverging_palette(20, 220, n=200),\n",
    "    square=True\n",
    ")\n",
    "ax.set_xticklabels(\n",
    "    ax.get_xticklabels(),\n",
    "    rotation=45,\n",
    "    horizontalalignment='right')"
   ]
  },
  {
   "cell_type": "code",
   "execution_count": 27,
   "id": "d882ae30",
   "metadata": {
    "scrolled": false
   },
   "outputs": [
    {
     "data": {
      "text/html": [
       "<div>\n",
       "<style scoped>\n",
       "    .dataframe tbody tr th:only-of-type {\n",
       "        vertical-align: middle;\n",
       "    }\n",
       "\n",
       "    .dataframe tbody tr th {\n",
       "        vertical-align: top;\n",
       "    }\n",
       "\n",
       "    .dataframe thead th {\n",
       "        text-align: right;\n",
       "    }\n",
       "</style>\n",
       "<table border=\"1\" class=\"dataframe\">\n",
       "  <thead>\n",
       "    <tr style=\"text-align: right;\">\n",
       "      <th></th>\n",
       "      <th>loan_amount</th>\n",
       "      <th>loan_to_value_ratio</th>\n",
       "      <th>income</th>\n",
       "      <th>log_loan_to_value_ratio</th>\n",
       "    </tr>\n",
       "  </thead>\n",
       "  <tbody>\n",
       "    <tr>\n",
       "      <th>loan_amount</th>\n",
       "      <td>1.000000</td>\n",
       "      <td>0.145522</td>\n",
       "      <td>0.400237</td>\n",
       "      <td>0.208116</td>\n",
       "    </tr>\n",
       "    <tr>\n",
       "      <th>loan_to_value_ratio</th>\n",
       "      <td>0.145522</td>\n",
       "      <td>1.000000</td>\n",
       "      <td>-0.003318</td>\n",
       "      <td>0.806731</td>\n",
       "    </tr>\n",
       "    <tr>\n",
       "      <th>income</th>\n",
       "      <td>0.400237</td>\n",
       "      <td>-0.003318</td>\n",
       "      <td>1.000000</td>\n",
       "      <td>0.013264</td>\n",
       "    </tr>\n",
       "    <tr>\n",
       "      <th>log_loan_to_value_ratio</th>\n",
       "      <td>0.208116</td>\n",
       "      <td>0.806731</td>\n",
       "      <td>0.013264</td>\n",
       "      <td>1.000000</td>\n",
       "    </tr>\n",
       "  </tbody>\n",
       "</table>\n",
       "</div>"
      ],
      "text/plain": [
       "                         loan_amount  loan_to_value_ratio    income  \\\n",
       "loan_amount                 1.000000             0.145522  0.400237   \n",
       "loan_to_value_ratio         0.145522             1.000000 -0.003318   \n",
       "income                      0.400237            -0.003318  1.000000   \n",
       "log_loan_to_value_ratio     0.208116             0.806731  0.013264   \n",
       "\n",
       "                         log_loan_to_value_ratio  \n",
       "loan_amount                             0.208116  \n",
       "loan_to_value_ratio                     0.806731  \n",
       "income                                  0.013264  \n",
       "log_loan_to_value_ratio                 1.000000  "
      ]
     },
     "execution_count": 27,
     "metadata": {},
     "output_type": "execute_result"
    }
   ],
   "source": [
    "# check the actual values of correlations\n",
    "corr_score = df_cr[numCol].corr()\n",
    "corr_score\n",
    "# heatmap conclusion: all good, no column needs to be dropped.\n",
    "# ***but keep in mind that loan_amount and loan_to_value_ratio are not dependent - might need to drop one of them when using linear/ logistic regression"
   ]
  },
  {
   "cell_type": "markdown",
   "id": "011f0e23",
   "metadata": {},
   "source": [
    "### Categorical Features Data Cleaning "
   ]
  },
  {
   "cell_type": "markdown",
   "id": "ebdbe9ba",
   "metadata": {},
   "source": [
    "##### preapproval_requested (old: preapproval)\n",
    "1 -- Preapproval was requested <br>\n",
    "2 -- Preapproval was not requested <br>\n",
    "\n",
    "NEW: <br>\n",
    "Preapprove Requested - Preapproval was requested <br>\n",
    "No Preapprove Requested - Preapproval was not requested <br>\n",
    "\n",
    "rename column: preapproval -> preapproval_requested"
   ]
  },
  {
   "cell_type": "code",
   "execution_count": 28,
   "id": "903824c8",
   "metadata": {},
   "outputs": [],
   "source": [
    "df_cr['preapproval'].mask((df_cr['preapproval'] == 1), \"Preapproval Requested\", inplace=True)\n",
    "df_cr['preapproval'].mask((df_cr['preapproval'] == 2), \"No Preapproval Requested\", inplace=True)"
   ]
  },
  {
   "cell_type": "code",
   "execution_count": 29,
   "id": "522dd727",
   "metadata": {},
   "outputs": [],
   "source": [
    "# change column name 'preapproval' -> 'preapproval_requested'\n",
    "df_cr.rename(columns={'preapproval': 'preapproval_requested'}, inplace=True)"
   ]
  },
  {
   "cell_type": "code",
   "execution_count": 30,
   "id": "21fea2e0",
   "metadata": {
    "scrolled": true
   },
   "outputs": [
    {
     "data": {
      "text/plain": [
       "<AxesSubplot:>"
      ]
     },
     "execution_count": 30,
     "metadata": {},
     "output_type": "execute_result"
    },
    {
     "data": {
      "image/png": "[encoded data removed]",
      "text/plain": [
       "<Figure size 432x288 with 1 Axes>"
      ]
     },
     "metadata": {},
     "output_type": "display_data"
    }
   ],
   "source": [
    "# explore loan_type category\n",
    "df_cr[\"preapproval_requested\"].value_counts().plot(kind='barh')"
   ]
  },
  {
   "cell_type": "markdown",
   "id": "fb907da4",
   "metadata": {},
   "source": [
    "##### loan_type\n",
    "1 -- Conventional (any loan other than FHA, VA, FSA, or RHS loans) <br>\n",
    "2 -- FHA-insured (Federal Housing Administration) <br>\n",
    "3 -- VA-guaranteed (Veterans Administration) <br>\n",
    "4 -- FSA/RHS (Farm Service Agency or Rural Housing Service) <br>\n",
    "\n",
    "Comments: <br>\n",
    "75% IQR = 1 <br>\n",
    "About 90% of the whole loan type is type 1 - Conventional among the 4 types. <br>\n",
    "Is this data representative to the whole population? <br>\n",
    "possible research directions: if people with a Conventional loan type have an obviously higher/lower chance to get approved for the loan compared to people with a NON Conventional loan type?"
   ]
  },
  {
   "cell_type": "code",
   "execution_count": 31,
   "id": "3890c5db",
   "metadata": {},
   "outputs": [],
   "source": [
    "# changed 1, 2, 3, 4 to their corresponding categorical names\n",
    "df_cr['loan_type'].mask((df_cr['loan_type'] == 1), 'Converntional', inplace=True)\n",
    "df_cr['loan_type'].mask((df_cr['loan_type'] == 2), 'FHA-insured', inplace=True)\n",
    "df_cr['loan_type'].mask((df_cr['loan_type'] == 3), 'VA-guaranteed', inplace=True)\n",
    "df_cr['loan_type'].mask((df_cr['loan_type'] == 4), 'FSA/RHS', inplace=True)"
   ]
  },
  {
   "cell_type": "code",
   "execution_count": 32,
   "id": "b8f04377",
   "metadata": {
    "scrolled": false
   },
   "outputs": [
    {
     "data": {
      "text/plain": [
       "0.9175746794159069"
      ]
     },
     "execution_count": 32,
     "metadata": {},
     "output_type": "execute_result"
    }
   ],
   "source": [
    "len(df_cr[df_cr['loan_type'] == 'Converntional']) / len(df_cr['loan_type'])"
   ]
  },
  {
   "cell_type": "code",
   "execution_count": 33,
   "id": "5b105fff",
   "metadata": {},
   "outputs": [
    {
     "data": {
      "text/plain": [
       "2"
      ]
     },
     "execution_count": 33,
     "metadata": {},
     "output_type": "execute_result"
    }
   ],
   "source": [
    "# number of 'FSA/RHS' is only 2, not representative, so drop this category\n",
    "len(df_cr[df_cr['loan_type'] == 'FSA/RHS'])"
   ]
  },
  {
   "cell_type": "code",
   "execution_count": 34,
   "id": "1ea91c73",
   "metadata": {},
   "outputs": [],
   "source": [
    "# drop 'FSA/RHS' column\n",
    "df_cr.drop(df_cr[df_cr['loan_type'] == 'FSA/RHS'].index, inplace = True)"
   ]
  },
  {
   "cell_type": "code",
   "execution_count": 35,
   "id": "50e566ab",
   "metadata": {},
   "outputs": [],
   "source": [
    "# reset index\n",
    "df_cr = df_cr.reset_index(drop = True)"
   ]
  },
  {
   "cell_type": "code",
   "execution_count": 36,
   "id": "94179f3e",
   "metadata": {},
   "outputs": [
    {
     "data": {
      "text/plain": [
       "<AxesSubplot:>"
      ]
     },
     "execution_count": 36,
     "metadata": {},
     "output_type": "execute_result"
    },
    {
     "data": {
      "image/png": "[encoded data removed]",
      "text/plain": [
       "<Figure size 432x288 with 1 Axes>"
      ]
     },
     "metadata": {},
     "output_type": "display_data"
    }
   ],
   "source": [
    "# explore loan_type category\n",
    "df_cr[\"loan_type\"].value_counts().plot(kind='barh')"
   ]
  },
  {
   "cell_type": "markdown",
   "id": "e01e842d",
   "metadata": {},
   "source": [
    "##### loan_purpose \n",
    "Description: The purpose of covered loan or application\n",
    "Values: <br>\n",
    "1 - Home purchase <br>\n",
    "2 - Home improvement <br>\n",
    "31 - Refinancing <br>\n",
    "32 - Cash-out refinancing <br>\n",
    "4 - Other purpose <br>\n",
    "5 - Not applicable \n",
    "\n",
    "CHANGE - 31, 32 -> 3 - Refinancing; dropped 19 values of \"not applicable\" "
   ]
  },
  {
   "cell_type": "code",
   "execution_count": 37,
   "id": "7f972a35",
   "metadata": {},
   "outputs": [],
   "source": [
    "df_cr[\"loan_purpose\"].replace([31, 32], 3, regex=False, inplace=True)"
   ]
  },
  {
   "cell_type": "code",
   "execution_count": 38,
   "id": "e9187177",
   "metadata": {
    "scrolled": true
   },
   "outputs": [
    {
     "data": {
      "text/plain": [
       "17"
      ]
     },
     "execution_count": 38,
     "metadata": {},
     "output_type": "execute_result"
    }
   ],
   "source": [
    "# 19 values of \"not applicable\" \n",
    "len(df_cr[df_cr['loan_purpose'] == 5])"
   ]
  },
  {
   "cell_type": "code",
   "execution_count": 39,
   "id": "c4dea90b",
   "metadata": {},
   "outputs": [],
   "source": [
    "# 5 -> NAs\n",
    "df_cr['loan_purpose'].mask((df_cr['loan_purpose'] == 5), None, inplace=True)"
   ]
  },
  {
   "cell_type": "code",
   "execution_count": 40,
   "id": "5b4aa8ed",
   "metadata": {},
   "outputs": [],
   "source": [
    "# drop 19 values\n",
    "df_cr = df_cr[pd.to_numeric(df_cr['loan_purpose'].notnull(),errors='coerce')]"
   ]
  },
  {
   "cell_type": "code",
   "execution_count": 41,
   "id": "406f73bd",
   "metadata": {},
   "outputs": [],
   "source": [
    "# changed 1, 2, 3, 4, 5 to their corresponding categorical names\n",
    "df_cr['loan_purpose'].mask((df_cr['loan_purpose'] == 1), 'Home Purchase', inplace=True)\n",
    "df_cr['loan_purpose'].mask((df_cr['loan_purpose'] == 2), 'Home Improvement', inplace=True)\n",
    "df_cr['loan_purpose'].mask((df_cr['loan_purpose'] == 3), 'Refinancing', inplace=True)\n",
    "df_cr['loan_purpose'].mask((df_cr['loan_purpose'] == 4), 'Other Purpose', inplace=True)"
   ]
  },
  {
   "cell_type": "code",
   "execution_count": 42,
   "id": "017a50c3",
   "metadata": {},
   "outputs": [],
   "source": [
    "# reset index\n",
    "df_cr = df_cr.reset_index(drop = True)"
   ]
  },
  {
   "cell_type": "code",
   "execution_count": 43,
   "id": "51c25d24",
   "metadata": {},
   "outputs": [
    {
     "data": {
      "text/plain": [
       "<AxesSubplot:>"
      ]
     },
     "execution_count": 43,
     "metadata": {},
     "output_type": "execute_result"
    },
    {
     "data": {
      "image/png": "[encoded data removed]",
      "text/plain": [
       "<Figure size 432x288 with 1 Axes>"
      ]
     },
     "metadata": {},
     "output_type": "display_data"
    }
   ],
   "source": [
    "# explore loan_purpose category\n",
    "df_cr[\"loan_purpose\"].value_counts().plot(kind='barh')"
   ]
  },
  {
   "cell_type": "markdown",
   "id": "6eb13a6b",
   "metadata": {},
   "source": [
    "##### is_not_hispanic (old: derived_ethnicity)"
   ]
  },
  {
   "cell_type": "code",
   "execution_count": 44,
   "id": "3f7df01f",
   "metadata": {
    "scrolled": false
   },
   "outputs": [
    {
     "data": {
      "text/plain": [
       "array(['Not Hispanic or Latino', 'Hispanic or Latino', 'Joint',\n",
       "       'Ethnicity Not Available', 'Free Form Text Only'], dtype=object)"
      ]
     },
     "execution_count": 44,
     "metadata": {},
     "output_type": "execute_result"
    }
   ],
   "source": [
    "pd.unique(df_cr['derived_ethnicity'])"
   ]
  },
  {
   "cell_type": "code",
   "execution_count": 45,
   "id": "a5a1c216",
   "metadata": {},
   "outputs": [],
   "source": [
    "# Convert 'Joint', 'Ethnicity Not Available', 'Free Form Text Only' to NAs\n",
    "df_cr['derived_ethnicity'].mask((df_cr['derived_ethnicity'] == 'Joint') |\n",
    "                                (df_cr['derived_ethnicity'] == 'Ethnicity Not Available') |\n",
    "                                (df_cr['derived_ethnicity'] == 'Free Form Text Only'), None, inplace=True)"
   ]
  },
  {
   "cell_type": "code",
   "execution_count": 46,
   "id": "c2067302",
   "metadata": {},
   "outputs": [
    {
     "data": {
      "text/plain": [
       "<class 'str'>         11743\n",
       "<class 'NoneType'>     1729\n",
       "Name: derived_ethnicity, dtype: int64"
      ]
     },
     "execution_count": 46,
     "metadata": {},
     "output_type": "execute_result"
    }
   ],
   "source": [
    "df_cr['derived_ethnicity'].map(type).value_counts()"
   ]
  },
  {
   "cell_type": "code",
   "execution_count": 47,
   "id": "eaafa52e",
   "metadata": {},
   "outputs": [],
   "source": [
    "# drop 1878 null values\n",
    "df_cr = df_cr[pd.to_numeric(df_cr['derived_ethnicity'].notnull(),errors='coerce')]"
   ]
  },
  {
   "cell_type": "code",
   "execution_count": 48,
   "id": "de90a115",
   "metadata": {},
   "outputs": [
    {
     "data": {
      "text/plain": [
       "<class 'str'>    11743\n",
       "Name: derived_ethnicity, dtype: int64"
      ]
     },
     "execution_count": 48,
     "metadata": {},
     "output_type": "execute_result"
    }
   ],
   "source": [
    "df_cr['derived_ethnicity'].map(type).value_counts()"
   ]
  },
  {
   "cell_type": "code",
   "execution_count": 49,
   "id": "29f160a2",
   "metadata": {},
   "outputs": [],
   "source": [
    "# reset index\n",
    "df_cr = df_cr.reset_index(drop = True)"
   ]
  },
  {
   "cell_type": "code",
   "execution_count": 50,
   "id": "b22f5373",
   "metadata": {},
   "outputs": [],
   "source": [
    "# change column name 'derived_ethnicity' -> 'is_not_hispanic'\n",
    "df_cr.rename(columns={'derived_ethnicity': 'is_not_hispanic'}, inplace=True)"
   ]
  },
  {
   "cell_type": "code",
   "execution_count": 51,
   "id": "a4642e52",
   "metadata": {},
   "outputs": [
    {
     "data": {
      "text/plain": [
       "<AxesSubplot:>"
      ]
     },
     "execution_count": 51,
     "metadata": {},
     "output_type": "execute_result"
    },
    {
     "data": {
      "image/png": "[encoded data removed]",
      "text/plain": [
       "<Figure size 432x288 with 1 Axes>"
      ]
     },
     "metadata": {},
     "output_type": "display_data"
    }
   ],
   "source": [
    "# explore is_not_hispanic category\n",
    "df_cr[\"is_not_hispanic\"].value_counts().plot(kind='barh')"
   ]
  },
  {
   "cell_type": "markdown",
   "id": "5fe0fdba",
   "metadata": {},
   "source": [
    "##### derived_race"
   ]
  },
  {
   "cell_type": "code",
   "execution_count": 52,
   "id": "aa0c7e96",
   "metadata": {
    "scrolled": false
   },
   "outputs": [
    {
     "data": {
      "text/plain": [
       "array(['Black or African American', 'White', 'Asian',\n",
       "       '2 or more minority races', 'Race Not Available', 'Joint',\n",
       "       'Native Hawaiian or Other Pacific Islander',\n",
       "       'American Indian or Alaska Native', 'Free Form Text Only'],\n",
       "      dtype=object)"
      ]
     },
     "execution_count": 52,
     "metadata": {},
     "output_type": "execute_result"
    }
   ],
   "source": [
    "pd.unique(df_cr['derived_race'])"
   ]
  },
  {
   "cell_type": "code",
   "execution_count": 53,
   "id": "1d37738d",
   "metadata": {},
   "outputs": [],
   "source": [
    "# Convert '2 or more minority races', 'Race Not Available','American Indian or Alaska Native', \n",
    "# 'Joint', 'Native Hawaiian or Other Pacific Islander' to 'Minority Race/(s/)'\n",
    "df_cr['derived_race'].mask((df_cr['derived_race'] == '2 or more minority races') |\n",
    "                            (df_cr['derived_race'] == 'American Indian or Alaska Native') |\n",
    "                            (df_cr['derived_race'] == 'Joint') |\n",
    "                            (df_cr['derived_race'] == 'Native Hawaiian or Other Pacific Islander'), \"Minority Races\", inplace=True)"
   ]
  },
  {
   "cell_type": "code",
   "execution_count": 54,
   "id": "57888bba",
   "metadata": {},
   "outputs": [],
   "source": [
    "df_cr['derived_race'].mask((df_cr['derived_race'] == 'Free Form Text Only') |\n",
    "                           (df_cr['derived_race'] == 'Race Not Available'), None, inplace=True)"
   ]
  },
  {
   "cell_type": "code",
   "execution_count": 55,
   "id": "0b4c90ba",
   "metadata": {
    "scrolled": false
   },
   "outputs": [
    {
     "data": {
      "text/plain": [
       "<class 'str'>         11246\n",
       "<class 'NoneType'>      497\n",
       "Name: derived_race, dtype: int64"
      ]
     },
     "execution_count": 55,
     "metadata": {},
     "output_type": "execute_result"
    }
   ],
   "source": [
    "df_cr['derived_race'].map(type).value_counts()"
   ]
  },
  {
   "cell_type": "code",
   "execution_count": 56,
   "id": "beedf00b",
   "metadata": {
    "scrolled": true
   },
   "outputs": [
    {
     "data": {
      "text/plain": [
       "array(['Black or African American', 'White', 'Asian', 'Minority Races',\n",
       "       None], dtype=object)"
      ]
     },
     "execution_count": 56,
     "metadata": {},
     "output_type": "execute_result"
    }
   ],
   "source": [
    "pd.unique(df_cr['derived_race'])"
   ]
  },
  {
   "cell_type": "code",
   "execution_count": 57,
   "id": "091e3309",
   "metadata": {},
   "outputs": [],
   "source": [
    "# drop 526 null values\n",
    "df_cr = df_cr[pd.to_numeric(df_cr['derived_race'].notnull(),errors='coerce')]"
   ]
  },
  {
   "cell_type": "code",
   "execution_count": 58,
   "id": "b480a35a",
   "metadata": {
    "scrolled": false
   },
   "outputs": [
    {
     "data": {
      "text/plain": [
       "array(['Black or African American', 'White', 'Asian', 'Minority Races'],\n",
       "      dtype=object)"
      ]
     },
     "execution_count": 58,
     "metadata": {},
     "output_type": "execute_result"
    }
   ],
   "source": [
    "pd.unique(df_cr['derived_race'])"
   ]
  },
  {
   "cell_type": "code",
   "execution_count": 59,
   "id": "2b9e1619",
   "metadata": {},
   "outputs": [],
   "source": [
    "# reset index\n",
    "df_cr = df_cr.reset_index(drop = True)"
   ]
  },
  {
   "cell_type": "code",
   "execution_count": 60,
   "id": "ed70b09e",
   "metadata": {},
   "outputs": [
    {
     "data": {
      "text/plain": [
       "<AxesSubplot:>"
      ]
     },
     "execution_count": 60,
     "metadata": {},
     "output_type": "execute_result"
    },
    {
     "data": {
      "image/png": "[encoded data removed]",
      "text/plain": [
       "<Figure size 432x288 with 1 Axes>"
      ]
     },
     "metadata": {},
     "output_type": "display_data"
    }
   ],
   "source": [
    "# explore derived_race category\n",
    "df_cr[\"derived_race\"].value_counts().plot(kind='barh')"
   ]
  },
  {
   "cell_type": "markdown",
   "id": "2a9d950b",
   "metadata": {},
   "source": [
    "##### is_male (old: derived_sex)"
   ]
  },
  {
   "cell_type": "code",
   "execution_count": 61,
   "id": "90e98210",
   "metadata": {
    "scrolled": true
   },
   "outputs": [
    {
     "data": {
      "text/plain": [
       "array(['Female', 'Male'], dtype=object)"
      ]
     },
     "execution_count": 61,
     "metadata": {},
     "output_type": "execute_result"
    }
   ],
   "source": [
    "pd.unique(df_cr['derived_sex']) # OK"
   ]
  },
  {
   "cell_type": "code",
   "execution_count": 62,
   "id": "7ca5ba57",
   "metadata": {},
   "outputs": [],
   "source": [
    "# change column name 'derived_sex' -> 'is_male'\n",
    "df_cr.rename(columns={'derived_sex': 'is_male'}, inplace=True)"
   ]
  },
  {
   "cell_type": "code",
   "execution_count": 63,
   "id": "014a85a1",
   "metadata": {},
   "outputs": [
    {
     "data": {
      "text/plain": [
       "<AxesSubplot:>"
      ]
     },
     "execution_count": 63,
     "metadata": {},
     "output_type": "execute_result"
    },
    {
     "data": {
      "image/png": "[encoded data removed]",
      "text/plain": [
       "<Figure size 432x288 with 1 Axes>"
      ]
     },
     "metadata": {},
     "output_type": "display_data"
    }
   ],
   "source": [
    "# explore is_male category\n",
    "df_cr[\"is_male\"].value_counts().plot(kind='barh')"
   ]
  },
  {
   "cell_type": "markdown",
   "id": "ce305b4d",
   "metadata": {},
   "source": [
    "##### debt_to_income_ratio \n",
    "Description: The ratio, as a percentage, of the applicant’s or borrower’s total monthly debt to the total monthly income relied on in making the credit decision"
   ]
  },
  {
   "cell_type": "code",
   "execution_count": 64,
   "id": "8e5035b9",
   "metadata": {
    "scrolled": false
   },
   "outputs": [
    {
     "data": {
      "text/plain": [
       "array(['48', '44', '38', '42', '50%-60%', '>60%', '30%-<36%', '40', '36',\n",
       "       '20%-<30%', '49', '<20%', '43', '41', '47', '46', '37', '39', '45',\n",
       "       nan], dtype=object)"
      ]
     },
     "execution_count": 64,
     "metadata": {},
     "output_type": "execute_result"
    }
   ],
   "source": [
    "pd.unique(df_cr['debt_to_income_ratio']) # should create a new column: 36% - 49%, Exempt = NaN?"
   ]
  },
  {
   "cell_type": "code",
   "execution_count": 65,
   "id": "eeadeab5",
   "metadata": {},
   "outputs": [],
   "source": [
    "df_cr[\"debt_to_income_ratio\"].replace(['48', '44', '38', '42', '40', '36', '49', '47', '43', '41', '39', '46', '37', '45'], '36%-<50%', regex=False, inplace=True)"
   ]
  },
  {
   "cell_type": "code",
   "execution_count": 66,
   "id": "cf8f868a",
   "metadata": {},
   "outputs": [],
   "source": [
    "# replace \"Exempt\" with NAs\n",
    "df_cr['debt_to_income_ratio'].mask((df_cr['debt_to_income_ratio'] == 'Exempt'), None, inplace=True)"
   ]
  },
  {
   "cell_type": "code",
   "execution_count": 67,
   "id": "1f5b5279",
   "metadata": {},
   "outputs": [],
   "source": [
    "# drop null values\n",
    "df_cr = df_cr[pd.to_numeric(df_cr['debt_to_income_ratio'].notnull(),errors='coerce')]"
   ]
  },
  {
   "cell_type": "code",
   "execution_count": 68,
   "id": "1d6e4d04",
   "metadata": {
    "scrolled": false
   },
   "outputs": [
    {
     "data": {
      "text/plain": [
       "array(['36%-<50%', '50%-60%', '>60%', '30%-<36%', '20%-<30%', '<20%'],\n",
       "      dtype=object)"
      ]
     },
     "execution_count": 68,
     "metadata": {},
     "output_type": "execute_result"
    }
   ],
   "source": [
    "pd.unique(df_cr['debt_to_income_ratio'])"
   ]
  },
  {
   "cell_type": "code",
   "execution_count": 69,
   "id": "e161ee48",
   "metadata": {},
   "outputs": [],
   "source": [
    "# reset index\n",
    "df_cr = df_cr.reset_index(drop = True)"
   ]
  },
  {
   "cell_type": "code",
   "execution_count": 70,
   "id": "4fee57db",
   "metadata": {
    "scrolled": false
   },
   "outputs": [
    {
     "data": {
      "text/plain": [
       "<AxesSubplot:>"
      ]
     },
     "execution_count": 70,
     "metadata": {},
     "output_type": "execute_result"
    },
    {
     "data": {
      "image/png": "[encoded data removed]",
      "text/plain": [
       "<Figure size 432x288 with 1 Axes>"
      ]
     },
     "metadata": {},
     "output_type": "display_data"
    }
   ],
   "source": [
    "# explore debt_to_income_ratio category\n",
    "df_cr[\"debt_to_income_ratio\"].value_counts().plot(kind='barh')"
   ]
  },
  {
   "cell_type": "markdown",
   "id": "3338a246",
   "metadata": {},
   "source": [
    "##### mid_debt_to_income_ratio  (NEW column for log reg)\n",
    "Description: Mid values (it's neither median nor average because of lack of info) of the categorical variable debt_to_income_ratio"
   ]
  },
  {
   "cell_type": "code",
   "execution_count": 71,
   "id": "5282358c",
   "metadata": {},
   "outputs": [],
   "source": [
    "conditions = [\n",
    "    df_cr['debt_to_income_ratio'] == '<20%',\n",
    "    df_cr['debt_to_income_ratio'] == '20%-<30%',\n",
    "    df_cr['debt_to_income_ratio'] == '30%-<36%',\n",
    "    df_cr['debt_to_income_ratio'] == '36%-<50%',\n",
    "    df_cr['debt_to_income_ratio'] == '50%-60%',\n",
    "    df_cr['debt_to_income_ratio'] == '>60%'\n",
    "]\n",
    "\n",
    "choices = [0.15, 0.25, 0.33, 0.38, 0.55, 0.65]\n",
    "\n",
    "df_cr['mid_debt_to_income_ratio'] = np.select(conditions, choices, default=0)"
   ]
  },
  {
   "cell_type": "code",
   "execution_count": 72,
   "id": "65d6b6e3",
   "metadata": {
    "scrolled": true
   },
   "outputs": [
    {
     "data": {
      "text/plain": [
       "<AxesSubplot:>"
      ]
     },
     "execution_count": 72,
     "metadata": {},
     "output_type": "execute_result"
    },
    {
     "data": {
      "image/png": "[encoded data removed]",
      "text/plain": [
       "<Figure size 432x288 with 1 Axes>"
      ]
     },
     "metadata": {},
     "output_type": "display_data"
    }
   ],
   "source": [
    "# explore mid_debt_to_income_ratio category\n",
    "df_cr[\"mid_debt_to_income_ratio\"].value_counts().plot(kind='barh')"
   ]
  },
  {
   "cell_type": "markdown",
   "id": "d6531934",
   "metadata": {},
   "source": [
    "##### debt  (NEW column for log reg)\n",
    "Description: debt = mid_debt_to_income_ratio * income"
   ]
  },
  {
   "cell_type": "code",
   "execution_count": 73,
   "id": "abcf4928",
   "metadata": {},
   "outputs": [],
   "source": [
    "df_cr['debt'] = np.multiply(df_cr['mid_debt_to_income_ratio'], df_cr['income'])"
   ]
  },
  {
   "cell_type": "markdown",
   "id": "7be7b76b",
   "metadata": {},
   "source": [
    "##### applicant_age"
   ]
  },
  {
   "cell_type": "code",
   "execution_count": 74,
   "id": "71bb546f",
   "metadata": {
    "scrolled": true
   },
   "outputs": [
    {
     "data": {
      "text/plain": [
       "array(['35-44', '>74', '25-34', '55-64', '45-54', '65-74', '<25', '8888'],\n",
       "      dtype=object)"
      ]
     },
     "execution_count": 74,
     "metadata": {},
     "output_type": "execute_result"
    }
   ],
   "source": [
    "pd.unique(df_cr['applicant_age']) # 8888\n",
    "# df_cr[(df_cr['applicant_age'] == '8888')] # print 4 rows with age = 8888"
   ]
  },
  {
   "cell_type": "code",
   "execution_count": 75,
   "id": "1fcded44",
   "metadata": {},
   "outputs": [],
   "source": [
    "# drop rows with 8888\n",
    "df_cr.drop(df_cr.index[df_cr['applicant_age'] == '8888'], inplace=True)"
   ]
  },
  {
   "cell_type": "code",
   "execution_count": 76,
   "id": "1a7c4991",
   "metadata": {},
   "outputs": [
    {
     "data": {
      "text/plain": [
       "array(['35-44', '>74', '25-34', '55-64', '45-54', '65-74', '<25'],\n",
       "      dtype=object)"
      ]
     },
     "execution_count": 76,
     "metadata": {},
     "output_type": "execute_result"
    }
   ],
   "source": [
    "pd.unique(df_cr['applicant_age'])"
   ]
  },
  {
   "cell_type": "code",
   "execution_count": 77,
   "id": "3f588378",
   "metadata": {},
   "outputs": [],
   "source": [
    "# reset index\n",
    "df_cr = df_cr.reset_index(drop = True)"
   ]
  },
  {
   "cell_type": "code",
   "execution_count": 78,
   "id": "809d474c",
   "metadata": {
    "scrolled": true
   },
   "outputs": [
    {
     "data": {
      "text/plain": [
       "<AxesSubplot:>"
      ]
     },
     "execution_count": 78,
     "metadata": {},
     "output_type": "execute_result"
    },
    {
     "data": {
      "image/png": "[encoded data removed]",
      "text/plain": [
       "<Figure size 432x288 with 1 Axes>"
      ]
     },
     "metadata": {},
     "output_type": "display_data"
    }
   ],
   "source": [
    "# explore applicant_age category\n",
    "df_cr[\"applicant_age\"].value_counts().plot(kind='barh')"
   ]
  },
  {
   "cell_type": "code",
   "execution_count": 79,
   "id": "b5800b58",
   "metadata": {
    "scrolled": true
   },
   "outputs": [
    {
     "name": "stdout",
     "output_type": "stream",
     "text": [
      "<class 'pandas.core.frame.DataFrame'>\n",
      "RangeIndex: 11148 entries, 0 to 11147\n",
      "Data columns (total 17 columns):\n",
      " #   Column                    Non-Null Count  Dtype  \n",
      "---  ------                    --------------  -----  \n",
      " 0   is_not_hispanic           11148 non-null  object \n",
      " 1   derived_race              11148 non-null  object \n",
      " 2   is_male                   11148 non-null  object \n",
      " 3   action_taken              11148 non-null  int64  \n",
      " 4   preapproval_requested     11148 non-null  object \n",
      " 5   loan_type                 11148 non-null  object \n",
      " 6   loan_purpose              11148 non-null  object \n",
      " 7   loan_amount               11148 non-null  float64\n",
      " 8   loan_to_value_ratio       11148 non-null  float64\n",
      " 9   interest_only_payment     11148 non-null  int64  \n",
      " 10  balloon_payment           11148 non-null  int64  \n",
      " 11  income                    11148 non-null  float64\n",
      " 12  debt_to_income_ratio      11148 non-null  object \n",
      " 13  applicant_age             11148 non-null  object \n",
      " 14  log_loan_to_value_ratio   11148 non-null  float64\n",
      " 15  mid_debt_to_income_ratio  11148 non-null  float64\n",
      " 16  debt                      11148 non-null  float64\n",
      "dtypes: float64(6), int64(3), object(8)\n",
      "memory usage: 1.4+ MB\n"
     ]
    }
   ],
   "source": [
    "# cleaned dataset info\n",
    "df_cr.info()"
   ]
  },
  {
   "cell_type": "code",
   "execution_count": 80,
   "id": "3bd68269",
   "metadata": {},
   "outputs": [
    {
     "data": {
      "text/html": [
       "<div>\n",
       "<style scoped>\n",
       "    .dataframe tbody tr th:only-of-type {\n",
       "        vertical-align: middle;\n",
       "    }\n",
       "\n",
       "    .dataframe tbody tr th {\n",
       "        vertical-align: top;\n",
       "    }\n",
       "\n",
       "    .dataframe thead th {\n",
       "        text-align: right;\n",
       "    }\n",
       "</style>\n",
       "<table border=\"1\" class=\"dataframe\">\n",
       "  <thead>\n",
       "    <tr style=\"text-align: right;\">\n",
       "      <th></th>\n",
       "      <th>is_not_hispanic</th>\n",
       "      <th>derived_race</th>\n",
       "      <th>is_male</th>\n",
       "      <th>action_taken</th>\n",
       "      <th>preapproval_requested</th>\n",
       "      <th>loan_type</th>\n",
       "      <th>loan_purpose</th>\n",
       "      <th>loan_amount</th>\n",
       "      <th>loan_to_value_ratio</th>\n",
       "      <th>interest_only_payment</th>\n",
       "      <th>balloon_payment</th>\n",
       "      <th>income</th>\n",
       "      <th>debt_to_income_ratio</th>\n",
       "      <th>applicant_age</th>\n",
       "      <th>log_loan_to_value_ratio</th>\n",
       "      <th>mid_debt_to_income_ratio</th>\n",
       "      <th>debt</th>\n",
       "    </tr>\n",
       "  </thead>\n",
       "  <tbody>\n",
       "    <tr>\n",
       "      <th>0</th>\n",
       "      <td>Not Hispanic or Latino</td>\n",
       "      <td>Black or African American</td>\n",
       "      <td>Female</td>\n",
       "      <td>1</td>\n",
       "      <td>No Preapproval Requested</td>\n",
       "      <td>Converntional</td>\n",
       "      <td>Refinancing</td>\n",
       "      <td>105000.0</td>\n",
       "      <td>75.00</td>\n",
       "      <td>2</td>\n",
       "      <td>2</td>\n",
       "      <td>91.0</td>\n",
       "      <td>36%-&lt;50%</td>\n",
       "      <td>35-44</td>\n",
       "      <td>6.228819</td>\n",
       "      <td>0.38</td>\n",
       "      <td>34.58</td>\n",
       "    </tr>\n",
       "    <tr>\n",
       "      <th>1</th>\n",
       "      <td>Not Hispanic or Latino</td>\n",
       "      <td>Black or African American</td>\n",
       "      <td>Female</td>\n",
       "      <td>0</td>\n",
       "      <td>No Preapproval Requested</td>\n",
       "      <td>Converntional</td>\n",
       "      <td>Refinancing</td>\n",
       "      <td>275000.0</td>\n",
       "      <td>52.38</td>\n",
       "      <td>2</td>\n",
       "      <td>2</td>\n",
       "      <td>142.0</td>\n",
       "      <td>36%-&lt;50%</td>\n",
       "      <td>&gt;74</td>\n",
       "      <td>5.710944</td>\n",
       "      <td>0.38</td>\n",
       "      <td>53.96</td>\n",
       "    </tr>\n",
       "    <tr>\n",
       "      <th>2</th>\n",
       "      <td>Hispanic or Latino</td>\n",
       "      <td>White</td>\n",
       "      <td>Male</td>\n",
       "      <td>0</td>\n",
       "      <td>No Preapproval Requested</td>\n",
       "      <td>Converntional</td>\n",
       "      <td>Home Purchase</td>\n",
       "      <td>235000.0</td>\n",
       "      <td>80.00</td>\n",
       "      <td>2</td>\n",
       "      <td>2</td>\n",
       "      <td>60.0</td>\n",
       "      <td>36%-&lt;50%</td>\n",
       "      <td>35-44</td>\n",
       "      <td>6.321928</td>\n",
       "      <td>0.38</td>\n",
       "      <td>22.80</td>\n",
       "    </tr>\n",
       "    <tr>\n",
       "      <th>3</th>\n",
       "      <td>Not Hispanic or Latino</td>\n",
       "      <td>White</td>\n",
       "      <td>Male</td>\n",
       "      <td>1</td>\n",
       "      <td>No Preapproval Requested</td>\n",
       "      <td>Converntional</td>\n",
       "      <td>Home Purchase</td>\n",
       "      <td>465000.0</td>\n",
       "      <td>94.69</td>\n",
       "      <td>2</td>\n",
       "      <td>2</td>\n",
       "      <td>112.0</td>\n",
       "      <td>36%-&lt;50%</td>\n",
       "      <td>35-44</td>\n",
       "      <td>6.565140</td>\n",
       "      <td>0.38</td>\n",
       "      <td>42.56</td>\n",
       "    </tr>\n",
       "    <tr>\n",
       "      <th>4</th>\n",
       "      <td>Not Hispanic or Latino</td>\n",
       "      <td>Black or African American</td>\n",
       "      <td>Male</td>\n",
       "      <td>1</td>\n",
       "      <td>Preapproval Requested</td>\n",
       "      <td>VA-guaranteed</td>\n",
       "      <td>Home Purchase</td>\n",
       "      <td>415000.0</td>\n",
       "      <td>100.00</td>\n",
       "      <td>2</td>\n",
       "      <td>2</td>\n",
       "      <td>83.0</td>\n",
       "      <td>50%-60%</td>\n",
       "      <td>25-34</td>\n",
       "      <td>6.643856</td>\n",
       "      <td>0.55</td>\n",
       "      <td>45.65</td>\n",
       "    </tr>\n",
       "    <tr>\n",
       "      <th>...</th>\n",
       "      <td>...</td>\n",
       "      <td>...</td>\n",
       "      <td>...</td>\n",
       "      <td>...</td>\n",
       "      <td>...</td>\n",
       "      <td>...</td>\n",
       "      <td>...</td>\n",
       "      <td>...</td>\n",
       "      <td>...</td>\n",
       "      <td>...</td>\n",
       "      <td>...</td>\n",
       "      <td>...</td>\n",
       "      <td>...</td>\n",
       "      <td>...</td>\n",
       "      <td>...</td>\n",
       "      <td>...</td>\n",
       "      <td>...</td>\n",
       "    </tr>\n",
       "    <tr>\n",
       "      <th>11143</th>\n",
       "      <td>Hispanic or Latino</td>\n",
       "      <td>White</td>\n",
       "      <td>Male</td>\n",
       "      <td>0</td>\n",
       "      <td>No Preapproval Requested</td>\n",
       "      <td>Converntional</td>\n",
       "      <td>Refinancing</td>\n",
       "      <td>225000.0</td>\n",
       "      <td>75.00</td>\n",
       "      <td>2</td>\n",
       "      <td>2</td>\n",
       "      <td>76.0</td>\n",
       "      <td>&gt;60%</td>\n",
       "      <td>55-64</td>\n",
       "      <td>6.228819</td>\n",
       "      <td>0.65</td>\n",
       "      <td>49.40</td>\n",
       "    </tr>\n",
       "    <tr>\n",
       "      <th>11144</th>\n",
       "      <td>Not Hispanic or Latino</td>\n",
       "      <td>Black or African American</td>\n",
       "      <td>Male</td>\n",
       "      <td>1</td>\n",
       "      <td>No Preapproval Requested</td>\n",
       "      <td>Converntional</td>\n",
       "      <td>Home Purchase</td>\n",
       "      <td>345000.0</td>\n",
       "      <td>80.00</td>\n",
       "      <td>2</td>\n",
       "      <td>2</td>\n",
       "      <td>168.0</td>\n",
       "      <td>36%-&lt;50%</td>\n",
       "      <td>25-34</td>\n",
       "      <td>6.321928</td>\n",
       "      <td>0.38</td>\n",
       "      <td>63.84</td>\n",
       "    </tr>\n",
       "    <tr>\n",
       "      <th>11145</th>\n",
       "      <td>Not Hispanic or Latino</td>\n",
       "      <td>Black or African American</td>\n",
       "      <td>Male</td>\n",
       "      <td>0</td>\n",
       "      <td>No Preapproval Requested</td>\n",
       "      <td>Converntional</td>\n",
       "      <td>Refinancing</td>\n",
       "      <td>385000.0</td>\n",
       "      <td>75.00</td>\n",
       "      <td>2</td>\n",
       "      <td>2</td>\n",
       "      <td>160.0</td>\n",
       "      <td>36%-&lt;50%</td>\n",
       "      <td>25-34</td>\n",
       "      <td>6.228819</td>\n",
       "      <td>0.38</td>\n",
       "      <td>60.80</td>\n",
       "    </tr>\n",
       "    <tr>\n",
       "      <th>11146</th>\n",
       "      <td>Not Hispanic or Latino</td>\n",
       "      <td>White</td>\n",
       "      <td>Male</td>\n",
       "      <td>1</td>\n",
       "      <td>No Preapproval Requested</td>\n",
       "      <td>Converntional</td>\n",
       "      <td>Refinancing</td>\n",
       "      <td>655000.0</td>\n",
       "      <td>77.00</td>\n",
       "      <td>2</td>\n",
       "      <td>2</td>\n",
       "      <td>150.0</td>\n",
       "      <td>36%-&lt;50%</td>\n",
       "      <td>55-64</td>\n",
       "      <td>6.266787</td>\n",
       "      <td>0.38</td>\n",
       "      <td>57.00</td>\n",
       "    </tr>\n",
       "    <tr>\n",
       "      <th>11147</th>\n",
       "      <td>Not Hispanic or Latino</td>\n",
       "      <td>Black or African American</td>\n",
       "      <td>Male</td>\n",
       "      <td>1</td>\n",
       "      <td>No Preapproval Requested</td>\n",
       "      <td>Converntional</td>\n",
       "      <td>Refinancing</td>\n",
       "      <td>475000.0</td>\n",
       "      <td>65.00</td>\n",
       "      <td>2</td>\n",
       "      <td>2</td>\n",
       "      <td>173.0</td>\n",
       "      <td>36%-&lt;50%</td>\n",
       "      <td>25-34</td>\n",
       "      <td>6.022368</td>\n",
       "      <td>0.38</td>\n",
       "      <td>65.74</td>\n",
       "    </tr>\n",
       "  </tbody>\n",
       "</table>\n",
       "<p>11148 rows × 17 columns</p>\n",
       "</div>"
      ],
      "text/plain": [
       "              is_not_hispanic               derived_race is_male  \\\n",
       "0      Not Hispanic or Latino  Black or African American  Female   \n",
       "1      Not Hispanic or Latino  Black or African American  Female   \n",
       "2          Hispanic or Latino                      White    Male   \n",
       "3      Not Hispanic or Latino                      White    Male   \n",
       "4      Not Hispanic or Latino  Black or African American    Male   \n",
       "...                       ...                        ...     ...   \n",
       "11143      Hispanic or Latino                      White    Male   \n",
       "11144  Not Hispanic or Latino  Black or African American    Male   \n",
       "11145  Not Hispanic or Latino  Black or African American    Male   \n",
       "11146  Not Hispanic or Latino                      White    Male   \n",
       "11147  Not Hispanic or Latino  Black or African American    Male   \n",
       "\n",
       "       action_taken     preapproval_requested      loan_type   loan_purpose  \\\n",
       "0                 1  No Preapproval Requested  Converntional    Refinancing   \n",
       "1                 0  No Preapproval Requested  Converntional    Refinancing   \n",
       "2                 0  No Preapproval Requested  Converntional  Home Purchase   \n",
       "3                 1  No Preapproval Requested  Converntional  Home Purchase   \n",
       "4                 1     Preapproval Requested  VA-guaranteed  Home Purchase   \n",
       "...             ...                       ...            ...            ...   \n",
       "11143             0  No Preapproval Requested  Converntional    Refinancing   \n",
       "11144             1  No Preapproval Requested  Converntional  Home Purchase   \n",
       "11145             0  No Preapproval Requested  Converntional    Refinancing   \n",
       "11146             1  No Preapproval Requested  Converntional    Refinancing   \n",
       "11147             1  No Preapproval Requested  Converntional    Refinancing   \n",
       "\n",
       "       loan_amount  loan_to_value_ratio  interest_only_payment  \\\n",
       "0         105000.0                75.00                      2   \n",
       "1         275000.0                52.38                      2   \n",
       "2         235000.0                80.00                      2   \n",
       "3         465000.0                94.69                      2   \n",
       "4         415000.0               100.00                      2   \n",
       "...            ...                  ...                    ...   \n",
       "11143     225000.0                75.00                      2   \n",
       "11144     345000.0                80.00                      2   \n",
       "11145     385000.0                75.00                      2   \n",
       "11146     655000.0                77.00                      2   \n",
       "11147     475000.0                65.00                      2   \n",
       "\n",
       "       balloon_payment  income debt_to_income_ratio applicant_age  \\\n",
       "0                    2    91.0             36%-<50%         35-44   \n",
       "1                    2   142.0             36%-<50%           >74   \n",
       "2                    2    60.0             36%-<50%         35-44   \n",
       "3                    2   112.0             36%-<50%         35-44   \n",
       "4                    2    83.0              50%-60%         25-34   \n",
       "...                ...     ...                  ...           ...   \n",
       "11143                2    76.0                 >60%         55-64   \n",
       "11144                2   168.0             36%-<50%         25-34   \n",
       "11145                2   160.0             36%-<50%         25-34   \n",
       "11146                2   150.0             36%-<50%         55-64   \n",
       "11147                2   173.0             36%-<50%         25-34   \n",
       "\n",
       "       log_loan_to_value_ratio  mid_debt_to_income_ratio   debt  \n",
       "0                     6.228819                      0.38  34.58  \n",
       "1                     5.710944                      0.38  53.96  \n",
       "2                     6.321928                      0.38  22.80  \n",
       "3                     6.565140                      0.38  42.56  \n",
       "4                     6.643856                      0.55  45.65  \n",
       "...                        ...                       ...    ...  \n",
       "11143                 6.228819                      0.65  49.40  \n",
       "11144                 6.321928                      0.38  63.84  \n",
       "11145                 6.228819                      0.38  60.80  \n",
       "11146                 6.266787                      0.38  57.00  \n",
       "11147                 6.022368                      0.38  65.74  \n",
       "\n",
       "[11148 rows x 17 columns]"
      ]
     },
     "execution_count": 80,
     "metadata": {},
     "output_type": "execute_result"
    }
   ],
   "source": [
    "df_cr"
   ]
  },
  {
   "cell_type": "markdown",
   "id": "3ac48b8d",
   "metadata": {},
   "source": [
    "#### Understand Numerical Feature Distribution\n",
    "##### loan_amount, loan_to_value_ratio, income"
   ]
  },
  {
   "cell_type": "code",
   "execution_count": 81,
   "id": "e609c87e",
   "metadata": {
    "scrolled": true
   },
   "outputs": [
    {
     "data": {
      "text/plain": [
       "<AxesSubplot:xlabel='action_taken', ylabel='income'>"
      ]
     },
     "execution_count": 81,
     "metadata": {},
     "output_type": "execute_result"
    },
    {
     "data": {
      "image/png": "[encoded data removed]",
      "text/plain": [
       "<Figure size 1008x504 with 3 Axes>"
      ]
     },
     "metadata": {},
     "output_type": "display_data"
    }
   ],
   "source": [
    "_,axs = plt.subplots(1,3, figsize=[14,7])\n",
    "_.title = \"title\"\n",
    "sns.boxplot(x='action_taken', y='loan_amount', data=df_cr, ax=axs[0])\n",
    "sns.boxplot(x='action_taken', y='loan_to_value_ratio', data=df_cr, ax=axs[1])\n",
    "sns.boxplot(x='action_taken', y='income', data=df_cr, ax=axs[2])"
   ]
  },
  {
   "cell_type": "markdown",
   "id": "3108fde1",
   "metadata": {},
   "source": [
    "#### Understand Categorical Feature Distribution\n",
    "##### derived_ethnicity, derived_race, interest_only_payment, balloon_payment, derived_sex, preapproval, loan_type,  loan_purpose"
   ]
  },
  {
   "cell_type": "code",
   "execution_count": 82,
   "id": "ea040280",
   "metadata": {},
   "outputs": [
    {
     "data": {
      "text/plain": [
       "<AxesSubplot:xlabel='action_taken', ylabel='count'>"
      ]
     },
     "execution_count": 82,
     "metadata": {},
     "output_type": "execute_result"
    },
    {
     "data": {
      "image/png": "[encoded data removed]",
      "text/plain": [
       "<Figure size 864x432 with 2 Axes>"
      ]
     },
     "metadata": {},
     "output_type": "display_data"
    }
   ],
   "source": [
    " _,axss = plt.subplots(1,2, figsize=[12,6])\n",
    "sns.countplot(x='action_taken', hue='is_not_hispanic', data=df_cr, ax=axss[0])\n",
    "sns.countplot(x='action_taken', hue='derived_race', data=df_cr, ax=axss[1])"
   ]
  },
  {
   "cell_type": "code",
   "execution_count": 83,
   "id": "450d987c",
   "metadata": {
    "scrolled": true
   },
   "outputs": [
    {
     "data": {
      "text/plain": [
       "<AxesSubplot:xlabel='action_taken', ylabel='count'>"
      ]
     },
     "execution_count": 83,
     "metadata": {},
     "output_type": "execute_result"
    },
    {
     "data": {
      "image/png": "[encoded data removed]",
      "text/plain": [
       "<Figure size 864x432 with 4 Axes>"
      ]
     },
     "metadata": {},
     "output_type": "display_data"
    }
   ],
   "source": [
    "_,axss = plt.subplots(2,2, figsize=[12,6])\n",
    "sns.countplot(x='action_taken', hue='interest_only_payment', data=df_cr, ax=axss[0][0])\n",
    "sns.countplot(x='action_taken', hue='balloon_payment', data=df_cr, ax=axss[0][1])\n",
    "sns.countplot(x='action_taken', hue='is_male', data=df_cr, ax=axss[1][0])\n",
    "sns.countplot(x='action_taken', hue='preapproval_requested', data=df_cr, ax=axss[1][1])"
   ]
  },
  {
   "cell_type": "code",
   "execution_count": 84,
   "id": "454a7916",
   "metadata": {},
   "outputs": [
    {
     "data": {
      "text/plain": [
       "<AxesSubplot:xlabel='action_taken', ylabel='count'>"
      ]
     },
     "execution_count": 84,
     "metadata": {},
     "output_type": "execute_result"
    },
    {
     "data": {
      "image/png": "[encoded data removed]",
      "text/plain": [
       "<Figure size 864x432 with 2 Axes>"
      ]
     },
     "metadata": {},
     "output_type": "display_data"
    }
   ],
   "source": [
    "_,axss = plt.subplots(1,2, figsize=[12,6])\n",
    "sns.countplot(x='action_taken', hue='loan_type', data=df_cr, ax=axss[0])\n",
    "sns.countplot(x='action_taken', hue='loan_purpose', data=df_cr, ax=axss[1])"
   ]
  },
  {
   "cell_type": "code",
   "execution_count": 85,
   "id": "53e0b785",
   "metadata": {
    "scrolled": true
   },
   "outputs": [
    {
     "data": {
      "text/plain": [
       "<AxesSubplot:xlabel='action_taken', ylabel='count'>"
      ]
     },
     "execution_count": 85,
     "metadata": {},
     "output_type": "execute_result"
    },
    {
     "data": {
      "image/png": "[encoded data removed]",
      "text/plain": [
       "<Figure size 864x432 with 2 Axes>"
      ]
     },
     "metadata": {},
     "output_type": "display_data"
    }
   ],
   "source": [
    "_,axss = plt.subplots(1,2, figsize=[12,6])\n",
    "sns.countplot(x='action_taken', hue='debt_to_income_ratio', data=df_cr, ax=axss[0])\n",
    "sns.countplot(x='action_taken', hue='applicant_age', data=df_cr, ax=axss[1])"
   ]
  },
  {
   "cell_type": "code",
   "execution_count": 86,
   "id": "e5003d95",
   "metadata": {},
   "outputs": [],
   "source": [
    "# df_cr.to_csv('data/Clean_Mortgage_Lending.csv')"
   ]
  },
  {
   "cell_type": "markdown",
   "id": "6e9e7ddf",
   "metadata": {},
   "source": [
    "# Part 2: Feature Preprocessing"
   ]
  },
  {
   "cell_type": "code",
   "execution_count": 87,
   "id": "013b12b5",
   "metadata": {},
   "outputs": [],
   "source": [
    "from sklearn import model_selection\n",
    "from sklearn.preprocessing import OneHotEncoder\n",
    "from sklearn.preprocessing import OrdinalEncoder\n",
    "from sklearn.preprocessing import StandardScaler"
   ]
  },
  {
   "cell_type": "markdown",
   "id": "8c83a961",
   "metadata": {},
   "source": [
    "### Split Data"
   ]
  },
  {
   "cell_type": "code",
   "execution_count": 88,
   "id": "101bd852",
   "metadata": {},
   "outputs": [],
   "source": [
    "to_drop = ['action_taken']\n",
    "X = df_cr.drop(to_drop, axis = 1)\n",
    "# target variable\n",
    "y = df_cr['action_taken']"
   ]
  },
  {
   "cell_type": "code",
   "execution_count": 89,
   "id": "e8e674c5",
   "metadata": {},
   "outputs": [
    {
     "name": "stdout",
     "output_type": "stream",
     "text": [
      "training data has 8361 observation with 16 features\n",
      "test data has 2787 observation with 16 features\n"
     ]
    }
   ],
   "source": [
    "# Splite data into training and testing\n",
    "# 100 -> 75:y=1, 25:y=0\n",
    "# training(80): 60 y=1; 20 y=0 \n",
    "# testing(20):  15 y=1; 5 y=0\n",
    "\n",
    "# Reserve 25% for testing\n",
    "# stratify example:\n",
    "# 100 -> y: 80 '0', 20 '1' -> 4:1\n",
    "# 80% training 64: '0', 16:'1' -> 4:1\n",
    "# 20% testing  16:'0', 4: '1' -> 4:1\n",
    "X_train, X_test, y_train, y_test = model_selection.train_test_split(X, y, test_size=0.25, stratify = y, random_state=1) #stratified sampling\n",
    "\n",
    "print('training data has ' + str(X_train.shape[0]) + ' observation with ' + str(X_train.shape[1]) + ' features')\n",
    "print('test data has ' + str(X_test.shape[0]) + ' observation with ' + str(X_test.shape[1]) + ' features')"
   ]
  },
  {
   "cell_type": "code",
   "execution_count": 90,
   "id": "6345f00b",
   "metadata": {
    "scrolled": true
   },
   "outputs": [
    {
     "data": {
      "text/html": [
       "<div>\n",
       "<style scoped>\n",
       "    .dataframe tbody tr th:only-of-type {\n",
       "        vertical-align: middle;\n",
       "    }\n",
       "\n",
       "    .dataframe tbody tr th {\n",
       "        vertical-align: top;\n",
       "    }\n",
       "\n",
       "    .dataframe thead th {\n",
       "        text-align: right;\n",
       "    }\n",
       "</style>\n",
       "<table border=\"1\" class=\"dataframe\">\n",
       "  <thead>\n",
       "    <tr style=\"text-align: right;\">\n",
       "      <th></th>\n",
       "      <th>is_not_hispanic</th>\n",
       "      <th>derived_race</th>\n",
       "      <th>is_male</th>\n",
       "      <th>preapproval_requested</th>\n",
       "      <th>loan_type</th>\n",
       "      <th>loan_purpose</th>\n",
       "      <th>loan_amount</th>\n",
       "      <th>loan_to_value_ratio</th>\n",
       "      <th>interest_only_payment</th>\n",
       "      <th>balloon_payment</th>\n",
       "      <th>income</th>\n",
       "      <th>debt_to_income_ratio</th>\n",
       "      <th>applicant_age</th>\n",
       "      <th>log_loan_to_value_ratio</th>\n",
       "      <th>mid_debt_to_income_ratio</th>\n",
       "      <th>debt</th>\n",
       "    </tr>\n",
       "  </thead>\n",
       "  <tbody>\n",
       "    <tr>\n",
       "      <th>3117</th>\n",
       "      <td>Not Hispanic or Latino</td>\n",
       "      <td>White</td>\n",
       "      <td>Female</td>\n",
       "      <td>No Preapproval Requested</td>\n",
       "      <td>Converntional</td>\n",
       "      <td>Home Purchase</td>\n",
       "      <td>295000.0</td>\n",
       "      <td>95.000</td>\n",
       "      <td>2</td>\n",
       "      <td>2</td>\n",
       "      <td>76.0</td>\n",
       "      <td>36%-&lt;50%</td>\n",
       "      <td>35-44</td>\n",
       "      <td>6.569856</td>\n",
       "      <td>0.38</td>\n",
       "      <td>28.88</td>\n",
       "    </tr>\n",
       "    <tr>\n",
       "      <th>9496</th>\n",
       "      <td>Not Hispanic or Latino</td>\n",
       "      <td>Black or African American</td>\n",
       "      <td>Female</td>\n",
       "      <td>No Preapproval Requested</td>\n",
       "      <td>Converntional</td>\n",
       "      <td>Home Improvement</td>\n",
       "      <td>165000.0</td>\n",
       "      <td>63.218</td>\n",
       "      <td>2</td>\n",
       "      <td>2</td>\n",
       "      <td>102.0</td>\n",
       "      <td>20%-&lt;30%</td>\n",
       "      <td>45-54</td>\n",
       "      <td>5.982263</td>\n",
       "      <td>0.25</td>\n",
       "      <td>25.50</td>\n",
       "    </tr>\n",
       "    <tr>\n",
       "      <th>153</th>\n",
       "      <td>Not Hispanic or Latino</td>\n",
       "      <td>Black or African American</td>\n",
       "      <td>Female</td>\n",
       "      <td>No Preapproval Requested</td>\n",
       "      <td>Converntional</td>\n",
       "      <td>Refinancing</td>\n",
       "      <td>105000.0</td>\n",
       "      <td>58.900</td>\n",
       "      <td>2</td>\n",
       "      <td>2</td>\n",
       "      <td>115.0</td>\n",
       "      <td>36%-&lt;50%</td>\n",
       "      <td>25-34</td>\n",
       "      <td>5.880196</td>\n",
       "      <td>0.38</td>\n",
       "      <td>43.70</td>\n",
       "    </tr>\n",
       "    <tr>\n",
       "      <th>10699</th>\n",
       "      <td>Not Hispanic or Latino</td>\n",
       "      <td>Black or African American</td>\n",
       "      <td>Female</td>\n",
       "      <td>No Preapproval Requested</td>\n",
       "      <td>FHA-insured</td>\n",
       "      <td>Refinancing</td>\n",
       "      <td>125000.0</td>\n",
       "      <td>29.412</td>\n",
       "      <td>2</td>\n",
       "      <td>2</td>\n",
       "      <td>26.0</td>\n",
       "      <td>50%-60%</td>\n",
       "      <td>55-64</td>\n",
       "      <td>4.878333</td>\n",
       "      <td>0.55</td>\n",
       "      <td>14.30</td>\n",
       "    </tr>\n",
       "    <tr>\n",
       "      <th>10126</th>\n",
       "      <td>Not Hispanic or Latino</td>\n",
       "      <td>White</td>\n",
       "      <td>Female</td>\n",
       "      <td>No Preapproval Requested</td>\n",
       "      <td>Converntional</td>\n",
       "      <td>Home Purchase</td>\n",
       "      <td>265000.0</td>\n",
       "      <td>80.000</td>\n",
       "      <td>2</td>\n",
       "      <td>2</td>\n",
       "      <td>94.0</td>\n",
       "      <td>20%-&lt;30%</td>\n",
       "      <td>25-34</td>\n",
       "      <td>6.321928</td>\n",
       "      <td>0.25</td>\n",
       "      <td>23.50</td>\n",
       "    </tr>\n",
       "  </tbody>\n",
       "</table>\n",
       "</div>"
      ],
      "text/plain": [
       "              is_not_hispanic               derived_race is_male  \\\n",
       "3117   Not Hispanic or Latino                      White  Female   \n",
       "9496   Not Hispanic or Latino  Black or African American  Female   \n",
       "153    Not Hispanic or Latino  Black or African American  Female   \n",
       "10699  Not Hispanic or Latino  Black or African American  Female   \n",
       "10126  Not Hispanic or Latino                      White  Female   \n",
       "\n",
       "          preapproval_requested      loan_type      loan_purpose  loan_amount  \\\n",
       "3117   No Preapproval Requested  Converntional     Home Purchase     295000.0   \n",
       "9496   No Preapproval Requested  Converntional  Home Improvement     165000.0   \n",
       "153    No Preapproval Requested  Converntional       Refinancing     105000.0   \n",
       "10699  No Preapproval Requested    FHA-insured       Refinancing     125000.0   \n",
       "10126  No Preapproval Requested  Converntional     Home Purchase     265000.0   \n",
       "\n",
       "       loan_to_value_ratio  interest_only_payment  balloon_payment  income  \\\n",
       "3117                95.000                      2                2    76.0   \n",
       "9496                63.218                      2                2   102.0   \n",
       "153                 58.900                      2                2   115.0   \n",
       "10699               29.412                      2                2    26.0   \n",
       "10126               80.000                      2                2    94.0   \n",
       "\n",
       "      debt_to_income_ratio applicant_age  log_loan_to_value_ratio  \\\n",
       "3117              36%-<50%         35-44                 6.569856   \n",
       "9496              20%-<30%         45-54                 5.982263   \n",
       "153               36%-<50%         25-34                 5.880196   \n",
       "10699              50%-60%         55-64                 4.878333   \n",
       "10126             20%-<30%         25-34                 6.321928   \n",
       "\n",
       "       mid_debt_to_income_ratio   debt  \n",
       "3117                       0.38  28.88  \n",
       "9496                       0.25  25.50  \n",
       "153                        0.38  43.70  \n",
       "10699                      0.55  14.30  \n",
       "10126                      0.25  23.50  "
      ]
     },
     "execution_count": 90,
     "metadata": {},
     "output_type": "execute_result"
    }
   ],
   "source": [
    "X_train.head()"
   ]
  },
  {
   "cell_type": "code",
   "execution_count": 91,
   "id": "b6928b1c",
   "metadata": {},
   "outputs": [
    {
     "data": {
      "text/plain": [
       "is_not_hispanic              object\n",
       "derived_race                 object\n",
       "is_male                      object\n",
       "preapproval_requested        object\n",
       "loan_type                    object\n",
       "loan_purpose                 object\n",
       "loan_amount                 float64\n",
       "loan_to_value_ratio         float64\n",
       "interest_only_payment         int64\n",
       "balloon_payment               int64\n",
       "income                      float64\n",
       "debt_to_income_ratio         object\n",
       "applicant_age                object\n",
       "log_loan_to_value_ratio     float64\n",
       "mid_debt_to_income_ratio    float64\n",
       "debt                        float64\n",
       "dtype: object"
      ]
     },
     "execution_count": 91,
     "metadata": {},
     "output_type": "execute_result"
    }
   ],
   "source": [
    "X.dtypes"
   ]
  },
  {
   "cell_type": "code",
   "execution_count": 92,
   "id": "90226299",
   "metadata": {},
   "outputs": [],
   "source": [
    "cat_cols = X.columns[X.dtypes == 'object']\n",
    "num_cols = X.columns[(X.dtypes == 'float64') | (X.dtypes == 'int64')]"
   ]
  },
  {
   "cell_type": "code",
   "execution_count": 93,
   "id": "815f1e5c",
   "metadata": {},
   "outputs": [
    {
     "data": {
      "text/plain": [
       "Index(['loan_amount', 'loan_to_value_ratio', 'interest_only_payment',\n",
       "       'balloon_payment', 'income', 'log_loan_to_value_ratio',\n",
       "       'mid_debt_to_income_ratio', 'debt'],\n",
       "      dtype='object')"
      ]
     },
     "execution_count": 93,
     "metadata": {},
     "output_type": "execute_result"
    }
   ],
   "source": [
    "num_cols"
   ]
  },
  {
   "cell_type": "code",
   "execution_count": 94,
   "id": "4516520a",
   "metadata": {
    "scrolled": true
   },
   "outputs": [
    {
     "data": {
      "text/plain": [
       "Index(['is_not_hispanic', 'derived_race', 'is_male', 'preapproval_requested',\n",
       "       'loan_type', 'loan_purpose', 'debt_to_income_ratio', 'applicant_age'],\n",
       "      dtype='object')"
      ]
     },
     "execution_count": 94,
     "metadata": {},
     "output_type": "execute_result"
    }
   ],
   "source": [
    "cat_cols"
   ]
  },
  {
   "cell_type": "code",
   "execution_count": 96,
   "id": "35ce1ff4",
   "metadata": {},
   "outputs": [],
   "source": [
    "X_train.to_csv('data/X_train.csv', index = False)\n",
    "y_train.to_csv('data/y_train.csv', index = False)\n",
    "\n",
    "X_test.to_csv('data/X_test.csv', index = False)\n",
    "y_test.to_csv('data/y_test.csv', index = False)"
   ]
  },
  {
   "cell_type": "markdown",
   "id": "02cd7c10",
   "metadata": {},
   "source": [
    "### One Hot, Oridinary Encoding, Standarization"
   ]
  },
  {
   "cell_type": "code",
   "execution_count": 304,
   "id": "eadb267b",
   "metadata": {},
   "outputs": [],
   "source": [
    "# One hot encoding (for categorical features with more than two categories itself (i.e. not 0 and 1))\n",
    "\n",
    "def OneHotEncoding(df, enc, categories):  \n",
    "  transformed = pd.DataFrame(enc.transform(df[categories]).toarray(), columns=enc.get_feature_names(categories))\n",
    "  return pd.concat([df.reset_index(drop=True), transformed], axis=1).drop(categories, axis=1)\n",
    "\n",
    "categories = ['derived_race', 'debt_to_income_ratio', 'applicant_age', 'loan_type', 'loan_purpose']\n",
    "enc_ohe = OneHotEncoder()\n",
    "enc_ohe.fit(X_train[categories])\n",
    "\n",
    "X_train = OneHotEncoding(X_train, enc_ohe, categories)\n",
    "X_test = OneHotEncoding(X_test, enc_ohe, categories)"
   ]
  },
  {
   "cell_type": "code",
   "execution_count": 305,
   "id": "ac493e6d",
   "metadata": {
    "scrolled": true
   },
   "outputs": [
    {
     "data": {
      "text/html": [
       "<div>\n",
       "<style scoped>\n",
       "    .dataframe tbody tr th:only-of-type {\n",
       "        vertical-align: middle;\n",
       "    }\n",
       "\n",
       "    .dataframe tbody tr th {\n",
       "        vertical-align: top;\n",
       "    }\n",
       "\n",
       "    .dataframe thead th {\n",
       "        text-align: right;\n",
       "    }\n",
       "</style>\n",
       "<table border=\"1\" class=\"dataframe\">\n",
       "  <thead>\n",
       "    <tr style=\"text-align: right;\">\n",
       "      <th></th>\n",
       "      <th>is_not_hispanic</th>\n",
       "      <th>is_male</th>\n",
       "      <th>preapproval_requested</th>\n",
       "      <th>loan_amount</th>\n",
       "      <th>loan_to_value_ratio</th>\n",
       "      <th>interest_only_payment</th>\n",
       "      <th>balloon_payment</th>\n",
       "      <th>income</th>\n",
       "      <th>log_loan_to_value_ratio</th>\n",
       "      <th>mid_debt_to_income_ratio</th>\n",
       "      <th>...</th>\n",
       "      <th>applicant_age_65-74</th>\n",
       "      <th>applicant_age_&lt;25</th>\n",
       "      <th>applicant_age_&gt;74</th>\n",
       "      <th>loan_type_Converntional</th>\n",
       "      <th>loan_type_FHA-insured</th>\n",
       "      <th>loan_type_VA-guaranteed</th>\n",
       "      <th>loan_purpose_Home Improvement</th>\n",
       "      <th>loan_purpose_Home Purchase</th>\n",
       "      <th>loan_purpose_Other Purpose</th>\n",
       "      <th>loan_purpose_Refinancing</th>\n",
       "    </tr>\n",
       "  </thead>\n",
       "  <tbody>\n",
       "    <tr>\n",
       "      <th>0</th>\n",
       "      <td>Not Hispanic or Latino</td>\n",
       "      <td>Female</td>\n",
       "      <td>No Preapproval Requested</td>\n",
       "      <td>295000.0</td>\n",
       "      <td>95.000</td>\n",
       "      <td>2</td>\n",
       "      <td>2</td>\n",
       "      <td>76.0</td>\n",
       "      <td>6.569856</td>\n",
       "      <td>0.38</td>\n",
       "      <td>...</td>\n",
       "      <td>0.0</td>\n",
       "      <td>0.0</td>\n",
       "      <td>0.0</td>\n",
       "      <td>1.0</td>\n",
       "      <td>0.0</td>\n",
       "      <td>0.0</td>\n",
       "      <td>0.0</td>\n",
       "      <td>1.0</td>\n",
       "      <td>0.0</td>\n",
       "      <td>0.0</td>\n",
       "    </tr>\n",
       "    <tr>\n",
       "      <th>1</th>\n",
       "      <td>Not Hispanic or Latino</td>\n",
       "      <td>Female</td>\n",
       "      <td>No Preapproval Requested</td>\n",
       "      <td>165000.0</td>\n",
       "      <td>63.218</td>\n",
       "      <td>2</td>\n",
       "      <td>2</td>\n",
       "      <td>102.0</td>\n",
       "      <td>5.982263</td>\n",
       "      <td>0.25</td>\n",
       "      <td>...</td>\n",
       "      <td>0.0</td>\n",
       "      <td>0.0</td>\n",
       "      <td>0.0</td>\n",
       "      <td>1.0</td>\n",
       "      <td>0.0</td>\n",
       "      <td>0.0</td>\n",
       "      <td>1.0</td>\n",
       "      <td>0.0</td>\n",
       "      <td>0.0</td>\n",
       "      <td>0.0</td>\n",
       "    </tr>\n",
       "    <tr>\n",
       "      <th>2</th>\n",
       "      <td>Not Hispanic or Latino</td>\n",
       "      <td>Female</td>\n",
       "      <td>No Preapproval Requested</td>\n",
       "      <td>105000.0</td>\n",
       "      <td>58.900</td>\n",
       "      <td>2</td>\n",
       "      <td>2</td>\n",
       "      <td>115.0</td>\n",
       "      <td>5.880196</td>\n",
       "      <td>0.38</td>\n",
       "      <td>...</td>\n",
       "      <td>0.0</td>\n",
       "      <td>0.0</td>\n",
       "      <td>0.0</td>\n",
       "      <td>1.0</td>\n",
       "      <td>0.0</td>\n",
       "      <td>0.0</td>\n",
       "      <td>0.0</td>\n",
       "      <td>0.0</td>\n",
       "      <td>0.0</td>\n",
       "      <td>1.0</td>\n",
       "    </tr>\n",
       "    <tr>\n",
       "      <th>3</th>\n",
       "      <td>Not Hispanic or Latino</td>\n",
       "      <td>Female</td>\n",
       "      <td>No Preapproval Requested</td>\n",
       "      <td>125000.0</td>\n",
       "      <td>29.412</td>\n",
       "      <td>2</td>\n",
       "      <td>2</td>\n",
       "      <td>26.0</td>\n",
       "      <td>4.878333</td>\n",
       "      <td>0.55</td>\n",
       "      <td>...</td>\n",
       "      <td>0.0</td>\n",
       "      <td>0.0</td>\n",
       "      <td>0.0</td>\n",
       "      <td>0.0</td>\n",
       "      <td>1.0</td>\n",
       "      <td>0.0</td>\n",
       "      <td>0.0</td>\n",
       "      <td>0.0</td>\n",
       "      <td>0.0</td>\n",
       "      <td>1.0</td>\n",
       "    </tr>\n",
       "    <tr>\n",
       "      <th>4</th>\n",
       "      <td>Not Hispanic or Latino</td>\n",
       "      <td>Female</td>\n",
       "      <td>No Preapproval Requested</td>\n",
       "      <td>265000.0</td>\n",
       "      <td>80.000</td>\n",
       "      <td>2</td>\n",
       "      <td>2</td>\n",
       "      <td>94.0</td>\n",
       "      <td>6.321928</td>\n",
       "      <td>0.25</td>\n",
       "      <td>...</td>\n",
       "      <td>0.0</td>\n",
       "      <td>0.0</td>\n",
       "      <td>0.0</td>\n",
       "      <td>1.0</td>\n",
       "      <td>0.0</td>\n",
       "      <td>0.0</td>\n",
       "      <td>0.0</td>\n",
       "      <td>1.0</td>\n",
       "      <td>0.0</td>\n",
       "      <td>0.0</td>\n",
       "    </tr>\n",
       "  </tbody>\n",
       "</table>\n",
       "<p>5 rows × 35 columns</p>\n",
       "</div>"
      ],
      "text/plain": [
       "          is_not_hispanic is_male     preapproval_requested  loan_amount  \\\n",
       "0  Not Hispanic or Latino  Female  No Preapproval Requested     295000.0   \n",
       "1  Not Hispanic or Latino  Female  No Preapproval Requested     165000.0   \n",
       "2  Not Hispanic or Latino  Female  No Preapproval Requested     105000.0   \n",
       "3  Not Hispanic or Latino  Female  No Preapproval Requested     125000.0   \n",
       "4  Not Hispanic or Latino  Female  No Preapproval Requested     265000.0   \n",
       "\n",
       "   loan_to_value_ratio  interest_only_payment  balloon_payment  income  \\\n",
       "0               95.000                      2                2    76.0   \n",
       "1               63.218                      2                2   102.0   \n",
       "2               58.900                      2                2   115.0   \n",
       "3               29.412                      2                2    26.0   \n",
       "4               80.000                      2                2    94.0   \n",
       "\n",
       "   log_loan_to_value_ratio  mid_debt_to_income_ratio  ...  \\\n",
       "0                 6.569856                      0.38  ...   \n",
       "1                 5.982263                      0.25  ...   \n",
       "2                 5.880196                      0.38  ...   \n",
       "3                 4.878333                      0.55  ...   \n",
       "4                 6.321928                      0.25  ...   \n",
       "\n",
       "   applicant_age_65-74  applicant_age_<25  applicant_age_>74  \\\n",
       "0                  0.0                0.0                0.0   \n",
       "1                  0.0                0.0                0.0   \n",
       "2                  0.0                0.0                0.0   \n",
       "3                  0.0                0.0                0.0   \n",
       "4                  0.0                0.0                0.0   \n",
       "\n",
       "   loan_type_Converntional  loan_type_FHA-insured  loan_type_VA-guaranteed  \\\n",
       "0                      1.0                    0.0                      0.0   \n",
       "1                      1.0                    0.0                      0.0   \n",
       "2                      1.0                    0.0                      0.0   \n",
       "3                      0.0                    1.0                      0.0   \n",
       "4                      1.0                    0.0                      0.0   \n",
       "\n",
       "   loan_purpose_Home Improvement  loan_purpose_Home Purchase  \\\n",
       "0                            0.0                         1.0   \n",
       "1                            1.0                         0.0   \n",
       "2                            0.0                         0.0   \n",
       "3                            0.0                         0.0   \n",
       "4                            0.0                         1.0   \n",
       "\n",
       "   loan_purpose_Other Purpose  loan_purpose_Refinancing  \n",
       "0                         0.0                       0.0  \n",
       "1                         0.0                       0.0  \n",
       "2                         0.0                       1.0  \n",
       "3                         0.0                       1.0  \n",
       "4                         0.0                       0.0  \n",
       "\n",
       "[5 rows x 35 columns]"
      ]
     },
     "execution_count": 305,
     "metadata": {},
     "output_type": "execute_result"
    }
   ],
   "source": [
    "X_train.head()"
   ]
  },
  {
   "cell_type": "code",
   "execution_count": 306,
   "id": "777501aa",
   "metadata": {},
   "outputs": [],
   "source": [
    "# Ordinal Encoding (for categorical variables only have values 0 and 1)\n",
    "categories = ['is_not_hispanic', 'is_male', 'preapproval_requested']\n",
    "enc_oe = OrdinalEncoder()\n",
    "enc_oe.fit(X_train[categories])\n",
    "\n",
    "X_train[categories] = enc_oe.transform(X_train[categories])\n",
    "X_test[categories] = enc_oe.transform(X_test[categories])"
   ]
  },
  {
   "cell_type": "code",
   "execution_count": 307,
   "id": "c7eb983c",
   "metadata": {},
   "outputs": [
    {
     "data": {
      "text/html": [
       "<div>\n",
       "<style scoped>\n",
       "    .dataframe tbody tr th:only-of-type {\n",
       "        vertical-align: middle;\n",
       "    }\n",
       "\n",
       "    .dataframe tbody tr th {\n",
       "        vertical-align: top;\n",
       "    }\n",
       "\n",
       "    .dataframe thead th {\n",
       "        text-align: right;\n",
       "    }\n",
       "</style>\n",
       "<table border=\"1\" class=\"dataframe\">\n",
       "  <thead>\n",
       "    <tr style=\"text-align: right;\">\n",
       "      <th></th>\n",
       "      <th>is_not_hispanic</th>\n",
       "      <th>is_male</th>\n",
       "      <th>preapproval_requested</th>\n",
       "      <th>loan_amount</th>\n",
       "      <th>loan_to_value_ratio</th>\n",
       "      <th>interest_only_payment</th>\n",
       "      <th>balloon_payment</th>\n",
       "      <th>income</th>\n",
       "      <th>log_loan_to_value_ratio</th>\n",
       "      <th>mid_debt_to_income_ratio</th>\n",
       "      <th>...</th>\n",
       "      <th>applicant_age_65-74</th>\n",
       "      <th>applicant_age_&lt;25</th>\n",
       "      <th>applicant_age_&gt;74</th>\n",
       "      <th>loan_type_Converntional</th>\n",
       "      <th>loan_type_FHA-insured</th>\n",
       "      <th>loan_type_VA-guaranteed</th>\n",
       "      <th>loan_purpose_Home Improvement</th>\n",
       "      <th>loan_purpose_Home Purchase</th>\n",
       "      <th>loan_purpose_Other Purpose</th>\n",
       "      <th>loan_purpose_Refinancing</th>\n",
       "    </tr>\n",
       "  </thead>\n",
       "  <tbody>\n",
       "    <tr>\n",
       "      <th>0</th>\n",
       "      <td>1.0</td>\n",
       "      <td>0.0</td>\n",
       "      <td>0.0</td>\n",
       "      <td>295000.0</td>\n",
       "      <td>95.000</td>\n",
       "      <td>2</td>\n",
       "      <td>2</td>\n",
       "      <td>76.0</td>\n",
       "      <td>6.569856</td>\n",
       "      <td>0.38</td>\n",
       "      <td>...</td>\n",
       "      <td>0.0</td>\n",
       "      <td>0.0</td>\n",
       "      <td>0.0</td>\n",
       "      <td>1.0</td>\n",
       "      <td>0.0</td>\n",
       "      <td>0.0</td>\n",
       "      <td>0.0</td>\n",
       "      <td>1.0</td>\n",
       "      <td>0.0</td>\n",
       "      <td>0.0</td>\n",
       "    </tr>\n",
       "    <tr>\n",
       "      <th>1</th>\n",
       "      <td>1.0</td>\n",
       "      <td>0.0</td>\n",
       "      <td>0.0</td>\n",
       "      <td>165000.0</td>\n",
       "      <td>63.218</td>\n",
       "      <td>2</td>\n",
       "      <td>2</td>\n",
       "      <td>102.0</td>\n",
       "      <td>5.982263</td>\n",
       "      <td>0.25</td>\n",
       "      <td>...</td>\n",
       "      <td>0.0</td>\n",
       "      <td>0.0</td>\n",
       "      <td>0.0</td>\n",
       "      <td>1.0</td>\n",
       "      <td>0.0</td>\n",
       "      <td>0.0</td>\n",
       "      <td>1.0</td>\n",
       "      <td>0.0</td>\n",
       "      <td>0.0</td>\n",
       "      <td>0.0</td>\n",
       "    </tr>\n",
       "    <tr>\n",
       "      <th>2</th>\n",
       "      <td>1.0</td>\n",
       "      <td>0.0</td>\n",
       "      <td>0.0</td>\n",
       "      <td>105000.0</td>\n",
       "      <td>58.900</td>\n",
       "      <td>2</td>\n",
       "      <td>2</td>\n",
       "      <td>115.0</td>\n",
       "      <td>5.880196</td>\n",
       "      <td>0.38</td>\n",
       "      <td>...</td>\n",
       "      <td>0.0</td>\n",
       "      <td>0.0</td>\n",
       "      <td>0.0</td>\n",
       "      <td>1.0</td>\n",
       "      <td>0.0</td>\n",
       "      <td>0.0</td>\n",
       "      <td>0.0</td>\n",
       "      <td>0.0</td>\n",
       "      <td>0.0</td>\n",
       "      <td>1.0</td>\n",
       "    </tr>\n",
       "    <tr>\n",
       "      <th>3</th>\n",
       "      <td>1.0</td>\n",
       "      <td>0.0</td>\n",
       "      <td>0.0</td>\n",
       "      <td>125000.0</td>\n",
       "      <td>29.412</td>\n",
       "      <td>2</td>\n",
       "      <td>2</td>\n",
       "      <td>26.0</td>\n",
       "      <td>4.878333</td>\n",
       "      <td>0.55</td>\n",
       "      <td>...</td>\n",
       "      <td>0.0</td>\n",
       "      <td>0.0</td>\n",
       "      <td>0.0</td>\n",
       "      <td>0.0</td>\n",
       "      <td>1.0</td>\n",
       "      <td>0.0</td>\n",
       "      <td>0.0</td>\n",
       "      <td>0.0</td>\n",
       "      <td>0.0</td>\n",
       "      <td>1.0</td>\n",
       "    </tr>\n",
       "    <tr>\n",
       "      <th>4</th>\n",
       "      <td>1.0</td>\n",
       "      <td>0.0</td>\n",
       "      <td>0.0</td>\n",
       "      <td>265000.0</td>\n",
       "      <td>80.000</td>\n",
       "      <td>2</td>\n",
       "      <td>2</td>\n",
       "      <td>94.0</td>\n",
       "      <td>6.321928</td>\n",
       "      <td>0.25</td>\n",
       "      <td>...</td>\n",
       "      <td>0.0</td>\n",
       "      <td>0.0</td>\n",
       "      <td>0.0</td>\n",
       "      <td>1.0</td>\n",
       "      <td>0.0</td>\n",
       "      <td>0.0</td>\n",
       "      <td>0.0</td>\n",
       "      <td>1.0</td>\n",
       "      <td>0.0</td>\n",
       "      <td>0.0</td>\n",
       "    </tr>\n",
       "  </tbody>\n",
       "</table>\n",
       "<p>5 rows × 35 columns</p>\n",
       "</div>"
      ],
      "text/plain": [
       "   is_not_hispanic  is_male  preapproval_requested  loan_amount  \\\n",
       "0              1.0      0.0                    0.0     295000.0   \n",
       "1              1.0      0.0                    0.0     165000.0   \n",
       "2              1.0      0.0                    0.0     105000.0   \n",
       "3              1.0      0.0                    0.0     125000.0   \n",
       "4              1.0      0.0                    0.0     265000.0   \n",
       "\n",
       "   loan_to_value_ratio  interest_only_payment  balloon_payment  income  \\\n",
       "0               95.000                      2                2    76.0   \n",
       "1               63.218                      2                2   102.0   \n",
       "2               58.900                      2                2   115.0   \n",
       "3               29.412                      2                2    26.0   \n",
       "4               80.000                      2                2    94.0   \n",
       "\n",
       "   log_loan_to_value_ratio  mid_debt_to_income_ratio  ...  \\\n",
       "0                 6.569856                      0.38  ...   \n",
       "1                 5.982263                      0.25  ...   \n",
       "2                 5.880196                      0.38  ...   \n",
       "3                 4.878333                      0.55  ...   \n",
       "4                 6.321928                      0.25  ...   \n",
       "\n",
       "   applicant_age_65-74  applicant_age_<25  applicant_age_>74  \\\n",
       "0                  0.0                0.0                0.0   \n",
       "1                  0.0                0.0                0.0   \n",
       "2                  0.0                0.0                0.0   \n",
       "3                  0.0                0.0                0.0   \n",
       "4                  0.0                0.0                0.0   \n",
       "\n",
       "   loan_type_Converntional  loan_type_FHA-insured  loan_type_VA-guaranteed  \\\n",
       "0                      1.0                    0.0                      0.0   \n",
       "1                      1.0                    0.0                      0.0   \n",
       "2                      1.0                    0.0                      0.0   \n",
       "3                      0.0                    1.0                      0.0   \n",
       "4                      1.0                    0.0                      0.0   \n",
       "\n",
       "   loan_purpose_Home Improvement  loan_purpose_Home Purchase  \\\n",
       "0                            0.0                         1.0   \n",
       "1                            1.0                         0.0   \n",
       "2                            0.0                         0.0   \n",
       "3                            0.0                         0.0   \n",
       "4                            0.0                         1.0   \n",
       "\n",
       "   loan_purpose_Other Purpose  loan_purpose_Refinancing  \n",
       "0                         0.0                       0.0  \n",
       "1                         0.0                       0.0  \n",
       "2                         0.0                       1.0  \n",
       "3                         0.0                       1.0  \n",
       "4                         0.0                       0.0  \n",
       "\n",
       "[5 rows x 35 columns]"
      ]
     },
     "execution_count": 307,
     "metadata": {},
     "output_type": "execute_result"
    }
   ],
   "source": [
    "X_train.head()"
   ]
  },
  {
   "cell_type": "code",
   "execution_count": 308,
   "id": "b0b4e2b3",
   "metadata": {},
   "outputs": [],
   "source": [
    "# Standarization (for numeric variables)\n",
    "# scalar.fit -> mean:1, std:100\n",
    "# scalar.transform -> apply mean:1, std:100 to X_train\n",
    "# scalar.transform -> apply mean:1, std:100 to X_test\n",
    "scaler = StandardScaler()\n",
    "scaler.fit(X_train[num_cols])\n",
    "X_train[num_cols] = scaler.transform(X_train[num_cols])\n",
    "X_test[num_cols] = scaler.transform(X_test[num_cols])"
   ]
  },
  {
   "cell_type": "code",
   "execution_count": 309,
   "id": "8a0a4bba",
   "metadata": {
    "scrolled": false
   },
   "outputs": [
    {
     "name": "stdout",
     "output_type": "stream",
     "text": [
      "<class 'pandas.core.frame.DataFrame'>\n",
      "RangeIndex: 8361 entries, 0 to 8360\n",
      "Data columns (total 35 columns):\n",
      " #   Column                                  Non-Null Count  Dtype  \n",
      "---  ------                                  --------------  -----  \n",
      " 0   is_not_hispanic                         8361 non-null   float64\n",
      " 1   is_male                                 8361 non-null   float64\n",
      " 2   preapproval_requested                   8361 non-null   float64\n",
      " 3   loan_amount                             8361 non-null   float64\n",
      " 4   loan_to_value_ratio                     8361 non-null   float64\n",
      " 5   interest_only_payment                   8361 non-null   float64\n",
      " 6   balloon_payment                         8361 non-null   float64\n",
      " 7   income                                  8361 non-null   float64\n",
      " 8   log_loan_to_value_ratio                 8361 non-null   float64\n",
      " 9   mid_debt_to_income_ratio                8361 non-null   float64\n",
      " 10  debt                                    8361 non-null   float64\n",
      " 11  derived_race_Asian                      8361 non-null   float64\n",
      " 12  derived_race_Black or African American  8361 non-null   float64\n",
      " 13  derived_race_Minority Races             8361 non-null   float64\n",
      " 14  derived_race_White                      8361 non-null   float64\n",
      " 15  debt_to_income_ratio_20%-<30%           8361 non-null   float64\n",
      " 16  debt_to_income_ratio_30%-<36%           8361 non-null   float64\n",
      " 17  debt_to_income_ratio_36%-<50%           8361 non-null   float64\n",
      " 18  debt_to_income_ratio_50%-60%            8361 non-null   float64\n",
      " 19  debt_to_income_ratio_<20%               8361 non-null   float64\n",
      " 20  debt_to_income_ratio_>60%               8361 non-null   float64\n",
      " 21  applicant_age_25-34                     8361 non-null   float64\n",
      " 22  applicant_age_35-44                     8361 non-null   float64\n",
      " 23  applicant_age_45-54                     8361 non-null   float64\n",
      " 24  applicant_age_55-64                     8361 non-null   float64\n",
      " 25  applicant_age_65-74                     8361 non-null   float64\n",
      " 26  applicant_age_<25                       8361 non-null   float64\n",
      " 27  applicant_age_>74                       8361 non-null   float64\n",
      " 28  loan_type_Converntional                 8361 non-null   float64\n",
      " 29  loan_type_FHA-insured                   8361 non-null   float64\n",
      " 30  loan_type_VA-guaranteed                 8361 non-null   float64\n",
      " 31  loan_purpose_Home Improvement           8361 non-null   float64\n",
      " 32  loan_purpose_Home Purchase              8361 non-null   float64\n",
      " 33  loan_purpose_Other Purpose              8361 non-null   float64\n",
      " 34  loan_purpose_Refinancing                8361 non-null   float64\n",
      "dtypes: float64(35)\n",
      "memory usage: 2.2 MB\n"
     ]
    }
   ],
   "source": [
    "X_train.info()"
   ]
  },
  {
   "cell_type": "code",
   "execution_count": null,
   "id": "50f2b4ff",
   "metadata": {},
   "outputs": [],
   "source": []
  },
  {
   "cell_type": "markdown",
   "id": "51871e1c",
   "metadata": {},
   "source": [
    "### Exploring Improtant Features"
   ]
  },
  {
   "cell_type": "code",
   "execution_count": 310,
   "id": "a600379c",
   "metadata": {},
   "outputs": [],
   "source": [
    "import statsmodels.api as sm\n",
    "from sklearn.linear_model import LogisticRegression\n",
    "from sklearn.ensemble import RandomForestClassifier"
   ]
  },
  {
   "cell_type": "markdown",
   "id": "6870c50f",
   "metadata": {},
   "source": [
    "#### Method1 - Logistic Regression Beta"
   ]
  },
  {
   "cell_type": "code",
   "execution_count": 311,
   "id": "7be6dbae",
   "metadata": {
    "scrolled": true
   },
   "outputs": [
    {
     "name": "stdout",
     "output_type": "stream",
     "text": [
      "Warning: Maximum number of iterations has been exceeded.\n",
      "         Current function value: 0.442440\n",
      "         Iterations: 35\n",
      "                                       Results: Logit\n",
      "=============================================================================================\n",
      "Model:                         Logit                     Pseudo R-squared:          0.195    \n",
      "Dependent Variable:            y                         AIC:                       7440.4789\n",
      "Date:                          2022-06-19 02:03          BIC:                       7588.1369\n",
      "No. Observations:              8361                      Log-Likelihood:            -3699.2  \n",
      "Df Model:                      20                        LL-Null:                   -4595.3  \n",
      "Df Residuals:                  8340                      LLR p-value:               0.0000   \n",
      "Converged:                     0.0000                    Scale:                     1.0000   \n",
      "No. Iterations:                35.0000                                                       \n",
      "---------------------------------------------------------------------------------------------\n",
      "                                        Coef.   Std.Err.    z     P>|z|    [0.025     0.975] \n",
      "---------------------------------------------------------------------------------------------\n",
      "is_not_hispanic                         1.4784    0.0717  20.6265 0.0000     1.3379    1.6188\n",
      "is_male                                -0.0451    0.0577  -0.7810 0.4348    -0.1582    0.0681\n",
      "preapproval_requested                  19.5557 3797.8874   0.0051 0.9959 -7424.1669 7463.2783\n",
      "loan_type_FHA-insured                  -0.5115    0.1232  -4.1536 0.0000    -0.7529   -0.2702\n",
      "loan_type_VA-guaranteed                -0.1717    0.1789  -0.9599 0.3371    -0.5223    0.1789\n",
      "loan_purpose_Home Improvement          -1.3858    0.0807 -17.1621 0.0000    -1.5441   -1.2275\n",
      "loan_purpose_Home Purchase              1.1872    0.0814  14.5802 0.0000     1.0276    1.3468\n",
      "loan_purpose_Other Purpose             -1.5246    0.1011 -15.0813 0.0000    -1.7227   -1.3265\n",
      "log_loan_to_value_ratio                 0.1123    0.0307   3.6600 0.0003     0.0521    0.1724\n",
      "interest_only_payment                  -0.0503    0.0306  -1.6446 0.1000    -0.1103    0.0097\n",
      "debt                                   -0.0442    0.0267  -1.6546 0.0980    -0.0965    0.0082\n",
      "balloon_payment                        -0.0824    0.0288  -2.8614 0.0042    -0.1388   -0.0259\n",
      "derived_race_Asian                     -0.2831    0.1360  -2.0822 0.0373    -0.5496   -0.0166\n",
      "derived_race_Black or African American -0.9510    0.0662 -14.3700 0.0000    -1.0808   -0.8213\n",
      "derived_race_Minority Races            -0.5174    0.1847  -2.8015 0.0051    -0.8793   -0.1554\n",
      "applicant_age_25-34                     0.5278    0.0937   5.6295 0.0000     0.3440    0.7115\n",
      "applicant_age_45-54                     0.2891    0.0797   3.6264 0.0003     0.1329    0.4454\n",
      "applicant_age_55-64                     0.3789    0.0876   4.3229 0.0000     0.2071    0.5507\n",
      "applicant_age_65-74                     0.2117    0.1050   2.0160 0.0438     0.0059    0.4175\n",
      "applicant_age_<25                       1.4001    0.5951   2.3529 0.0186     0.2338    2.5664\n",
      "applicant_age_>74                       0.0972    0.1483   0.6550 0.5124    -0.1936    0.3879\n",
      "=============================================================================================\n",
      "\n"
     ]
    },
    {
     "name": "stderr",
     "output_type": "stream",
     "text": [
      "C:\\Users\\Xue Feng\\anaconda3\\lib\\site-packages\\statsmodels\\base\\model.py:566: ConvergenceWarning: Maximum Likelihood optimization failed to converge. Check mle_retvals\n",
      "  warnings.warn(\"Maximum Likelihood optimization failed to \"\n"
     ]
    }
   ],
   "source": [
    "# FIXED cov = 1 - removed 1 category from each columns that have more than 2 categories\n",
    "# now P values look good\n",
    "\n",
    "# used log_loan_to_value_ratio and dropped loan_to_value_ratio, income columns\n",
    "# used debt, dropped median_debt_to_income_ratio, debt_to_income_ratio\n",
    "\n",
    "category_log_reg = [\"is_not_hispanic\", \"is_male\", \"preapproval_requested\", \"loan_type_FHA-insured\", \"loan_type_VA-guaranteed\", \n",
    "                    \"loan_purpose_Home Improvement\", \"loan_purpose_Home Purchase\", \"loan_purpose_Other Purpose\", \n",
    "                     \"log_loan_to_value_ratio\", \"interest_only_payment\", \"debt\",\n",
    "                   \"balloon_payment\", \"derived_race_Asian\", \"derived_race_Black or African American\", \"derived_race_Minority Races\", \n",
    "                    \"applicant_age_25-34\", \"applicant_age_45-54\", \"applicant_age_55-64\", \"applicant_age_65-74\", \n",
    "                    \"applicant_age_<25\", \"applicant_age_>74\"]\n",
    "logic = sm.Logit(list(y_train), X_train[category_log_reg])\n",
    "result = logic.fit()\n",
    "print(result.summary2())"
   ]
  },
  {
   "cell_type": "markdown",
   "id": "2008ca8e",
   "metadata": {},
   "source": [
    "#### Method2 - Random Forest - Feature Importance"
   ]
  },
  {
   "cell_type": "code",
   "execution_count": 312,
   "id": "364e3ec9",
   "metadata": {
    "scrolled": true
   },
   "outputs": [
    {
     "ename": "KeyError",
     "evalue": "\"['derived_ethnicity', 'derived_sex'] not in index\"",
     "output_type": "error",
     "traceback": [
      "\u001b[1;31m---------------------------------------------------------------------------\u001b[0m",
      "\u001b[1;31mKeyError\u001b[0m                                  Traceback (most recent call last)",
      "\u001b[1;32m<ipython-input-312-1247185d63ee>\u001b[0m in \u001b[0;36m<module>\u001b[1;34m\u001b[0m\n\u001b[0;32m      2\u001b[0m \u001b[0mcategories\u001b[0m \u001b[1;33m=\u001b[0m \u001b[1;33m[\u001b[0m\u001b[1;34m'derived_ethnicity'\u001b[0m\u001b[1;33m,\u001b[0m \u001b[1;34m'derived_sex'\u001b[0m\u001b[1;33m,\u001b[0m \u001b[1;34m'derived_race'\u001b[0m\u001b[1;33m,\u001b[0m \u001b[1;34m'debt_to_income_ratio'\u001b[0m\u001b[1;33m,\u001b[0m \u001b[1;34m'applicant_age'\u001b[0m\u001b[1;33m]\u001b[0m\u001b[1;33m\u001b[0m\u001b[1;33m\u001b[0m\u001b[0m\n\u001b[0;32m      3\u001b[0m \u001b[0menc_oe\u001b[0m \u001b[1;33m=\u001b[0m \u001b[0mOrdinalEncoder\u001b[0m\u001b[1;33m(\u001b[0m\u001b[1;33m)\u001b[0m\u001b[1;33m\u001b[0m\u001b[1;33m\u001b[0m\u001b[0m\n\u001b[1;32m----> 4\u001b[1;33m \u001b[0menc_oe\u001b[0m\u001b[1;33m.\u001b[0m\u001b[0mfit\u001b[0m\u001b[1;33m(\u001b[0m\u001b[0mX_RF\u001b[0m\u001b[1;33m[\u001b[0m\u001b[0mcategories\u001b[0m\u001b[1;33m]\u001b[0m\u001b[1;33m)\u001b[0m\u001b[1;33m\u001b[0m\u001b[1;33m\u001b[0m\u001b[0m\n\u001b[0m\u001b[0;32m      5\u001b[0m \u001b[0mX_RF\u001b[0m\u001b[1;33m[\u001b[0m\u001b[0mcategories\u001b[0m\u001b[1;33m]\u001b[0m \u001b[1;33m=\u001b[0m \u001b[0menc_oe\u001b[0m\u001b[1;33m.\u001b[0m\u001b[0mtransform\u001b[0m\u001b[1;33m(\u001b[0m\u001b[0mX_RF\u001b[0m\u001b[1;33m[\u001b[0m\u001b[0mcategories\u001b[0m\u001b[1;33m]\u001b[0m\u001b[1;33m)\u001b[0m\u001b[1;33m\u001b[0m\u001b[1;33m\u001b[0m\u001b[0m\n\u001b[0;32m      6\u001b[0m \u001b[0mX_RF\u001b[0m\u001b[1;33m.\u001b[0m\u001b[0mhead\u001b[0m\u001b[1;33m(\u001b[0m\u001b[1;33m)\u001b[0m\u001b[1;33m\u001b[0m\u001b[1;33m\u001b[0m\u001b[0m\n",
      "\u001b[1;32m~\\anaconda3\\lib\\site-packages\\pandas\\core\\frame.py\u001b[0m in \u001b[0;36m__getitem__\u001b[1;34m(self, key)\u001b[0m\n\u001b[0;32m   3028\u001b[0m             \u001b[1;32mif\u001b[0m \u001b[0mis_iterator\u001b[0m\u001b[1;33m(\u001b[0m\u001b[0mkey\u001b[0m\u001b[1;33m)\u001b[0m\u001b[1;33m:\u001b[0m\u001b[1;33m\u001b[0m\u001b[1;33m\u001b[0m\u001b[0m\n\u001b[0;32m   3029\u001b[0m                 \u001b[0mkey\u001b[0m \u001b[1;33m=\u001b[0m \u001b[0mlist\u001b[0m\u001b[1;33m(\u001b[0m\u001b[0mkey\u001b[0m\u001b[1;33m)\u001b[0m\u001b[1;33m\u001b[0m\u001b[1;33m\u001b[0m\u001b[0m\n\u001b[1;32m-> 3030\u001b[1;33m             \u001b[0mindexer\u001b[0m \u001b[1;33m=\u001b[0m \u001b[0mself\u001b[0m\u001b[1;33m.\u001b[0m\u001b[0mloc\u001b[0m\u001b[1;33m.\u001b[0m\u001b[0m_get_listlike_indexer\u001b[0m\u001b[1;33m(\u001b[0m\u001b[0mkey\u001b[0m\u001b[1;33m,\u001b[0m \u001b[0maxis\u001b[0m\u001b[1;33m=\u001b[0m\u001b[1;36m1\u001b[0m\u001b[1;33m,\u001b[0m \u001b[0mraise_missing\u001b[0m\u001b[1;33m=\u001b[0m\u001b[1;32mTrue\u001b[0m\u001b[1;33m)\u001b[0m\u001b[1;33m[\u001b[0m\u001b[1;36m1\u001b[0m\u001b[1;33m]\u001b[0m\u001b[1;33m\u001b[0m\u001b[1;33m\u001b[0m\u001b[0m\n\u001b[0m\u001b[0;32m   3031\u001b[0m \u001b[1;33m\u001b[0m\u001b[0m\n\u001b[0;32m   3032\u001b[0m         \u001b[1;31m# take() does not accept boolean indexers\u001b[0m\u001b[1;33m\u001b[0m\u001b[1;33m\u001b[0m\u001b[1;33m\u001b[0m\u001b[0m\n",
      "\u001b[1;32m~\\anaconda3\\lib\\site-packages\\pandas\\core\\indexing.py\u001b[0m in \u001b[0;36m_get_listlike_indexer\u001b[1;34m(self, key, axis, raise_missing)\u001b[0m\n\u001b[0;32m   1264\u001b[0m             \u001b[0mkeyarr\u001b[0m\u001b[1;33m,\u001b[0m \u001b[0mindexer\u001b[0m\u001b[1;33m,\u001b[0m \u001b[0mnew_indexer\u001b[0m \u001b[1;33m=\u001b[0m \u001b[0max\u001b[0m\u001b[1;33m.\u001b[0m\u001b[0m_reindex_non_unique\u001b[0m\u001b[1;33m(\u001b[0m\u001b[0mkeyarr\u001b[0m\u001b[1;33m)\u001b[0m\u001b[1;33m\u001b[0m\u001b[1;33m\u001b[0m\u001b[0m\n\u001b[0;32m   1265\u001b[0m \u001b[1;33m\u001b[0m\u001b[0m\n\u001b[1;32m-> 1266\u001b[1;33m         \u001b[0mself\u001b[0m\u001b[1;33m.\u001b[0m\u001b[0m_validate_read_indexer\u001b[0m\u001b[1;33m(\u001b[0m\u001b[0mkeyarr\u001b[0m\u001b[1;33m,\u001b[0m \u001b[0mindexer\u001b[0m\u001b[1;33m,\u001b[0m \u001b[0maxis\u001b[0m\u001b[1;33m,\u001b[0m \u001b[0mraise_missing\u001b[0m\u001b[1;33m=\u001b[0m\u001b[0mraise_missing\u001b[0m\u001b[1;33m)\u001b[0m\u001b[1;33m\u001b[0m\u001b[1;33m\u001b[0m\u001b[0m\n\u001b[0m\u001b[0;32m   1267\u001b[0m         \u001b[1;32mreturn\u001b[0m \u001b[0mkeyarr\u001b[0m\u001b[1;33m,\u001b[0m \u001b[0mindexer\u001b[0m\u001b[1;33m\u001b[0m\u001b[1;33m\u001b[0m\u001b[0m\n\u001b[0;32m   1268\u001b[0m \u001b[1;33m\u001b[0m\u001b[0m\n",
      "\u001b[1;32m~\\anaconda3\\lib\\site-packages\\pandas\\core\\indexing.py\u001b[0m in \u001b[0;36m_validate_read_indexer\u001b[1;34m(self, key, indexer, axis, raise_missing)\u001b[0m\n\u001b[0;32m   1314\u001b[0m             \u001b[1;32mif\u001b[0m \u001b[0mraise_missing\u001b[0m\u001b[1;33m:\u001b[0m\u001b[1;33m\u001b[0m\u001b[1;33m\u001b[0m\u001b[0m\n\u001b[0;32m   1315\u001b[0m                 \u001b[0mnot_found\u001b[0m \u001b[1;33m=\u001b[0m \u001b[0mlist\u001b[0m\u001b[1;33m(\u001b[0m\u001b[0mset\u001b[0m\u001b[1;33m(\u001b[0m\u001b[0mkey\u001b[0m\u001b[1;33m)\u001b[0m \u001b[1;33m-\u001b[0m \u001b[0mset\u001b[0m\u001b[1;33m(\u001b[0m\u001b[0max\u001b[0m\u001b[1;33m)\u001b[0m\u001b[1;33m)\u001b[0m\u001b[1;33m\u001b[0m\u001b[1;33m\u001b[0m\u001b[0m\n\u001b[1;32m-> 1316\u001b[1;33m                 \u001b[1;32mraise\u001b[0m \u001b[0mKeyError\u001b[0m\u001b[1;33m(\u001b[0m\u001b[1;34mf\"{not_found} not in index\"\u001b[0m\u001b[1;33m)\u001b[0m\u001b[1;33m\u001b[0m\u001b[1;33m\u001b[0m\u001b[0m\n\u001b[0m\u001b[0;32m   1317\u001b[0m \u001b[1;33m\u001b[0m\u001b[0m\n\u001b[0;32m   1318\u001b[0m             \u001b[0mnot_found\u001b[0m \u001b[1;33m=\u001b[0m \u001b[0mkey\u001b[0m\u001b[1;33m[\u001b[0m\u001b[0mmissing_mask\u001b[0m\u001b[1;33m]\u001b[0m\u001b[1;33m\u001b[0m\u001b[1;33m\u001b[0m\u001b[0m\n",
      "\u001b[1;31mKeyError\u001b[0m: \"['derived_ethnicity', 'derived_sex'] not in index\""
     ]
    }
   ],
   "source": [
    "X_RF = X.copy()\n",
    "categories = ['derived_ethnicity', 'derived_sex', 'derived_race', 'debt_to_income_ratio', 'applicant_age']\n",
    "enc_oe = OrdinalEncoder()\n",
    "enc_oe.fit(X_RF[categories])\n",
    "X_RF[categories] = enc_oe.transform(X_RF[categories])\n",
    "X_RF.head()"
   ]
  },
  {
   "cell_type": "code",
   "execution_count": null,
   "id": "37d624af",
   "metadata": {},
   "outputs": [],
   "source": [
    "# check feature importance of random forest for feature selection\n",
    "forest = RandomForestClassifier()\n",
    "forest.fit(X_RF, y)\n",
    "\n",
    "importances = forest.feature_importances_\n",
    "\n",
    "indices = np.argsort(importances)[::-1]\n",
    "\n",
    "# Print the feature ranking\n",
    "print(\"Feature importance ranking by Random Forest Model:\")\n",
    "for ind in range(X.shape[1]):\n",
    "  print (\"{0} : {1}\".format(X_RF.columns[indices[ind]],round(importances[indices[ind]], 4)))"
   ]
  },
  {
   "cell_type": "markdown",
   "id": "9c0deaad",
   "metadata": {},
   "source": [
    "# Part 3: Initial Model Training and Initial Results"
   ]
  },
  {
   "cell_type": "code",
   "execution_count": null,
   "id": "9540731b",
   "metadata": {},
   "outputs": [],
   "source": [
    "from sklearn.ensemble import RandomForestClassifier\n",
    "from sklearn.neighbors import KNeighborsClassifier \n",
    "from sklearn.linear_model import LogisticRegression\n",
    "from sklearn.model_selection import GridSearchCV\n",
    "from sklearn.metrics import confusion_matrix\n",
    "from sklearn.metrics import classification_report\n",
    "from sklearn.metrics import precision_score\n",
    "from sklearn.metrics import recall_score"
   ]
  },
  {
   "cell_type": "code",
   "execution_count": null,
   "id": "20aaecb1",
   "metadata": {},
   "outputs": [],
   "source": [
    "# build models\n",
    "# Logistic Regression\n",
    "classifier_logistic = LogisticRegression()\n",
    "\n",
    "# Random Forest\n",
    "classifier_RF = RandomForestClassifier()"
   ]
  },
  {
   "cell_type": "code",
   "execution_count": null,
   "id": "071986ec",
   "metadata": {},
   "outputs": [],
   "source": [
    "# helper function for printing out grid search results \n",
    "def print_grid_search_metrics(gs):\n",
    "    print (\"Best score: \" + str(gs.best_score_))\n",
    "    print (\"Best parameters set:\")\n",
    "    best_parameters = gs.best_params_\n",
    "    for param_name in sorted(best_parameters.keys()):\n",
    "        print(param_name + ':' + str(best_parameters[param_name]))"
   ]
  },
  {
   "cell_type": "markdown",
   "id": "f945a443",
   "metadata": {},
   "source": [
    "### Logistic Regression"
   ]
  },
  {
   "cell_type": "code",
   "execution_count": null,
   "id": "6ca974fc",
   "metadata": {},
   "outputs": [],
   "source": [
    "# Train the model\n",
    "classifier_logistic.fit(X_train, y_train)"
   ]
  },
  {
   "cell_type": "code",
   "execution_count": null,
   "id": "afd78a3e",
   "metadata": {},
   "outputs": [],
   "source": [
    "# Prediction of test data\n",
    "classifier_logistic.predict(X_test)"
   ]
  },
  {
   "cell_type": "code",
   "execution_count": null,
   "id": "56581403",
   "metadata": {
    "scrolled": true
   },
   "outputs": [],
   "source": [
    "# Accuracy of test data\n",
    "classifier_logistic.score(X_test, y_test)"
   ]
  },
  {
   "cell_type": "markdown",
   "id": "2e5e6dd5",
   "metadata": {},
   "source": [
    "### Random Forest"
   ]
  },
  {
   "cell_type": "code",
   "execution_count": null,
   "id": "7e5437e0",
   "metadata": {},
   "outputs": [],
   "source": [
    "# Possible hyperparamter options for Random Forest\n",
    "# Choose the number of trees\n",
    "parameters = {\n",
    "    'n_estimators' : [60,80,100],\n",
    "    'max_depth': [1,5,10]\n",
    "}\n",
    "Grid_RF = GridSearchCV(RandomForestClassifier(),parameters, cv=5)\n",
    "Grid_RF.fit(X_train, y_train)"
   ]
  },
  {
   "cell_type": "code",
   "execution_count": null,
   "id": "755070d7",
   "metadata": {},
   "outputs": [],
   "source": [
    "# best number of tress\n",
    "print_grid_search_metrics(Grid_RF)"
   ]
  },
  {
   "cell_type": "code",
   "execution_count": null,
   "id": "13a27bc5",
   "metadata": {},
   "outputs": [],
   "source": [
    "# best random forest\n",
    "best_RF_model = Grid_RF.best_estimator_"
   ]
  },
  {
   "cell_type": "code",
   "execution_count": null,
   "id": "7ab591e6",
   "metadata": {},
   "outputs": [],
   "source": [
    "best_RF_model"
   ]
  },
  {
   "cell_type": "code",
   "execution_count": null,
   "id": "0f9d459f",
   "metadata": {},
   "outputs": [],
   "source": []
  }
 ],
 "metadata": {
  "kernelspec": {
   "display_name": "Python 3",
   "language": "python",
   "name": "python3"
  },
  "language_info": {
   "codemirror_mode": {
    "name": "ipython",
    "version": 3
   },
   "file_extension": ".py",
   "mimetype": "text/x-python",
   "name": "python",
   "nbconvert_exporter": "python",
   "pygments_lexer": "ipython3",
   "version": "3.8.8"
  }
 },
 "nbformat": 4,
 "nbformat_minor": 5
}
