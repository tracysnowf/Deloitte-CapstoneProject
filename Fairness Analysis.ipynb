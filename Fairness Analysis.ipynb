{
 "cells": [
  {
   "cell_type": "code",
   "execution_count": 1,
   "id": "c37cab24",
   "metadata": {},
   "outputs": [],
   "source": [
    "import numpy as np\n",
    "import pandas as pd\n",
    "import matplotlib.pyplot as plt\n",
    "import seaborn as sns\n",
    "import math\n",
    "import xgboost as xgb\n",
    "from sklearn.metrics import accuracy_score,confusion_matrix\n",
    "from sklearn.metrics import classification_report\n",
    "from sklearn.feature_selection import mutual_info_classif\n",
    "from sklearn.preprocessing import OneHotEncoder\n",
    "from sklearn.preprocessing import OrdinalEncoder"
   ]
  },
  {
   "cell_type": "code",
   "execution_count": 12,
   "id": "dd8cccd1",
   "metadata": {},
   "outputs": [],
   "source": [
    "df_cr_X_train = 'https://raw.githubusercontent.com/tracysnowf/Deloitte-CapstoneProject/main/data/X_train.csv'\n",
    "df_cr_X_train = pd.read_csv(df_cr_X_train, sep = ',')\n",
    "\n",
    "df_cr_y_train = 'https://raw.githubusercontent.com/tracysnowf/Deloitte-CapstoneProject/main/data/y_train.csv'\n",
    "df_cr_y_train = pd.read_csv(df_cr_y_train, sep = ',')"
   ]
  },
  {
   "cell_type": "code",
   "execution_count": 13,
   "id": "df301b27",
   "metadata": {},
   "outputs": [
    {
     "name": "stdout",
     "output_type": "stream",
     "text": [
      "<class 'pandas.core.frame.DataFrame'>\n",
      "RangeIndex: 8361 entries, 0 to 8360\n",
      "Data columns (total 17 columns):\n",
      " #   Column                    Non-Null Count  Dtype  \n",
      "---  ------                    --------------  -----  \n",
      " 0   Unnamed: 0                8361 non-null   int64  \n",
      " 1   is_not_hispanic           8361 non-null   object \n",
      " 2   derived_race              8361 non-null   object \n",
      " 3   is_male                   8361 non-null   object \n",
      " 4   preapproval_requested     8361 non-null   object \n",
      " 5   loan_type                 8361 non-null   object \n",
      " 6   loan_purpose              8361 non-null   object \n",
      " 7   loan_amount               8361 non-null   float64\n",
      " 8   loan_to_value_ratio       8361 non-null   float64\n",
      " 9   interest_only_payment     8361 non-null   int64  \n",
      " 10  balloon_payment           8361 non-null   int64  \n",
      " 11  income                    8361 non-null   float64\n",
      " 12  debt_to_income_ratio      8361 non-null   object \n",
      " 13  applicant_age             8361 non-null   object \n",
      " 14  log_loan_to_value_ratio   8361 non-null   float64\n",
      " 15  mid_debt_to_income_ratio  8361 non-null   float64\n",
      " 16  debt                      8361 non-null   float64\n",
      "dtypes: float64(6), int64(3), object(8)\n",
      "memory usage: 1.1+ MB\n"
     ]
    }
   ],
   "source": [
    "df_cr_X_train.info()"
   ]
  },
  {
   "cell_type": "code",
   "execution_count": 14,
   "id": "1aee3d17",
   "metadata": {
    "scrolled": true
   },
   "outputs": [
    {
     "name": "stdout",
     "output_type": "stream",
     "text": [
      "<class 'pandas.core.frame.DataFrame'>\n",
      "RangeIndex: 8361 entries, 0 to 8360\n",
      "Data columns (total 2 columns):\n",
      " #   Column        Non-Null Count  Dtype\n",
      "---  ------        --------------  -----\n",
      " 0   Unnamed: 0    8361 non-null   int64\n",
      " 1   action_taken  8361 non-null   int64\n",
      "dtypes: int64(2)\n",
      "memory usage: 130.8 KB\n"
     ]
    }
   ],
   "source": [
    "df_cr_y_train.info()"
   ]
  },
  {
   "cell_type": "code",
   "execution_count": 15,
   "id": "9e72d254",
   "metadata": {
    "scrolled": true
   },
   "outputs": [
    {
     "name": "stdout",
     "output_type": "stream",
     "text": [
      "<class 'pandas.core.frame.DataFrame'>\n",
      "RangeIndex: 8361 entries, 0 to 8360\n",
      "Data columns (total 5 columns):\n",
      " #   Column           Non-Null Count  Dtype  \n",
      "---  ------           --------------  -----  \n",
      " 0   is_not_hispanic  8361 non-null   object \n",
      " 1   derived_race     8361 non-null   object \n",
      " 2   is_male          8361 non-null   object \n",
      " 3   income           8361 non-null   float64\n",
      " 4   applicant_age    8361 non-null   object \n",
      "dtypes: float64(1), object(4)\n",
      "memory usage: 326.7+ KB\n"
     ]
    }
   ],
   "source": [
    "# get sensitive attributes\n",
    "X_train_sensitive = df_cr_X_train[['is_not_hispanic', 'derived_race', 'is_male', 'income', 'applicant_age']]\n",
    "X_train_sensitive.info()"
   ]
  },
  {
   "cell_type": "code",
   "execution_count": 16,
   "id": "d43e29da",
   "metadata": {},
   "outputs": [],
   "source": []
  },
  {
   "cell_type": "code",
   "execution_count": null,
   "id": "04132fed",
   "metadata": {},
   "outputs": [],
   "source": []
  }
 ],
 "metadata": {
  "kernelspec": {
   "display_name": "Python 3",
   "language": "python",
   "name": "python3"
  },
  "language_info": {
   "codemirror_mode": {
    "name": "ipython",
    "version": 3
   },
   "file_extension": ".py",
   "mimetype": "text/x-python",
   "name": "python",
   "nbconvert_exporter": "python",
   "pygments_lexer": "ipython3",
   "version": "3.8.8"
  }
 },
 "nbformat": 4,
 "nbformat_minor": 5
}
