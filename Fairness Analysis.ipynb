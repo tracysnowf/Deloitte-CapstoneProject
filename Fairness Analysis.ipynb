{
 "cells": [
  {
   "cell_type": "code",
   "execution_count": 1,
   "id": "c37cab24",
   "metadata": {},
   "outputs": [],
   "source": [
    "import numpy as np\n",
    "import pandas as pd\n",
    "import matplotlib.pyplot as plt\n",
    "import seaborn as sns\n",
    "import math\n",
    "import xgboost as xgb\n",
    "from sklearn.metrics import accuracy_score,confusion_matrix\n",
    "from sklearn.metrics import classification_report\n",
    "from sklearn.feature_selection import mutual_info_classif\n",
    "from sklearn.preprocessing import OneHotEncoder\n",
    "from sklearn.preprocessing import OrdinalEncoder"
   ]
  },
  {
   "cell_type": "code",
   "execution_count": 6,
   "id": "dd8cccd1",
   "metadata": {},
   "outputs": [],
   "source": [
    "df_cr = 'https://raw.githubusercontent.com/tracysnowf/Deloitte-CapstoneProject/main/data/Clean_Mortgage_Lending.csv'\n",
    "df_cr = pd.read_csv(credit_risk, sep = ',')"
   ]
  },
  {
   "cell_type": "code",
   "execution_count": 7,
   "id": "df301b27",
   "metadata": {},
   "outputs": [
    {
     "name": "stdout",
     "output_type": "stream",
     "text": [
      "<class 'pandas.core.frame.DataFrame'>\n",
      "RangeIndex: 8361 entries, 0 to 8360\n",
      "Data columns (total 36 columns):\n",
      " #   Column                                  Non-Null Count  Dtype  \n",
      "---  ------                                  --------------  -----  \n",
      " 0   Unnamed: 0                              8361 non-null   int64  \n",
      " 1   is_not_hispanic                         8361 non-null   float64\n",
      " 2   is_male                                 8361 non-null   float64\n",
      " 3   preapproval_requested                   8361 non-null   float64\n",
      " 4   loan_amount                             8361 non-null   float64\n",
      " 5   loan_to_value_ratio                     8361 non-null   float64\n",
      " 6   interest_only_payment                   8361 non-null   float64\n",
      " 7   balloon_payment                         8361 non-null   float64\n",
      " 8   income                                  8361 non-null   float64\n",
      " 9   log_loan_to_value_ratio                 8361 non-null   float64\n",
      " 10  mid_debt_to_income_ratio                8361 non-null   float64\n",
      " 11  debt                                    8361 non-null   float64\n",
      " 12  derived_race_Asian                      8361 non-null   float64\n",
      " 13  derived_race_Black or African American  8361 non-null   float64\n",
      " 14  derived_race_Minority Races             8361 non-null   float64\n",
      " 15  derived_race_White                      8361 non-null   float64\n",
      " 16  debt_to_income_ratio_20%-<30%           8361 non-null   float64\n",
      " 17  debt_to_income_ratio_30%-<36%           8361 non-null   float64\n",
      " 18  debt_to_income_ratio_36%-<50%           8361 non-null   float64\n",
      " 19  debt_to_income_ratio_50%-60%            8361 non-null   float64\n",
      " 20  debt_to_income_ratio_<20%               8361 non-null   float64\n",
      " 21  debt_to_income_ratio_>60%               8361 non-null   float64\n",
      " 22  applicant_age_25-34                     8361 non-null   float64\n",
      " 23  applicant_age_35-44                     8361 non-null   float64\n",
      " 24  applicant_age_45-54                     8361 non-null   float64\n",
      " 25  applicant_age_55-64                     8361 non-null   float64\n",
      " 26  applicant_age_65-74                     8361 non-null   float64\n",
      " 27  applicant_age_<25                       8361 non-null   float64\n",
      " 28  applicant_age_>74                       8361 non-null   float64\n",
      " 29  loan_type_Converntional                 8361 non-null   float64\n",
      " 30  loan_type_FHA-insured                   8361 non-null   float64\n",
      " 31  loan_type_VA-guaranteed                 8361 non-null   float64\n",
      " 32  loan_purpose_Home Improvement           8361 non-null   float64\n",
      " 33  loan_purpose_Home Purchase              8361 non-null   float64\n",
      " 34  loan_purpose_Other Purpose              8361 non-null   float64\n",
      " 35  loan_purpose_Refinancing                8361 non-null   float64\n",
      "dtypes: float64(35), int64(1)\n",
      "memory usage: 2.3 MB\n"
     ]
    }
   ],
   "source": [
    "df_cr.info()"
   ]
  },
  {
   "cell_type": "code",
   "execution_count": 6,
   "id": "1aee3d17",
   "metadata": {
    "scrolled": true
   },
   "outputs": [
    {
     "data": {
      "text/plain": [
       "Unnamed: 0                  11148\n",
       "is_not_hispanic                 2\n",
       "derived_race                    4\n",
       "is_male                         2\n",
       "action_taken                    2\n",
       "preapproval_requested           2\n",
       "loan_type                       3\n",
       "loan_purpose                    4\n",
       "loan_amount                   217\n",
       "loan_to_value_ratio          5907\n",
       "interest_only_payment           2\n",
       "balloon_payment                 2\n",
       "income                        725\n",
       "debt_to_income_ratio            6\n",
       "applicant_age                   7\n",
       "log_loan_to_value_ratio      5907\n",
       "mid_debt_to_income_ratio        6\n",
       "debt                         1829\n",
       "dtype: int64"
      ]
     },
     "execution_count": 6,
     "metadata": {},
     "output_type": "execute_result"
    }
   ],
   "source": [
    "df_cr.nunique()"
   ]
  },
  {
   "cell_type": "code",
   "execution_count": 9,
   "id": "9e72d254",
   "metadata": {
    "scrolled": true
   },
   "outputs": [
    {
     "name": "stdout",
     "output_type": "stream",
     "text": [
      "<class 'pandas.core.frame.DataFrame'>\n",
      "RangeIndex: 11148 entries, 0 to 11147\n",
      "Data columns (total 5 columns):\n",
      " #   Column           Non-Null Count  Dtype  \n",
      "---  ------           --------------  -----  \n",
      " 0   is_not_hispanic  11148 non-null  object \n",
      " 1   derived_race     11148 non-null  object \n",
      " 2   is_male          11148 non-null  object \n",
      " 3   income           11148 non-null  float64\n",
      " 4   applicant_age    11148 non-null  object \n",
      "dtypes: float64(1), object(4)\n",
      "memory usage: 435.6+ KB\n"
     ]
    }
   ],
   "source": [
    "# get sensitive attributes\n",
    "X = df_cr[['is_not_hispanic', 'derived_race', 'is_male', 'income', 'applicant_age']]\n",
    "X.info()"
   ]
  },
  {
   "cell_type": "code",
   "execution_count": 12,
   "id": "d43e29da",
   "metadata": {},
   "outputs": [],
   "source": [
    "y = df_cr[['action_taken']]"
   ]
  },
  {
   "cell_type": "code",
   "execution_count": null,
   "id": "04132fed",
   "metadata": {},
   "outputs": [],
   "source": []
  }
 ],
 "metadata": {
  "kernelspec": {
   "display_name": "Python 3",
   "language": "python",
   "name": "python3"
  },
  "language_info": {
   "codemirror_mode": {
    "name": "ipython",
    "version": 3
   },
   "file_extension": ".py",
   "mimetype": "text/x-python",
   "name": "python",
   "nbconvert_exporter": "python",
   "pygments_lexer": "ipython3",
   "version": "3.8.8"
  }
 },
 "nbformat": 4,
 "nbformat_minor": 5
}
