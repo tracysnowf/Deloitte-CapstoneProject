{
 "cells": [
  {
   "cell_type": "markdown",
   "id": "87662e00",
   "metadata": {},
   "source": [
    "# Part 1: Data Exploration"
   ]
  },
  {
   "cell_type": "markdown",
   "id": "b142b097",
   "metadata": {},
   "source": [
    "## Part 1.1: Understand the Raw Dataset"
   ]
  },
  {
   "cell_type": "code",
   "execution_count": 7,
   "id": "564b97cb",
   "metadata": {},
   "outputs": [],
   "source": [
    "import numpy as np\n",
    "import pandas as pd\n",
    "import matplotlib.pyplot as plt\n",
    "import seaborn as sns"
   ]
  },
  {
   "cell_type": "code",
   "execution_count": 8,
   "id": "e10f8c00",
   "metadata": {},
   "outputs": [],
   "source": [
    "credit_risk = 'https://raw.githubusercontent.com/tracysnowf/Deloitte-CapstoneProject/main/data/Mortgage%20Lending_raw.csv'\n",
    "df_cr = pd.read_csv(credit_risk, sep = ',')"
   ]
  },
  {
   "cell_type": "markdown",
   "id": "d637271f",
   "metadata": {},
   "source": []
  },
  {
   "cell_type": "code",
   "execution_count": 9,
   "id": "e6f61669",
   "metadata": {
    "scrolled": false
   },
   "outputs": [
    {
     "data": {
      "text/html": [
       "<div>\n",
       "<style scoped>\n",
       "    .dataframe tbody tr th:only-of-type {\n",
       "        vertical-align: middle;\n",
       "    }\n",
       "\n",
       "    .dataframe tbody tr th {\n",
       "        vertical-align: top;\n",
       "    }\n",
       "\n",
       "    .dataframe thead th {\n",
       "        text-align: right;\n",
       "    }\n",
       "</style>\n",
       "<table border=\"1\" class=\"dataframe\">\n",
       "  <thead>\n",
       "    <tr style=\"text-align: right;\">\n",
       "      <th></th>\n",
       "      <th>Unnamed: 0</th>\n",
       "      <th>derived_ethnicity</th>\n",
       "      <th>derived_race</th>\n",
       "      <th>derived_sex</th>\n",
       "      <th>action_taken</th>\n",
       "      <th>preapproval</th>\n",
       "      <th>loan_type</th>\n",
       "      <th>loan_purpose</th>\n",
       "      <th>loan_amount</th>\n",
       "      <th>loan_to_value_ratio</th>\n",
       "      <th>interest_only_payment</th>\n",
       "      <th>balloon_payment</th>\n",
       "      <th>income</th>\n",
       "      <th>debt_to_income_ratio</th>\n",
       "      <th>applicant_age</th>\n",
       "    </tr>\n",
       "  </thead>\n",
       "  <tbody>\n",
       "    <tr>\n",
       "      <th>0</th>\n",
       "      <td>0</td>\n",
       "      <td>Not Hispanic or Latino</td>\n",
       "      <td>Black or African American</td>\n",
       "      <td>Female</td>\n",
       "      <td>1</td>\n",
       "      <td>2</td>\n",
       "      <td>1</td>\n",
       "      <td>32</td>\n",
       "      <td>105000.0</td>\n",
       "      <td>75.0</td>\n",
       "      <td>2</td>\n",
       "      <td>2</td>\n",
       "      <td>91.0</td>\n",
       "      <td>48</td>\n",
       "      <td>35-44</td>\n",
       "    </tr>\n",
       "    <tr>\n",
       "      <th>1</th>\n",
       "      <td>1</td>\n",
       "      <td>Not Hispanic or Latino</td>\n",
       "      <td>Black or African American</td>\n",
       "      <td>Female</td>\n",
       "      <td>3</td>\n",
       "      <td>2</td>\n",
       "      <td>1</td>\n",
       "      <td>31</td>\n",
       "      <td>275000.0</td>\n",
       "      <td>52.38</td>\n",
       "      <td>2</td>\n",
       "      <td>2</td>\n",
       "      <td>142.0</td>\n",
       "      <td>44</td>\n",
       "      <td>&gt;74</td>\n",
       "    </tr>\n",
       "    <tr>\n",
       "      <th>2</th>\n",
       "      <td>2</td>\n",
       "      <td>Hispanic or Latino</td>\n",
       "      <td>White</td>\n",
       "      <td>Male</td>\n",
       "      <td>3</td>\n",
       "      <td>2</td>\n",
       "      <td>1</td>\n",
       "      <td>1</td>\n",
       "      <td>235000.0</td>\n",
       "      <td>80.0</td>\n",
       "      <td>2</td>\n",
       "      <td>2</td>\n",
       "      <td>60.0</td>\n",
       "      <td>38</td>\n",
       "      <td>35-44</td>\n",
       "    </tr>\n",
       "    <tr>\n",
       "      <th>3</th>\n",
       "      <td>3</td>\n",
       "      <td>Not Hispanic or Latino</td>\n",
       "      <td>White</td>\n",
       "      <td>Male</td>\n",
       "      <td>1</td>\n",
       "      <td>2</td>\n",
       "      <td>1</td>\n",
       "      <td>1</td>\n",
       "      <td>465000.0</td>\n",
       "      <td>94.69</td>\n",
       "      <td>2</td>\n",
       "      <td>2</td>\n",
       "      <td>112.0</td>\n",
       "      <td>42</td>\n",
       "      <td>35-44</td>\n",
       "    </tr>\n",
       "    <tr>\n",
       "      <th>4</th>\n",
       "      <td>4</td>\n",
       "      <td>Not Hispanic or Latino</td>\n",
       "      <td>Black or African American</td>\n",
       "      <td>Male</td>\n",
       "      <td>1</td>\n",
       "      <td>1</td>\n",
       "      <td>3</td>\n",
       "      <td>1</td>\n",
       "      <td>415000.0</td>\n",
       "      <td>100.0</td>\n",
       "      <td>2</td>\n",
       "      <td>2</td>\n",
       "      <td>83.0</td>\n",
       "      <td>50%-60%</td>\n",
       "      <td>25-34</td>\n",
       "    </tr>\n",
       "  </tbody>\n",
       "</table>\n",
       "</div>"
      ],
      "text/plain": [
       "   Unnamed: 0       derived_ethnicity               derived_race derived_sex  \\\n",
       "0           0  Not Hispanic or Latino  Black or African American      Female   \n",
       "1           1  Not Hispanic or Latino  Black or African American      Female   \n",
       "2           2      Hispanic or Latino                      White        Male   \n",
       "3           3  Not Hispanic or Latino                      White        Male   \n",
       "4           4  Not Hispanic or Latino  Black or African American        Male   \n",
       "\n",
       "   action_taken  preapproval  loan_type  loan_purpose  loan_amount  \\\n",
       "0             1            2          1            32     105000.0   \n",
       "1             3            2          1            31     275000.0   \n",
       "2             3            2          1             1     235000.0   \n",
       "3             1            2          1             1     465000.0   \n",
       "4             1            1          3             1     415000.0   \n",
       "\n",
       "  loan_to_value_ratio  interest_only_payment  balloon_payment  income  \\\n",
       "0                75.0                      2                2    91.0   \n",
       "1               52.38                      2                2   142.0   \n",
       "2                80.0                      2                2    60.0   \n",
       "3               94.69                      2                2   112.0   \n",
       "4               100.0                      2                2    83.0   \n",
       "\n",
       "  debt_to_income_ratio applicant_age  \n",
       "0                   48         35-44  \n",
       "1                   44           >74  \n",
       "2                   38         35-44  \n",
       "3                   42         35-44  \n",
       "4              50%-60%         25-34  "
      ]
     },
     "execution_count": 9,
     "metadata": {},
     "output_type": "execute_result"
    }
   ],
   "source": [
    "df_cr.head() # column 0 is redundant"
   ]
  },
  {
   "cell_type": "code",
   "execution_count": 10,
   "id": "3bbd805c",
   "metadata": {},
   "outputs": [
    {
     "name": "stdout",
     "output_type": "stream",
     "text": [
      "<class 'pandas.core.frame.DataFrame'>\n",
      "RangeIndex: 14509 entries, 0 to 14508\n",
      "Data columns (total 15 columns):\n",
      " #   Column                 Non-Null Count  Dtype  \n",
      "---  ------                 --------------  -----  \n",
      " 0   Unnamed: 0             14509 non-null  int64  \n",
      " 1   derived_ethnicity      14509 non-null  object \n",
      " 2   derived_race           14509 non-null  object \n",
      " 3   derived_sex            14509 non-null  object \n",
      " 4   action_taken           14509 non-null  int64  \n",
      " 5   preapproval            14509 non-null  int64  \n",
      " 6   loan_type              14509 non-null  int64  \n",
      " 7   loan_purpose           14509 non-null  int64  \n",
      " 8   loan_amount            14509 non-null  float64\n",
      " 9   loan_to_value_ratio    13902 non-null  object \n",
      " 10  interest_only_payment  14509 non-null  int64  \n",
      " 11  balloon_payment        14509 non-null  int64  \n",
      " 12  income                 14027 non-null  float64\n",
      " 13  debt_to_income_ratio   13787 non-null  object \n",
      " 14  applicant_age          14509 non-null  object \n",
      "dtypes: float64(2), int64(7), object(6)\n",
      "memory usage: 1.7+ MB\n"
     ]
    }
   ],
   "source": [
    "# check data info\n",
    "df_cr.info()"
   ]
  },
  {
   "cell_type": "code",
   "execution_count": 11,
   "id": "678b8385",
   "metadata": {
    "scrolled": true
   },
   "outputs": [
    {
     "data": {
      "text/plain": [
       "Unnamed: 0               14509\n",
       "derived_ethnicity            5\n",
       "derived_race                 9\n",
       "derived_sex                  2\n",
       "action_taken                 2\n",
       "preapproval                  2\n",
       "loan_type                    4\n",
       "loan_purpose                 6\n",
       "loan_amount                237\n",
       "loan_to_value_ratio       7074\n",
       "interest_only_payment        3\n",
       "balloon_payment              3\n",
       "income                     778\n",
       "debt_to_income_ratio        20\n",
       "applicant_age                8\n",
       "dtype: int64"
      ]
     },
     "execution_count": 11,
     "metadata": {},
     "output_type": "execute_result"
    }
   ],
   "source": [
    "# check the unique values for each column\n",
    "df_cr.nunique()"
   ]
  },
  {
   "cell_type": "code",
   "execution_count": 12,
   "id": "a6926495",
   "metadata": {},
   "outputs": [],
   "source": [
    "df_cr = df_cr.drop('Unnamed: 0', 1) # delete index column from csv"
   ]
  },
  {
   "cell_type": "markdown",
   "id": "09520e45",
   "metadata": {},
   "source": [
    "##### action_taken - Y variable\n",
    "1 -- Loan originated (the qualification and verification process that begins a new loan.) <br>\n",
    "2 -- Application approved but not accepted (If the loan was approved before closing but the applicant either failed to respond or the loan was not otherwise closed, then the action taken would be reported as approved but not accepted.) <br>\n",
    "3 -- Application denied by financial institution <br>\n",
    "\n",
    "Comments: <br>\n",
    "category 1 (a typo) might actually be 2(Approved) in the codebook, and 3 stays the same(Disapproved)"
   ]
  },
  {
   "cell_type": "code",
   "execution_count": 13,
   "id": "36bb0854",
   "metadata": {
    "scrolled": true
   },
   "outputs": [
    {
     "data": {
      "text/plain": [
       "array([1, 3], dtype=int64)"
      ]
     },
     "execution_count": 13,
     "metadata": {},
     "output_type": "execute_result"
    }
   ],
   "source": [
    "pd.unique(df_cr['action_taken'])"
   ]
  },
  {
   "cell_type": "code",
   "execution_count": 14,
   "id": "960e2679",
   "metadata": {},
   "outputs": [],
   "source": [
    "# new codebook: 1 - Approved; 0 - Disapproved\n",
    "# so change all the vlaues of 3 to 0\n",
    "df_cr['action_taken'].mask((df_cr['action_taken'] == 3), 0, inplace=True)"
   ]
  },
  {
   "cell_type": "code",
   "execution_count": 15,
   "id": "7782980c",
   "metadata": {},
   "outputs": [
    {
     "data": {
      "text/plain": [
       "1    10871\n",
       "0     3638\n",
       "Name: action_taken, dtype: int64"
      ]
     },
     "execution_count": 15,
     "metadata": {},
     "output_type": "execute_result"
    }
   ],
   "source": [
    "# check the distribution of target variable action_taken\n",
    "df_cr.loc[:,'action_taken'].value_counts()"
   ]
  },
  {
   "cell_type": "code",
   "execution_count": 16,
   "id": "89efbb7d",
   "metadata": {},
   "outputs": [],
   "source": [
    "# target variable\n",
    "y = df_cr['action_taken']"
   ]
  },
  {
   "cell_type": "markdown",
   "id": "8bc5acdd",
   "metadata": {},
   "source": [
    "## Part 1.2: Understand the Features"
   ]
  },
  {
   "cell_type": "code",
   "execution_count": 17,
   "id": "0302d276",
   "metadata": {
    "scrolled": false
   },
   "outputs": [
    {
     "data": {
      "text/html": [
       "<div>\n",
       "<style scoped>\n",
       "    .dataframe tbody tr th:only-of-type {\n",
       "        vertical-align: middle;\n",
       "    }\n",
       "\n",
       "    .dataframe tbody tr th {\n",
       "        vertical-align: top;\n",
       "    }\n",
       "\n",
       "    .dataframe thead th {\n",
       "        text-align: right;\n",
       "    }\n",
       "</style>\n",
       "<table border=\"1\" class=\"dataframe\">\n",
       "  <thead>\n",
       "    <tr style=\"text-align: right;\">\n",
       "      <th></th>\n",
       "      <th>action_taken</th>\n",
       "      <th>preapproval</th>\n",
       "      <th>loan_type</th>\n",
       "      <th>loan_purpose</th>\n",
       "      <th>loan_amount</th>\n",
       "      <th>interest_only_payment</th>\n",
       "      <th>balloon_payment</th>\n",
       "      <th>income</th>\n",
       "    </tr>\n",
       "  </thead>\n",
       "  <tbody>\n",
       "    <tr>\n",
       "      <th>count</th>\n",
       "      <td>14509.000000</td>\n",
       "      <td>14509.000000</td>\n",
       "      <td>14509.000000</td>\n",
       "      <td>14509.000000</td>\n",
       "      <td>1.450900e+04</td>\n",
       "      <td>14509.000000</td>\n",
       "      <td>14509.000000</td>\n",
       "      <td>14027.000000</td>\n",
       "    </tr>\n",
       "    <tr>\n",
       "      <th>mean</th>\n",
       "      <td>0.749259</td>\n",
       "      <td>1.978979</td>\n",
       "      <td>1.147081</td>\n",
       "      <td>14.755669</td>\n",
       "      <td>3.924981e+05</td>\n",
       "      <td>14.098973</td>\n",
       "      <td>14.135295</td>\n",
       "      <td>160.826335</td>\n",
       "    </tr>\n",
       "    <tr>\n",
       "      <th>std</th>\n",
       "      <td>0.433455</td>\n",
       "      <td>0.143461</td>\n",
       "      <td>0.459418</td>\n",
       "      <td>14.860877</td>\n",
       "      <td>3.340678e+05</td>\n",
       "      <td>115.466461</td>\n",
       "      <td>115.462492</td>\n",
       "      <td>297.351109</td>\n",
       "    </tr>\n",
       "    <tr>\n",
       "      <th>min</th>\n",
       "      <td>0.000000</td>\n",
       "      <td>1.000000</td>\n",
       "      <td>1.000000</td>\n",
       "      <td>1.000000</td>\n",
       "      <td>5.000000e+03</td>\n",
       "      <td>1.000000</td>\n",
       "      <td>1.000000</td>\n",
       "      <td>-123.000000</td>\n",
       "    </tr>\n",
       "    <tr>\n",
       "      <th>25%</th>\n",
       "      <td>0.000000</td>\n",
       "      <td>2.000000</td>\n",
       "      <td>1.000000</td>\n",
       "      <td>1.000000</td>\n",
       "      <td>1.950000e+05</td>\n",
       "      <td>2.000000</td>\n",
       "      <td>2.000000</td>\n",
       "      <td>79.000000</td>\n",
       "    </tr>\n",
       "    <tr>\n",
       "      <th>50%</th>\n",
       "      <td>1.000000</td>\n",
       "      <td>2.000000</td>\n",
       "      <td>1.000000</td>\n",
       "      <td>4.000000</td>\n",
       "      <td>3.450000e+05</td>\n",
       "      <td>2.000000</td>\n",
       "      <td>2.000000</td>\n",
       "      <td>116.000000</td>\n",
       "    </tr>\n",
       "    <tr>\n",
       "      <th>75%</th>\n",
       "      <td>1.000000</td>\n",
       "      <td>2.000000</td>\n",
       "      <td>1.000000</td>\n",
       "      <td>31.000000</td>\n",
       "      <td>5.050000e+05</td>\n",
       "      <td>2.000000</td>\n",
       "      <td>2.000000</td>\n",
       "      <td>170.000000</td>\n",
       "    </tr>\n",
       "    <tr>\n",
       "      <th>max</th>\n",
       "      <td>1.000000</td>\n",
       "      <td>2.000000</td>\n",
       "      <td>4.000000</td>\n",
       "      <td>32.000000</td>\n",
       "      <td>7.505000e+06</td>\n",
       "      <td>1111.000000</td>\n",
       "      <td>1111.000000</td>\n",
       "      <td>20000.000000</td>\n",
       "    </tr>\n",
       "  </tbody>\n",
       "</table>\n",
       "</div>"
      ],
      "text/plain": [
       "       action_taken   preapproval     loan_type  loan_purpose   loan_amount  \\\n",
       "count  14509.000000  14509.000000  14509.000000  14509.000000  1.450900e+04   \n",
       "mean       0.749259      1.978979      1.147081     14.755669  3.924981e+05   \n",
       "std        0.433455      0.143461      0.459418     14.860877  3.340678e+05   \n",
       "min        0.000000      1.000000      1.000000      1.000000  5.000000e+03   \n",
       "25%        0.000000      2.000000      1.000000      1.000000  1.950000e+05   \n",
       "50%        1.000000      2.000000      1.000000      4.000000  3.450000e+05   \n",
       "75%        1.000000      2.000000      1.000000     31.000000  5.050000e+05   \n",
       "max        1.000000      2.000000      4.000000     32.000000  7.505000e+06   \n",
       "\n",
       "       interest_only_payment  balloon_payment        income  \n",
       "count           14509.000000     14509.000000  14027.000000  \n",
       "mean               14.098973        14.135295    160.826335  \n",
       "std               115.466461       115.462492    297.351109  \n",
       "min                 1.000000         1.000000   -123.000000  \n",
       "25%                 2.000000         2.000000     79.000000  \n",
       "50%                 2.000000         2.000000    116.000000  \n",
       "75%                 2.000000         2.000000    170.000000  \n",
       "max              1111.000000      1111.000000  20000.000000  "
      ]
     },
     "execution_count": 17,
     "metadata": {},
     "output_type": "execute_result"
    }
   ],
   "source": [
    "# understand overall features\n",
    "df_cr.describe()\n",
    "# Action Taken:\n",
    "# 1 -- Loan originated\n",
    "# 2 -- Application approved but not accepted\n",
    "# 3 -- Application denied by financial institution\n",
    "\n",
    "# Preapproval:\n",
    "# 1 -- Preapproval was requested\n",
    "# 2 -- Preapproval was not requested\n",
    "\n",
    "# Loan Type: **75% IQR = 1\n",
    "# 1 -- Conventional (any loan other than FHA, VA, FSA, or RHS loans)\n",
    "# 2 -- FHA-insured (Federal Housing Administration)\n",
    "# 3 -- VA-guaranteed (Veterans Administration)\n",
    "# 4 -- FSA/RHS (Farm Service Agency or Rural Housing Service)\n",
    "\n",
    "# Loan Purpose: **error data,\n",
    "# 1 -- Home purchase\n",
    "# 2 -- Home improvement\n",
    "# 3 -- Refinancing\n",
    "\n",
    "# Loan Amount: in thousands of dollars\n",
    "\n",
    "# interest_only_payment **not in the codebook, 1111？\n",
    "\n",
    "# balloon_payment **not in the codebook, 1111？\n",
    "\n",
    "# income: Gross Annual Income: in thousands of dollars **negative/ error data"
   ]
  },
  {
   "cell_type": "markdown",
   "id": "dfce8f2a",
   "metadata": {},
   "source": [
    "### Numerical Features Data Cleaning "
   ]
  },
  {
   "cell_type": "code",
   "execution_count": 18,
   "id": "e9fb6643",
   "metadata": {
    "scrolled": true
   },
   "outputs": [
    {
     "data": {
      "text/html": [
       "<div>\n",
       "<style scoped>\n",
       "    .dataframe tbody tr th:only-of-type {\n",
       "        vertical-align: middle;\n",
       "    }\n",
       "\n",
       "    .dataframe tbody tr th {\n",
       "        vertical-align: top;\n",
       "    }\n",
       "\n",
       "    .dataframe thead th {\n",
       "        text-align: right;\n",
       "    }\n",
       "</style>\n",
       "<table border=\"1\" class=\"dataframe\">\n",
       "  <thead>\n",
       "    <tr style=\"text-align: right;\">\n",
       "      <th></th>\n",
       "      <th>loan_amount</th>\n",
       "      <th>income</th>\n",
       "    </tr>\n",
       "  </thead>\n",
       "  <tbody>\n",
       "    <tr>\n",
       "      <th>count</th>\n",
       "      <td>1.450900e+04</td>\n",
       "      <td>14027.000000</td>\n",
       "    </tr>\n",
       "    <tr>\n",
       "      <th>mean</th>\n",
       "      <td>3.924981e+05</td>\n",
       "      <td>160.826335</td>\n",
       "    </tr>\n",
       "    <tr>\n",
       "      <th>std</th>\n",
       "      <td>3.340678e+05</td>\n",
       "      <td>297.351109</td>\n",
       "    </tr>\n",
       "    <tr>\n",
       "      <th>min</th>\n",
       "      <td>5.000000e+03</td>\n",
       "      <td>-123.000000</td>\n",
       "    </tr>\n",
       "    <tr>\n",
       "      <th>25%</th>\n",
       "      <td>1.950000e+05</td>\n",
       "      <td>79.000000</td>\n",
       "    </tr>\n",
       "    <tr>\n",
       "      <th>50%</th>\n",
       "      <td>3.450000e+05</td>\n",
       "      <td>116.000000</td>\n",
       "    </tr>\n",
       "    <tr>\n",
       "      <th>75%</th>\n",
       "      <td>5.050000e+05</td>\n",
       "      <td>170.000000</td>\n",
       "    </tr>\n",
       "    <tr>\n",
       "      <th>max</th>\n",
       "      <td>7.505000e+06</td>\n",
       "      <td>20000.000000</td>\n",
       "    </tr>\n",
       "  </tbody>\n",
       "</table>\n",
       "</div>"
      ],
      "text/plain": [
       "        loan_amount        income\n",
       "count  1.450900e+04  14027.000000\n",
       "mean   3.924981e+05    160.826335\n",
       "std    3.340678e+05    297.351109\n",
       "min    5.000000e+03   -123.000000\n",
       "25%    1.950000e+05     79.000000\n",
       "50%    3.450000e+05    116.000000\n",
       "75%    5.050000e+05    170.000000\n",
       "max    7.505000e+06  20000.000000"
      ]
     },
     "execution_count": 18,
     "metadata": {},
     "output_type": "execute_result"
    }
   ],
   "source": [
    "# understand numerical features\n",
    "# loan_amount look normal, need to clean column loan_to_value_ratio, income\n",
    "df_cr[[\"loan_amount\", \"loan_to_value_ratio\", \"income\"]].describe()"
   ]
  },
  {
   "cell_type": "markdown",
   "id": "30f6fa35",
   "metadata": {},
   "source": [
    "##### loan_to_value_ratio\n",
    "The loan-to-value (LTV) ratio is a measure comparing the amount of your mortgage with the appraised value of the property. The higher your down payment, the lower your LTV ratio."
   ]
  },
  {
   "cell_type": "code",
   "execution_count": 19,
   "id": "145cde97",
   "metadata": {
    "scrolled": false
   },
   "outputs": [
    {
     "data": {
      "text/plain": [
       "array(['75.0', '52.38', '80.0', ..., '68.883', '87.03', '52.45'],\n",
       "      dtype=object)"
      ]
     },
     "execution_count": 19,
     "metadata": {},
     "output_type": "execute_result"
    }
   ],
   "source": [
    "pd.unique(df_cr['loan_to_value_ratio'])"
   ]
  },
  {
   "cell_type": "code",
   "execution_count": 20,
   "id": "a2c52632",
   "metadata": {},
   "outputs": [
    {
     "data": {
      "text/plain": [
       "<class 'str'>      13902\n",
       "<class 'float'>      607\n",
       "Name: loan_to_value_ratio, dtype: int64"
      ]
     },
     "execution_count": 20,
     "metadata": {},
     "output_type": "execute_result"
    }
   ],
   "source": [
    "df_cr['loan_to_value_ratio'].map(type).value_counts()"
   ]
  },
  {
   "cell_type": "code",
   "execution_count": 21,
   "id": "9e5377bd",
   "metadata": {},
   "outputs": [
    {
     "data": {
      "text/plain": [
       "607"
      ]
     },
     "execution_count": 21,
     "metadata": {},
     "output_type": "execute_result"
    }
   ],
   "source": [
    "# 607 null values\n",
    "len(df_cr[pd.to_numeric(df_cr['loan_to_value_ratio'].isnull(),errors='coerce')])"
   ]
  },
  {
   "cell_type": "code",
   "execution_count": 22,
   "id": "bc3f3ccd",
   "metadata": {},
   "outputs": [
    {
     "data": {
      "text/plain": [
       "159"
      ]
     },
     "execution_count": 22,
     "metadata": {},
     "output_type": "execute_result"
    }
   ],
   "source": [
    "# 159 Exempt values\n",
    "len(df_cr[(df_cr['loan_to_value_ratio'] == \"Exempt\")])"
   ]
  },
  {
   "cell_type": "code",
   "execution_count": 23,
   "id": "8b5676ca",
   "metadata": {},
   "outputs": [],
   "source": [
    "# drop 607 null values and 159 Exempt values\n",
    "df_cr = df_cr[pd.to_numeric(df_cr['loan_to_value_ratio'].notnull(),errors='coerce')]\n",
    "df_cr = df_cr[(df_cr['loan_to_value_ratio'] != \"Exempt\")]\n",
    "# reset index\n",
    "df_cr = df_cr.reset_index(drop = True)\n",
    "# cast string types of values to numeric type\n",
    "pd.to_numeric(df_cr['loan_to_value_ratio'], errors='coerce')\n",
    "# cast string types of values to numeric type\n",
    "df_cr['loan_to_value_ratio'] = pd.to_numeric(df_cr['loan_to_value_ratio'], errors='coerce')"
   ]
  },
  {
   "cell_type": "code",
   "execution_count": 24,
   "id": "0b7b2ca8",
   "metadata": {},
   "outputs": [
    {
     "data": {
      "text/plain": [
       "<class 'float'>    13743\n",
       "Name: loan_to_value_ratio, dtype: int64"
      ]
     },
     "execution_count": 24,
     "metadata": {},
     "output_type": "execute_result"
    }
   ],
   "source": [
    "# check the result\n",
    "df_cr['loan_to_value_ratio'].map(type).value_counts()"
   ]
  },
  {
   "cell_type": "markdown",
   "id": "6288ac04",
   "metadata": {},
   "source": [
    "##### income"
   ]
  },
  {
   "cell_type": "code",
   "execution_count": 25,
   "id": "c7ca52df",
   "metadata": {},
   "outputs": [
    {
     "data": {
      "text/plain": [
       "252"
      ]
     },
     "execution_count": 25,
     "metadata": {},
     "output_type": "execute_result"
    }
   ],
   "source": [
    "# 252 null values\n",
    "len(df_cr[pd.to_numeric(df_cr['income'].isnull(),errors='coerce')])"
   ]
  },
  {
   "cell_type": "code",
   "execution_count": 26,
   "id": "89320b1b",
   "metadata": {},
   "outputs": [
    {
     "data": {
      "text/plain": [
       "10"
      ]
     },
     "execution_count": 26,
     "metadata": {},
     "output_type": "execute_result"
    }
   ],
   "source": [
    "# 10 negative/ error values\n",
    "len(df_cr[(df_cr['income'] < 0)])"
   ]
  },
  {
   "cell_type": "code",
   "execution_count": 27,
   "id": "bfd319b0",
   "metadata": {},
   "outputs": [],
   "source": [
    "# drop 252 null values, 10 negative values\n",
    "df_cr = df_cr[pd.to_numeric(df_cr['income'].notnull(),errors='coerce')]\n",
    "df_cr = df_cr[(df_cr['income'] >= 0)]\n",
    "# reset index\n",
    "df_cr = df_cr.reset_index(drop = True)"
   ]
  },
  {
   "cell_type": "code",
   "execution_count": 28,
   "id": "cb8b187b",
   "metadata": {
    "scrolled": true
   },
   "outputs": [
    {
     "data": {
      "text/plain": [
       "<class 'float'>    13481\n",
       "Name: loan_to_value_ratio, dtype: int64"
      ]
     },
     "execution_count": 28,
     "metadata": {},
     "output_type": "execute_result"
    }
   ],
   "source": [
    "# check the result\n",
    "df_cr['loan_to_value_ratio'].map(type).value_counts()"
   ]
  },
  {
   "cell_type": "markdown",
   "id": "e59b6620",
   "metadata": {},
   "source": [
    "#### Cleaned Numeric Features Summary"
   ]
  },
  {
   "cell_type": "code",
   "execution_count": 29,
   "id": "d6e637e2",
   "metadata": {
    "scrolled": true
   },
   "outputs": [
    {
     "data": {
      "text/html": [
       "<div>\n",
       "<style scoped>\n",
       "    .dataframe tbody tr th:only-of-type {\n",
       "        vertical-align: middle;\n",
       "    }\n",
       "\n",
       "    .dataframe tbody tr th {\n",
       "        vertical-align: top;\n",
       "    }\n",
       "\n",
       "    .dataframe thead th {\n",
       "        text-align: right;\n",
       "    }\n",
       "</style>\n",
       "<table border=\"1\" class=\"dataframe\">\n",
       "  <thead>\n",
       "    <tr style=\"text-align: right;\">\n",
       "      <th></th>\n",
       "      <th>loan_amount</th>\n",
       "      <th>loan_to_value_ratio</th>\n",
       "      <th>income</th>\n",
       "    </tr>\n",
       "  </thead>\n",
       "  <tbody>\n",
       "    <tr>\n",
       "      <th>count</th>\n",
       "      <td>1.348100e+04</td>\n",
       "      <td>13481.000000</td>\n",
       "      <td>13481.000000</td>\n",
       "    </tr>\n",
       "    <tr>\n",
       "      <th>mean</th>\n",
       "      <td>3.935965e+05</td>\n",
       "      <td>71.589195</td>\n",
       "      <td>162.252800</td>\n",
       "    </tr>\n",
       "    <tr>\n",
       "      <th>std</th>\n",
       "      <td>3.268280e+05</td>\n",
       "      <td>27.614554</td>\n",
       "      <td>296.002794</td>\n",
       "    </tr>\n",
       "    <tr>\n",
       "      <th>min</th>\n",
       "      <td>5.000000e+03</td>\n",
       "      <td>0.541000</td>\n",
       "      <td>0.000000</td>\n",
       "    </tr>\n",
       "    <tr>\n",
       "      <th>25%</th>\n",
       "      <td>1.950000e+05</td>\n",
       "      <td>59.060000</td>\n",
       "      <td>80.000000</td>\n",
       "    </tr>\n",
       "    <tr>\n",
       "      <th>50%</th>\n",
       "      <td>3.450000e+05</td>\n",
       "      <td>75.000000</td>\n",
       "      <td>118.000000</td>\n",
       "    </tr>\n",
       "    <tr>\n",
       "      <th>75%</th>\n",
       "      <td>5.050000e+05</td>\n",
       "      <td>88.337000</td>\n",
       "      <td>172.000000</td>\n",
       "    </tr>\n",
       "    <tr>\n",
       "      <th>max</th>\n",
       "      <td>7.505000e+06</td>\n",
       "      <td>999.999000</td>\n",
       "      <td>20000.000000</td>\n",
       "    </tr>\n",
       "  </tbody>\n",
       "</table>\n",
       "</div>"
      ],
      "text/plain": [
       "        loan_amount  loan_to_value_ratio        income\n",
       "count  1.348100e+04         13481.000000  13481.000000\n",
       "mean   3.935965e+05            71.589195    162.252800\n",
       "std    3.268280e+05            27.614554    296.002794\n",
       "min    5.000000e+03             0.541000      0.000000\n",
       "25%    1.950000e+05            59.060000     80.000000\n",
       "50%    3.450000e+05            75.000000    118.000000\n",
       "75%    5.050000e+05            88.337000    172.000000\n",
       "max    7.505000e+06           999.999000  20000.000000"
      ]
     },
     "execution_count": 29,
     "metadata": {},
     "output_type": "execute_result"
    }
   ],
   "source": [
    "# understand numeric features\n",
    "df_cr[[\"loan_amount\", \"loan_to_value_ratio\", \"income\"]].describe()"
   ]
  },
  {
   "cell_type": "markdown",
   "id": "41c2b351",
   "metadata": {},
   "source": [
    "#### Correlation of Numeric Features"
   ]
  },
  {
   "cell_type": "code",
   "execution_count": 65,
   "id": "c22d3190",
   "metadata": {},
   "outputs": [],
   "source": [
    "# correlation heat map of numerical features\n",
    "sns.set()\n",
    "\n",
    "numCol = []\n",
    "for col in df_cr:\n",
    "  if df_cr[col].dtype == np.float64:\n",
    "    numCol.append(col)\n",
    "corr = df_cr[numCol].corr()"
   ]
  },
  {
   "cell_type": "code",
   "execution_count": 66,
   "id": "0db34c0f",
   "metadata": {
    "scrolled": true
   },
   "outputs": [
    {
     "data": {
      "text/plain": [
       "[Text(0.5, 0, 'loan_amount'),\n",
       " Text(1.5, 0, 'loan_to_value_ratio'),\n",
       " Text(2.5, 0, 'income')]"
      ]
     },
     "execution_count": 66,
     "metadata": {},
     "output_type": "execute_result"
    },
    {
     "data": {
      "image/png": "[encoded data removed]",
      "text/plain": [
       "<Figure size 432x288 with 2 Axes>"
      ]
     },
     "metadata": {},
     "output_type": "display_data"
    }
   ],
   "source": [
    "ax = sns.heatmap(\n",
    "    corr, \n",
    "    vmin=-1, vmax=1, center=0,\n",
    "    cmap=sns.diverging_palette(20, 220, n=200),\n",
    "    square=True\n",
    ")\n",
    "ax.set_xticklabels(\n",
    "    ax.get_xticklabels(),\n",
    "    rotation=45,\n",
    "    horizontalalignment='right')"
   ]
  },
  {
   "cell_type": "code",
   "execution_count": 71,
   "id": "d882ae30",
   "metadata": {
    "scrolled": true
   },
   "outputs": [
    {
     "data": {
      "text/html": [
       "<div>\n",
       "<style scoped>\n",
       "    .dataframe tbody tr th:only-of-type {\n",
       "        vertical-align: middle;\n",
       "    }\n",
       "\n",
       "    .dataframe tbody tr th {\n",
       "        vertical-align: top;\n",
       "    }\n",
       "\n",
       "    .dataframe thead th {\n",
       "        text-align: right;\n",
       "    }\n",
       "</style>\n",
       "<table border=\"1\" class=\"dataframe\">\n",
       "  <thead>\n",
       "    <tr style=\"text-align: right;\">\n",
       "      <th></th>\n",
       "      <th>loan_amount</th>\n",
       "      <th>loan_to_value_ratio</th>\n",
       "      <th>income</th>\n",
       "    </tr>\n",
       "  </thead>\n",
       "  <tbody>\n",
       "    <tr>\n",
       "      <th>loan_amount</th>\n",
       "      <td>1.000000</td>\n",
       "      <td>0.184705</td>\n",
       "      <td>0.433686</td>\n",
       "    </tr>\n",
       "    <tr>\n",
       "      <th>loan_to_value_ratio</th>\n",
       "      <td>0.184705</td>\n",
       "      <td>1.000000</td>\n",
       "      <td>0.006124</td>\n",
       "    </tr>\n",
       "    <tr>\n",
       "      <th>income</th>\n",
       "      <td>0.433686</td>\n",
       "      <td>0.006124</td>\n",
       "      <td>1.000000</td>\n",
       "    </tr>\n",
       "  </tbody>\n",
       "</table>\n",
       "</div>"
      ],
      "text/plain": [
       "                     loan_amount  loan_to_value_ratio    income\n",
       "loan_amount             1.000000             0.184705  0.433686\n",
       "loan_to_value_ratio     0.184705             1.000000  0.006124\n",
       "income                  0.433686             0.006124  1.000000"
      ]
     },
     "execution_count": 71,
     "metadata": {},
     "output_type": "execute_result"
    }
   ],
   "source": [
    "# check the actual values of correlations\n",
    "corr_score = df_cr[numCol].corr()\n",
    "corr_score\n",
    "# heatmap conclusion: all good, no column needs to be dropped."
   ]
  },
  {
   "cell_type": "markdown",
   "id": "011f0e23",
   "metadata": {},
   "source": [
    "### Categorical Features Data Cleaning "
   ]
  },
  {
   "cell_type": "markdown",
   "id": "fb907da4",
   "metadata": {},
   "source": [
    "##### loan_type\n",
    "1 -- Conventional (any loan other than FHA, VA, FSA, or RHS loans) <br>\n",
    "2 -- FHA-insured (Federal Housing Administration) <br>\n",
    "3 -- VA-guaranteed (Veterans Administration) <br>\n",
    "4 -- FSA/RHS (Farm Service Agency or Rural Housing Service) <br>\n",
    "\n",
    "Comments: <br>\n",
    "75% IQR = 1 <br>\n",
    "About 90% of the whole loan type is type 1 - Conventional among the 4 types. <br>\n",
    "Is this data representative to the whole population? <br>\n",
    "possible research directions: if people with a Conventional loan type have an obviously higher/lower chance to get approved for the loan compared to people with a NON Conventional loan type?"
   ]
  },
  {
   "cell_type": "code",
   "execution_count": 30,
   "id": "b8f04377",
   "metadata": {
    "scrolled": true
   },
   "outputs": [
    {
     "data": {
      "text/plain": [
       "0.9175877160448038"
      ]
     },
     "execution_count": 30,
     "metadata": {},
     "output_type": "execute_result"
    }
   ],
   "source": [
    "len(df_cr[df_cr['loan_type'] == 1]) / len(df_cr['loan_type'])"
   ]
  },
  {
   "cell_type": "code",
   "execution_count": 78,
   "id": "94179f3e",
   "metadata": {},
   "outputs": [
    {
     "data": {
      "text/plain": [
       "<AxesSubplot:>"
      ]
     },
     "execution_count": 78,
     "metadata": {},
     "output_type": "execute_result"
    },
    {
     "data": {
      "image/png": "[encoded data removed]",
      "text/plain": [
       "<Figure size 432x288 with 1 Axes>"
      ]
     },
     "metadata": {},
     "output_type": "display_data"
    }
   ],
   "source": [
    "# explore loan_type category\n",
    "df_cr[\"loan_type\"].value_counts().plot(kind='barh')"
   ]
  },
  {
   "cell_type": "markdown",
   "id": "e01e842d",
   "metadata": {},
   "source": [
    "##### loan_purpose ** error data 31, 32, 4, 5\n",
    "1 -- Home purchase <br>\n",
    "2 -- Home improvement <br>\n",
    "3 -- Refinancing"
   ]
  },
  {
   "cell_type": "code",
   "execution_count": 72,
   "id": "51c25d24",
   "metadata": {},
   "outputs": [
    {
     "data": {
      "text/plain": [
       "<AxesSubplot:>"
      ]
     },
     "execution_count": 72,
     "metadata": {},
     "output_type": "execute_result"
    },
    {
     "data": {
      "image/png": "[encoded data removed]",
      "text/plain": [
       "<Figure size 432x288 with 1 Axes>"
      ]
     },
     "metadata": {},
     "output_type": "display_data"
    }
   ],
   "source": [
    "# explore loan_purpose category\n",
    "df_cr[\"loan_purpose\"].value_counts().plot(kind='barh')"
   ]
  },
  {
   "cell_type": "markdown",
   "id": "6eb13a6b",
   "metadata": {},
   "source": [
    "##### derived_ethnicity"
   ]
  },
  {
   "cell_type": "code",
   "execution_count": 31,
   "id": "3f7df01f",
   "metadata": {
    "scrolled": false
   },
   "outputs": [
    {
     "data": {
      "text/plain": [
       "array(['Not Hispanic or Latino', 'Hispanic or Latino', 'Joint',\n",
       "       'Ethnicity Not Available', 'Free Form Text Only'], dtype=object)"
      ]
     },
     "execution_count": 31,
     "metadata": {},
     "output_type": "execute_result"
    }
   ],
   "source": [
    "pd.unique(df_cr['derived_ethnicity'])"
   ]
  },
  {
   "cell_type": "code",
   "execution_count": 32,
   "id": "a5a1c216",
   "metadata": {},
   "outputs": [],
   "source": [
    "# Convert 'Joint', 'Ethnicity Not Available', 'Free Form Text Only' to NAs\n",
    "df_cr['derived_ethnicity'].mask((df_cr['derived_ethnicity'] == 'Joint') |\n",
    "                                (df_cr['derived_ethnicity'] == 'Ethnicity Not Available') |\n",
    "                                (df_cr['derived_ethnicity'] == 'Free Form Text Only'), None, inplace=True)"
   ]
  },
  {
   "cell_type": "code",
   "execution_count": 33,
   "id": "c2067302",
   "metadata": {},
   "outputs": [
    {
     "data": {
      "text/plain": [
       "<class 'str'>         11750\n",
       "<class 'NoneType'>     1731\n",
       "Name: derived_ethnicity, dtype: int64"
      ]
     },
     "execution_count": 33,
     "metadata": {},
     "output_type": "execute_result"
    }
   ],
   "source": [
    "df_cr['derived_ethnicity'].map(type).value_counts()"
   ]
  },
  {
   "cell_type": "code",
   "execution_count": 34,
   "id": "eaafa52e",
   "metadata": {},
   "outputs": [],
   "source": [
    "# drop 1878 null values\n",
    "df_cr = df_cr[pd.to_numeric(df_cr['derived_ethnicity'].notnull(),errors='coerce')]"
   ]
  },
  {
   "cell_type": "code",
   "execution_count": 35,
   "id": "de90a115",
   "metadata": {},
   "outputs": [
    {
     "data": {
      "text/plain": [
       "<class 'str'>    11750\n",
       "Name: derived_ethnicity, dtype: int64"
      ]
     },
     "execution_count": 35,
     "metadata": {},
     "output_type": "execute_result"
    }
   ],
   "source": [
    "df_cr['derived_ethnicity'].map(type).value_counts()"
   ]
  },
  {
   "cell_type": "code",
   "execution_count": 36,
   "id": "29f160a2",
   "metadata": {},
   "outputs": [],
   "source": [
    "# reset index\n",
    "df_cr = df_cr.reset_index(drop = True)"
   ]
  },
  {
   "cell_type": "code",
   "execution_count": 73,
   "id": "a4642e52",
   "metadata": {},
   "outputs": [
    {
     "data": {
      "text/plain": [
       "<AxesSubplot:>"
      ]
     },
     "execution_count": 73,
     "metadata": {},
     "output_type": "execute_result"
    },
    {
     "data": {
      "image/png": "[encoded data removed]",
      "text/plain": [
       "<Figure size 432x288 with 1 Axes>"
      ]
     },
     "metadata": {},
     "output_type": "display_data"
    }
   ],
   "source": [
    "# explore derived_ethnicity category\n",
    "df_cr[\"derived_ethnicity\"].value_counts().plot(kind='barh')"
   ]
  },
  {
   "cell_type": "markdown",
   "id": "5fe0fdba",
   "metadata": {},
   "source": [
    "##### derived_race"
   ]
  },
  {
   "cell_type": "code",
   "execution_count": 37,
   "id": "aa0c7e96",
   "metadata": {
    "scrolled": false
   },
   "outputs": [
    {
     "data": {
      "text/plain": [
       "array(['Black or African American', 'White', 'Asian',\n",
       "       '2 or more minority races', 'Race Not Available', 'Joint',\n",
       "       'Native Hawaiian or Other Pacific Islander',\n",
       "       'American Indian or Alaska Native', 'Free Form Text Only'],\n",
       "      dtype=object)"
      ]
     },
     "execution_count": 37,
     "metadata": {},
     "output_type": "execute_result"
    }
   ],
   "source": [
    "pd.unique(df_cr['derived_race'])"
   ]
  },
  {
   "cell_type": "code",
   "execution_count": 38,
   "id": "1d37738d",
   "metadata": {},
   "outputs": [],
   "source": [
    "# Convert '2 or more minority races', 'Race Not Available','American Indian or Alaska Native', \n",
    "# 'Joint', 'Native Hawaiian or Other Pacific Islander' to 'Minority Race/(s/)'\n",
    "df_cr['derived_race'].mask((df_cr['derived_race'] == '2 or more minority races') |\n",
    "                            (df_cr['derived_race'] == 'American Indian or Alaska Native') |\n",
    "                            (df_cr['derived_race'] == 'Joint') |\n",
    "                            (df_cr['derived_race'] == 'Native Hawaiian or Other Pacific Islander'), \"Minority Races\", inplace=True)"
   ]
  },
  {
   "cell_type": "code",
   "execution_count": 39,
   "id": "57888bba",
   "metadata": {},
   "outputs": [],
   "source": [
    "df_cr['derived_race'].mask((df_cr['derived_race'] == 'Free Form Text Only') |\n",
    "                           (df_cr['derived_race'] == 'Race Not Available'), None, inplace=True)"
   ]
  },
  {
   "cell_type": "code",
   "execution_count": 40,
   "id": "0b4c90ba",
   "metadata": {
    "scrolled": false
   },
   "outputs": [
    {
     "data": {
      "text/plain": [
       "<class 'str'>         11251\n",
       "<class 'NoneType'>      499\n",
       "Name: derived_race, dtype: int64"
      ]
     },
     "execution_count": 40,
     "metadata": {},
     "output_type": "execute_result"
    }
   ],
   "source": [
    "df_cr['derived_race'].map(type).value_counts()"
   ]
  },
  {
   "cell_type": "code",
   "execution_count": 41,
   "id": "beedf00b",
   "metadata": {
    "scrolled": true
   },
   "outputs": [
    {
     "data": {
      "text/plain": [
       "array(['Black or African American', 'White', 'Asian', 'Minority Races',\n",
       "       None], dtype=object)"
      ]
     },
     "execution_count": 41,
     "metadata": {},
     "output_type": "execute_result"
    }
   ],
   "source": [
    "pd.unique(df_cr['derived_race'])"
   ]
  },
  {
   "cell_type": "code",
   "execution_count": 42,
   "id": "091e3309",
   "metadata": {},
   "outputs": [],
   "source": [
    "# drop 526 null values\n",
    "df_cr = df_cr[pd.to_numeric(df_cr['derived_race'].notnull(),errors='coerce')]"
   ]
  },
  {
   "cell_type": "code",
   "execution_count": 43,
   "id": "b480a35a",
   "metadata": {
    "scrolled": false
   },
   "outputs": [
    {
     "data": {
      "text/plain": [
       "array(['Black or African American', 'White', 'Asian', 'Minority Races'],\n",
       "      dtype=object)"
      ]
     },
     "execution_count": 43,
     "metadata": {},
     "output_type": "execute_result"
    }
   ],
   "source": [
    "pd.unique(df_cr['derived_race'])"
   ]
  },
  {
   "cell_type": "code",
   "execution_count": 44,
   "id": "2b9e1619",
   "metadata": {},
   "outputs": [],
   "source": [
    "# reset index\n",
    "df_cr = df_cr.reset_index(drop = True)"
   ]
  },
  {
   "cell_type": "code",
   "execution_count": 74,
   "id": "ed70b09e",
   "metadata": {},
   "outputs": [
    {
     "data": {
      "text/plain": [
       "<AxesSubplot:>"
      ]
     },
     "execution_count": 74,
     "metadata": {},
     "output_type": "execute_result"
    },
    {
     "data": {
      "image/png": "[encoded data removed]",
      "text/plain": [
       "<Figure size 432x288 with 1 Axes>"
      ]
     },
     "metadata": {},
     "output_type": "display_data"
    }
   ],
   "source": [
    "# explore derived_race category\n",
    "df_cr[\"derived_race\"].value_counts().plot(kind='barh')"
   ]
  },
  {
   "cell_type": "markdown",
   "id": "2a9d950b",
   "metadata": {},
   "source": [
    "##### derived_sex"
   ]
  },
  {
   "cell_type": "code",
   "execution_count": 45,
   "id": "90e98210",
   "metadata": {
    "scrolled": true
   },
   "outputs": [
    {
     "data": {
      "text/plain": [
       "array(['Female', 'Male'], dtype=object)"
      ]
     },
     "execution_count": 45,
     "metadata": {},
     "output_type": "execute_result"
    }
   ],
   "source": [
    "pd.unique(df_cr['derived_sex']) # OK"
   ]
  },
  {
   "cell_type": "code",
   "execution_count": 75,
   "id": "014a85a1",
   "metadata": {},
   "outputs": [
    {
     "data": {
      "text/plain": [
       "<AxesSubplot:>"
      ]
     },
     "execution_count": 75,
     "metadata": {},
     "output_type": "execute_result"
    },
    {
     "data": {
      "image/png": "[encoded data removed]",
      "text/plain": [
       "<Figure size 432x288 with 1 Axes>"
      ]
     },
     "metadata": {},
     "output_type": "display_data"
    }
   ],
   "source": [
    "# explore derived_sex category\n",
    "df_cr[\"derived_sex\"].value_counts().plot(kind='barh')"
   ]
  },
  {
   "cell_type": "markdown",
   "id": "ce305b4d",
   "metadata": {},
   "source": [
    "##### debt_to_income_ratio"
   ]
  },
  {
   "cell_type": "code",
   "execution_count": 46,
   "id": "8e5035b9",
   "metadata": {
    "scrolled": false
   },
   "outputs": [
    {
     "data": {
      "text/plain": [
       "array(['48', '44', '38', '42', '50%-60%', '>60%', '30%-<36%', '40', '36',\n",
       "       '20%-<30%', '49', '<20%', '43', '41', '47', '46', '37', '39', '45',\n",
       "       nan], dtype=object)"
      ]
     },
     "execution_count": 46,
     "metadata": {},
     "output_type": "execute_result"
    }
   ],
   "source": [
    "pd.unique(df_cr['debt_to_income_ratio']) # should create a new column: 36% - 49%, Exempt = NaN?"
   ]
  },
  {
   "cell_type": "code",
   "execution_count": 47,
   "id": "eeadeab5",
   "metadata": {},
   "outputs": [],
   "source": [
    "df_cr[\"debt_to_income_ratio\"].replace(['48', '44', '38', '42', '40', '36', '49', '47', '43', '41', '39', '46', '37', '45'], '36%-<50%', regex=False, inplace=True)"
   ]
  },
  {
   "cell_type": "code",
   "execution_count": 48,
   "id": "cf8f868a",
   "metadata": {},
   "outputs": [],
   "source": [
    "# replace \"Exempt\" with NAs\n",
    "df_cr['debt_to_income_ratio'].mask((df_cr['debt_to_income_ratio'] == 'Exempt'), None, inplace=True)"
   ]
  },
  {
   "cell_type": "code",
   "execution_count": 49,
   "id": "1f5b5279",
   "metadata": {},
   "outputs": [],
   "source": [
    "# drop null values\n",
    "df_cr = df_cr[pd.to_numeric(df_cr['debt_to_income_ratio'].notnull(),errors='coerce')]"
   ]
  },
  {
   "cell_type": "code",
   "execution_count": 50,
   "id": "1d6e4d04",
   "metadata": {
    "scrolled": false
   },
   "outputs": [
    {
     "data": {
      "text/plain": [
       "array(['36%-<50%', '50%-60%', '>60%', '30%-<36%', '20%-<30%', '<20%'],\n",
       "      dtype=object)"
      ]
     },
     "execution_count": 50,
     "metadata": {},
     "output_type": "execute_result"
    }
   ],
   "source": [
    "pd.unique(df_cr['debt_to_income_ratio'])"
   ]
  },
  {
   "cell_type": "code",
   "execution_count": 51,
   "id": "e161ee48",
   "metadata": {},
   "outputs": [],
   "source": [
    "# reset index\n",
    "df_cr = df_cr.reset_index(drop = True)"
   ]
  },
  {
   "cell_type": "code",
   "execution_count": 77,
   "id": "4fee57db",
   "metadata": {},
   "outputs": [
    {
     "data": {
      "text/plain": [
       "<AxesSubplot:>"
      ]
     },
     "execution_count": 77,
     "metadata": {},
     "output_type": "execute_result"
    },
    {
     "data": {
      "image/png": "[encoded data removed]",
      "text/plain": [
       "<Figure size 432x288 with 1 Axes>"
      ]
     },
     "metadata": {},
     "output_type": "display_data"
    }
   ],
   "source": [
    "# explore debt_to_income_ratio category\n",
    "df_cr[\"debt_to_income_ratio\"].value_counts().plot(kind='barh')"
   ]
  },
  {
   "cell_type": "markdown",
   "id": "7be7b76b",
   "metadata": {},
   "source": [
    "##### applicant_age"
   ]
  },
  {
   "cell_type": "code",
   "execution_count": 52,
   "id": "71bb546f",
   "metadata": {
    "scrolled": true
   },
   "outputs": [
    {
     "data": {
      "text/plain": [
       "array(['35-44', '>74', '25-34', '55-64', '45-54', '65-74', '<25', '8888'],\n",
       "      dtype=object)"
      ]
     },
     "execution_count": 52,
     "metadata": {},
     "output_type": "execute_result"
    }
   ],
   "source": [
    "pd.unique(df_cr['applicant_age']) # 8888\n",
    "# df_cr[(df_cr['applicant_age'] == '8888')] # print 4 rows with age = 8888"
   ]
  },
  {
   "cell_type": "code",
   "execution_count": 53,
   "id": "1fcded44",
   "metadata": {},
   "outputs": [],
   "source": [
    "# drop rows with 8888\n",
    "df_cr.drop(df_cr.index[df_cr['applicant_age'] == '8888'], inplace=True)"
   ]
  },
  {
   "cell_type": "code",
   "execution_count": 54,
   "id": "1a7c4991",
   "metadata": {},
   "outputs": [
    {
     "data": {
      "text/plain": [
       "array(['35-44', '>74', '25-34', '55-64', '45-54', '65-74', '<25'],\n",
       "      dtype=object)"
      ]
     },
     "execution_count": 54,
     "metadata": {},
     "output_type": "execute_result"
    }
   ],
   "source": [
    "pd.unique(df_cr['applicant_age'])"
   ]
  },
  {
   "cell_type": "code",
   "execution_count": 55,
   "id": "3f588378",
   "metadata": {},
   "outputs": [],
   "source": [
    "# reset index\n",
    "df_cr = df_cr.reset_index(drop = True)"
   ]
  },
  {
   "cell_type": "code",
   "execution_count": 76,
   "id": "809d474c",
   "metadata": {},
   "outputs": [
    {
     "data": {
      "text/plain": [
       "<AxesSubplot:>"
      ]
     },
     "execution_count": 76,
     "metadata": {},
     "output_type": "execute_result"
    },
    {
     "data": {
      "image/png": "[encoded data removed]",
      "text/plain": [
       "<Figure size 432x288 with 1 Axes>"
      ]
     },
     "metadata": {},
     "output_type": "display_data"
    }
   ],
   "source": [
    "# explore applicant_age category\n",
    "df_cr[\"applicant_age\"].value_counts().plot(kind='barh')"
   ]
  },
  {
   "cell_type": "code",
   "execution_count": 56,
   "id": "b5800b58",
   "metadata": {
    "scrolled": true
   },
   "outputs": [
    {
     "name": "stdout",
     "output_type": "stream",
     "text": [
      "<class 'pandas.core.frame.DataFrame'>\n",
      "RangeIndex: 11153 entries, 0 to 11152\n",
      "Data columns (total 14 columns):\n",
      " #   Column                 Non-Null Count  Dtype  \n",
      "---  ------                 --------------  -----  \n",
      " 0   derived_ethnicity      11153 non-null  object \n",
      " 1   derived_race           11153 non-null  object \n",
      " 2   derived_sex            11153 non-null  object \n",
      " 3   action_taken           11153 non-null  int64  \n",
      " 4   preapproval            11153 non-null  int64  \n",
      " 5   loan_type              11153 non-null  int64  \n",
      " 6   loan_purpose           11153 non-null  int64  \n",
      " 7   loan_amount            11153 non-null  float64\n",
      " 8   loan_to_value_ratio    11153 non-null  float64\n",
      " 9   interest_only_payment  11153 non-null  int64  \n",
      " 10  balloon_payment        11153 non-null  int64  \n",
      " 11  income                 11153 non-null  float64\n",
      " 12  debt_to_income_ratio   11153 non-null  object \n",
      " 13  applicant_age          11153 non-null  object \n",
      "dtypes: float64(3), int64(6), object(5)\n",
      "memory usage: 1.2+ MB\n"
     ]
    }
   ],
   "source": [
    "# cleaned dataset info\n",
    "df_cr.info()"
   ]
  },
  {
   "cell_type": "code",
   "execution_count": 57,
   "id": "3bd68269",
   "metadata": {},
   "outputs": [
    {
     "data": {
      "text/html": [
       "<div>\n",
       "<style scoped>\n",
       "    .dataframe tbody tr th:only-of-type {\n",
       "        vertical-align: middle;\n",
       "    }\n",
       "\n",
       "    .dataframe tbody tr th {\n",
       "        vertical-align: top;\n",
       "    }\n",
       "\n",
       "    .dataframe thead th {\n",
       "        text-align: right;\n",
       "    }\n",
       "</style>\n",
       "<table border=\"1\" class=\"dataframe\">\n",
       "  <thead>\n",
       "    <tr style=\"text-align: right;\">\n",
       "      <th></th>\n",
       "      <th>derived_ethnicity</th>\n",
       "      <th>derived_race</th>\n",
       "      <th>derived_sex</th>\n",
       "      <th>action_taken</th>\n",
       "      <th>preapproval</th>\n",
       "      <th>loan_type</th>\n",
       "      <th>loan_purpose</th>\n",
       "      <th>loan_amount</th>\n",
       "      <th>loan_to_value_ratio</th>\n",
       "      <th>interest_only_payment</th>\n",
       "      <th>balloon_payment</th>\n",
       "      <th>income</th>\n",
       "      <th>debt_to_income_ratio</th>\n",
       "      <th>applicant_age</th>\n",
       "    </tr>\n",
       "  </thead>\n",
       "  <tbody>\n",
       "    <tr>\n",
       "      <th>0</th>\n",
       "      <td>Not Hispanic or Latino</td>\n",
       "      <td>Black or African American</td>\n",
       "      <td>Female</td>\n",
       "      <td>1</td>\n",
       "      <td>2</td>\n",
       "      <td>1</td>\n",
       "      <td>32</td>\n",
       "      <td>105000.0</td>\n",
       "      <td>75.00</td>\n",
       "      <td>2</td>\n",
       "      <td>2</td>\n",
       "      <td>91.0</td>\n",
       "      <td>36%-&lt;50%</td>\n",
       "      <td>35-44</td>\n",
       "    </tr>\n",
       "    <tr>\n",
       "      <th>1</th>\n",
       "      <td>Not Hispanic or Latino</td>\n",
       "      <td>Black or African American</td>\n",
       "      <td>Female</td>\n",
       "      <td>0</td>\n",
       "      <td>2</td>\n",
       "      <td>1</td>\n",
       "      <td>31</td>\n",
       "      <td>275000.0</td>\n",
       "      <td>52.38</td>\n",
       "      <td>2</td>\n",
       "      <td>2</td>\n",
       "      <td>142.0</td>\n",
       "      <td>36%-&lt;50%</td>\n",
       "      <td>&gt;74</td>\n",
       "    </tr>\n",
       "    <tr>\n",
       "      <th>2</th>\n",
       "      <td>Hispanic or Latino</td>\n",
       "      <td>White</td>\n",
       "      <td>Male</td>\n",
       "      <td>0</td>\n",
       "      <td>2</td>\n",
       "      <td>1</td>\n",
       "      <td>1</td>\n",
       "      <td>235000.0</td>\n",
       "      <td>80.00</td>\n",
       "      <td>2</td>\n",
       "      <td>2</td>\n",
       "      <td>60.0</td>\n",
       "      <td>36%-&lt;50%</td>\n",
       "      <td>35-44</td>\n",
       "    </tr>\n",
       "    <tr>\n",
       "      <th>3</th>\n",
       "      <td>Not Hispanic or Latino</td>\n",
       "      <td>White</td>\n",
       "      <td>Male</td>\n",
       "      <td>1</td>\n",
       "      <td>2</td>\n",
       "      <td>1</td>\n",
       "      <td>1</td>\n",
       "      <td>465000.0</td>\n",
       "      <td>94.69</td>\n",
       "      <td>2</td>\n",
       "      <td>2</td>\n",
       "      <td>112.0</td>\n",
       "      <td>36%-&lt;50%</td>\n",
       "      <td>35-44</td>\n",
       "    </tr>\n",
       "    <tr>\n",
       "      <th>4</th>\n",
       "      <td>Not Hispanic or Latino</td>\n",
       "      <td>Black or African American</td>\n",
       "      <td>Male</td>\n",
       "      <td>1</td>\n",
       "      <td>1</td>\n",
       "      <td>3</td>\n",
       "      <td>1</td>\n",
       "      <td>415000.0</td>\n",
       "      <td>100.00</td>\n",
       "      <td>2</td>\n",
       "      <td>2</td>\n",
       "      <td>83.0</td>\n",
       "      <td>50%-60%</td>\n",
       "      <td>25-34</td>\n",
       "    </tr>\n",
       "    <tr>\n",
       "      <th>...</th>\n",
       "      <td>...</td>\n",
       "      <td>...</td>\n",
       "      <td>...</td>\n",
       "      <td>...</td>\n",
       "      <td>...</td>\n",
       "      <td>...</td>\n",
       "      <td>...</td>\n",
       "      <td>...</td>\n",
       "      <td>...</td>\n",
       "      <td>...</td>\n",
       "      <td>...</td>\n",
       "      <td>...</td>\n",
       "      <td>...</td>\n",
       "      <td>...</td>\n",
       "    </tr>\n",
       "    <tr>\n",
       "      <th>11148</th>\n",
       "      <td>Hispanic or Latino</td>\n",
       "      <td>White</td>\n",
       "      <td>Male</td>\n",
       "      <td>0</td>\n",
       "      <td>2</td>\n",
       "      <td>1</td>\n",
       "      <td>32</td>\n",
       "      <td>225000.0</td>\n",
       "      <td>75.00</td>\n",
       "      <td>2</td>\n",
       "      <td>2</td>\n",
       "      <td>76.0</td>\n",
       "      <td>&gt;60%</td>\n",
       "      <td>55-64</td>\n",
       "    </tr>\n",
       "    <tr>\n",
       "      <th>11149</th>\n",
       "      <td>Not Hispanic or Latino</td>\n",
       "      <td>Black or African American</td>\n",
       "      <td>Male</td>\n",
       "      <td>1</td>\n",
       "      <td>2</td>\n",
       "      <td>1</td>\n",
       "      <td>1</td>\n",
       "      <td>345000.0</td>\n",
       "      <td>80.00</td>\n",
       "      <td>2</td>\n",
       "      <td>2</td>\n",
       "      <td>168.0</td>\n",
       "      <td>36%-&lt;50%</td>\n",
       "      <td>25-34</td>\n",
       "    </tr>\n",
       "    <tr>\n",
       "      <th>11150</th>\n",
       "      <td>Not Hispanic or Latino</td>\n",
       "      <td>Black or African American</td>\n",
       "      <td>Male</td>\n",
       "      <td>0</td>\n",
       "      <td>2</td>\n",
       "      <td>1</td>\n",
       "      <td>32</td>\n",
       "      <td>385000.0</td>\n",
       "      <td>75.00</td>\n",
       "      <td>2</td>\n",
       "      <td>2</td>\n",
       "      <td>160.0</td>\n",
       "      <td>36%-&lt;50%</td>\n",
       "      <td>25-34</td>\n",
       "    </tr>\n",
       "    <tr>\n",
       "      <th>11151</th>\n",
       "      <td>Not Hispanic or Latino</td>\n",
       "      <td>White</td>\n",
       "      <td>Male</td>\n",
       "      <td>1</td>\n",
       "      <td>2</td>\n",
       "      <td>1</td>\n",
       "      <td>32</td>\n",
       "      <td>655000.0</td>\n",
       "      <td>77.00</td>\n",
       "      <td>2</td>\n",
       "      <td>2</td>\n",
       "      <td>150.0</td>\n",
       "      <td>36%-&lt;50%</td>\n",
       "      <td>55-64</td>\n",
       "    </tr>\n",
       "    <tr>\n",
       "      <th>11152</th>\n",
       "      <td>Not Hispanic or Latino</td>\n",
       "      <td>Black or African American</td>\n",
       "      <td>Male</td>\n",
       "      <td>1</td>\n",
       "      <td>2</td>\n",
       "      <td>1</td>\n",
       "      <td>32</td>\n",
       "      <td>475000.0</td>\n",
       "      <td>65.00</td>\n",
       "      <td>2</td>\n",
       "      <td>2</td>\n",
       "      <td>173.0</td>\n",
       "      <td>36%-&lt;50%</td>\n",
       "      <td>25-34</td>\n",
       "    </tr>\n",
       "  </tbody>\n",
       "</table>\n",
       "<p>11153 rows × 14 columns</p>\n",
       "</div>"
      ],
      "text/plain": [
       "            derived_ethnicity               derived_race derived_sex  \\\n",
       "0      Not Hispanic or Latino  Black or African American      Female   \n",
       "1      Not Hispanic or Latino  Black or African American      Female   \n",
       "2          Hispanic or Latino                      White        Male   \n",
       "3      Not Hispanic or Latino                      White        Male   \n",
       "4      Not Hispanic or Latino  Black or African American        Male   \n",
       "...                       ...                        ...         ...   \n",
       "11148      Hispanic or Latino                      White        Male   \n",
       "11149  Not Hispanic or Latino  Black or African American        Male   \n",
       "11150  Not Hispanic or Latino  Black or African American        Male   \n",
       "11151  Not Hispanic or Latino                      White        Male   \n",
       "11152  Not Hispanic or Latino  Black or African American        Male   \n",
       "\n",
       "       action_taken  preapproval  loan_type  loan_purpose  loan_amount  \\\n",
       "0                 1            2          1            32     105000.0   \n",
       "1                 0            2          1            31     275000.0   \n",
       "2                 0            2          1             1     235000.0   \n",
       "3                 1            2          1             1     465000.0   \n",
       "4                 1            1          3             1     415000.0   \n",
       "...             ...          ...        ...           ...          ...   \n",
       "11148             0            2          1            32     225000.0   \n",
       "11149             1            2          1             1     345000.0   \n",
       "11150             0            2          1            32     385000.0   \n",
       "11151             1            2          1            32     655000.0   \n",
       "11152             1            2          1            32     475000.0   \n",
       "\n",
       "       loan_to_value_ratio  interest_only_payment  balloon_payment  income  \\\n",
       "0                    75.00                      2                2    91.0   \n",
       "1                    52.38                      2                2   142.0   \n",
       "2                    80.00                      2                2    60.0   \n",
       "3                    94.69                      2                2   112.0   \n",
       "4                   100.00                      2                2    83.0   \n",
       "...                    ...                    ...              ...     ...   \n",
       "11148                75.00                      2                2    76.0   \n",
       "11149                80.00                      2                2   168.0   \n",
       "11150                75.00                      2                2   160.0   \n",
       "11151                77.00                      2                2   150.0   \n",
       "11152                65.00                      2                2   173.0   \n",
       "\n",
       "      debt_to_income_ratio applicant_age  \n",
       "0                 36%-<50%         35-44  \n",
       "1                 36%-<50%           >74  \n",
       "2                 36%-<50%         35-44  \n",
       "3                 36%-<50%         35-44  \n",
       "4                  50%-60%         25-34  \n",
       "...                    ...           ...  \n",
       "11148                 >60%         55-64  \n",
       "11149             36%-<50%         25-34  \n",
       "11150             36%-<50%         25-34  \n",
       "11151             36%-<50%         55-64  \n",
       "11152             36%-<50%         25-34  \n",
       "\n",
       "[11153 rows x 14 columns]"
      ]
     },
     "execution_count": 57,
     "metadata": {},
     "output_type": "execute_result"
    }
   ],
   "source": [
    "df_cr"
   ]
  },
  {
   "cell_type": "markdown",
   "id": "3ac48b8d",
   "metadata": {},
   "source": [
    "#### Understand Numerical Feature Distribution\n",
    "##### loan_amount, loan_to_value_ratio, income"
   ]
  },
  {
   "cell_type": "code",
   "execution_count": 58,
   "id": "e609c87e",
   "metadata": {
    "scrolled": true
   },
   "outputs": [
    {
     "data": {
      "text/plain": [
       "<AxesSubplot:xlabel='action_taken', ylabel='income'>"
      ]
     },
     "execution_count": 58,
     "metadata": {},
     "output_type": "execute_result"
    },
    {
     "data": {
      "image/png": "[encoded data removed]",
      "text/plain": [
       "<Figure size 1008x504 with 3 Axes>"
      ]
     },
     "metadata": {
      "needs_background": "light"
     },
     "output_type": "display_data"
    }
   ],
   "source": [
    "_,axs = plt.subplots(1,3, figsize=[14,7])\n",
    "_.title = \"title\"\n",
    "sns.boxplot(x='action_taken', y='loan_amount', data=df_cr, ax=axs[0])\n",
    "sns.boxplot(x='action_taken', y='loan_to_value_ratio', data=df_cr, ax=axs[1])\n",
    "sns.boxplot(x='action_taken', y='income', data=df_cr, ax=axs[2])"
   ]
  },
  {
   "cell_type": "markdown",
   "id": "3108fde1",
   "metadata": {},
   "source": [
    "#### Understand Categorical Feature Distribution\n",
    "##### derived_ethnicity, derived_race, interest_only_payment, balloon_payment, derived_sex, preapproval, loan_type,  loan_purpose"
   ]
  },
  {
   "cell_type": "code",
   "execution_count": 59,
   "id": "ea040280",
   "metadata": {},
   "outputs": [
    {
     "data": {
      "text/plain": [
       "<AxesSubplot:xlabel='action_taken', ylabel='count'>"
      ]
     },
     "execution_count": 59,
     "metadata": {},
     "output_type": "execute_result"
    },
    {
     "data": {
      "image/png": "[encoded data removed]",
      "text/plain": [
       "<Figure size 864x432 with 2 Axes>"
      ]
     },
     "metadata": {
      "needs_background": "light"
     },
     "output_type": "display_data"
    }
   ],
   "source": [
    " _,axss = plt.subplots(1,2, figsize=[12,6])\n",
    "sns.countplot(x='action_taken', hue='derived_ethnicity', data=df_cr, ax=axss[0])\n",
    "sns.countplot(x='action_taken', hue='derived_race', data=df_cr, ax=axss[1])"
   ]
  },
  {
   "cell_type": "code",
   "execution_count": 60,
   "id": "450d987c",
   "metadata": {
    "scrolled": true
   },
   "outputs": [
    {
     "data": {
      "text/plain": [
       "<AxesSubplot:xlabel='action_taken', ylabel='count'>"
      ]
     },
     "execution_count": 60,
     "metadata": {},
     "output_type": "execute_result"
    },
    {
     "data": {
      "image/png": "[encoded data removed]",
      "text/plain": [
       "<Figure size 864x432 with 4 Axes>"
      ]
     },
     "metadata": {
      "needs_background": "light"
     },
     "output_type": "display_data"
    }
   ],
   "source": [
    "_,axss = plt.subplots(2,2, figsize=[12,6])\n",
    "sns.countplot(x='action_taken', hue='interest_only_payment', data=df_cr, ax=axss[0][0])\n",
    "sns.countplot(x='action_taken', hue='balloon_payment', data=df_cr, ax=axss[0][1])\n",
    "sns.countplot(x='action_taken', hue='derived_sex', data=df_cr, ax=axss[1][0])\n",
    "sns.countplot(x='action_taken', hue='preapproval', data=df_cr, ax=axss[1][1])"
   ]
  },
  {
   "cell_type": "code",
   "execution_count": 61,
   "id": "454a7916",
   "metadata": {},
   "outputs": [
    {
     "data": {
      "text/plain": [
       "<AxesSubplot:xlabel='action_taken', ylabel='count'>"
      ]
     },
     "execution_count": 61,
     "metadata": {},
     "output_type": "execute_result"
    },
    {
     "data": {
      "image/png": "[encoded data removed]",
      "text/plain": [
       "<Figure size 864x432 with 2 Axes>"
      ]
     },
     "metadata": {
      "needs_background": "light"
     },
     "output_type": "display_data"
    }
   ],
   "source": [
    "_,axss = plt.subplots(1,2, figsize=[12,6])\n",
    "sns.countplot(x='action_taken', hue='loan_type', data=df_cr, ax=axss[0])\n",
    "sns.countplot(x='action_taken', hue='loan_purpose', data=df_cr, ax=axss[1])"
   ]
  },
  {
   "cell_type": "code",
   "execution_count": 62,
   "id": "53e0b785",
   "metadata": {
    "scrolled": false
   },
   "outputs": [
    {
     "data": {
      "text/plain": [
       "<AxesSubplot:xlabel='action_taken', ylabel='count'>"
      ]
     },
     "execution_count": 62,
     "metadata": {},
     "output_type": "execute_result"
    },
    {
     "data": {
      "image/png": "[encoded data removed]",
      "text/plain": [
       "<Figure size 864x432 with 2 Axes>"
      ]
     },
     "metadata": {
      "needs_background": "light"
     },
     "output_type": "display_data"
    }
   ],
   "source": [
    "_,axss = plt.subplots(1,2, figsize=[12,6])\n",
    "sns.countplot(x='action_taken', hue='debt_to_income_ratio', data=df_cr, ax=axss[0])\n",
    "sns.countplot(x='action_taken', hue='applicant_age', data=df_cr, ax=axss[1])"
   ]
  },
  {
   "cell_type": "markdown",
   "id": "6e9e7ddf",
   "metadata": {},
   "source": [
    "# Part 2: Feature Preprocessing"
   ]
  },
  {
   "cell_type": "code",
   "execution_count": null,
   "id": "48aeb805",
   "metadata": {},
   "outputs": [],
   "source": []
  }
 ],
 "metadata": {
  "kernelspec": {
   "display_name": "Python 3",
   "language": "python",
   "name": "python3"
  },
  "language_info": {
   "codemirror_mode": {
    "name": "ipython",
    "version": 3
   },
   "file_extension": ".py",
   "mimetype": "text/x-python",
   "name": "python",
   "nbconvert_exporter": "python",
   "pygments_lexer": "ipython3",
   "version": "3.8.8"
  }
 },
 "nbformat": 4,
 "nbformat_minor": 5
}
