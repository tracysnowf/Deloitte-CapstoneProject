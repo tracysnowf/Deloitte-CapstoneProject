{
 "cells": [
  {
   "cell_type": "markdown",
   "id": "87662e00",
   "metadata": {},
   "source": [
    "# Part 1: Data Exploration"
   ]
  },
  {
   "cell_type": "markdown",
   "id": "b142b097",
   "metadata": {},
   "source": [
    "## Part 1.1: Understand the Raw Dataset"
   ]
  },
  {
   "cell_type": "code",
   "execution_count": 4,
   "id": "564b97cb",
   "metadata": {},
   "outputs": [],
   "source": [
    "import numpy as np\n",
    "import pandas as pd\n",
    "import matplotlib.pyplot as plt\n",
    "import seaborn as sns"
   ]
  },
  {
   "cell_type": "code",
   "execution_count": 5,
   "id": "e10f8c00",
   "metadata": {},
   "outputs": [],
   "source": [
    "credit_risk = 'https://raw.githubusercontent.com/tracysnowf/Deloitte-CapstoneProject/main/data/Mortgage%20Lending_raw.csv'\n",
    "df_cr = pd.read_csv(credit_risk, sep = ',')"
   ]
  },
  {
   "cell_type": "markdown",
   "id": "d637271f",
   "metadata": {},
   "source": []
  },
  {
   "cell_type": "code",
   "execution_count": 6,
   "id": "e6f61669",
   "metadata": {
    "scrolled": false
   },
   "outputs": [
    {
     "data": {
      "text/html": [
       "<div>\n",
       "<style scoped>\n",
       "    .dataframe tbody tr th:only-of-type {\n",
       "        vertical-align: middle;\n",
       "    }\n",
       "\n",
       "    .dataframe tbody tr th {\n",
       "        vertical-align: top;\n",
       "    }\n",
       "\n",
       "    .dataframe thead th {\n",
       "        text-align: right;\n",
       "    }\n",
       "</style>\n",
       "<table border=\"1\" class=\"dataframe\">\n",
       "  <thead>\n",
       "    <tr style=\"text-align: right;\">\n",
       "      <th></th>\n",
       "      <th>Unnamed: 0</th>\n",
       "      <th>derived_ethnicity</th>\n",
       "      <th>derived_race</th>\n",
       "      <th>derived_sex</th>\n",
       "      <th>action_taken</th>\n",
       "      <th>preapproval</th>\n",
       "      <th>loan_type</th>\n",
       "      <th>loan_purpose</th>\n",
       "      <th>loan_amount</th>\n",
       "      <th>loan_to_value_ratio</th>\n",
       "      <th>interest_only_payment</th>\n",
       "      <th>balloon_payment</th>\n",
       "      <th>income</th>\n",
       "      <th>debt_to_income_ratio</th>\n",
       "      <th>applicant_age</th>\n",
       "    </tr>\n",
       "  </thead>\n",
       "  <tbody>\n",
       "    <tr>\n",
       "      <th>0</th>\n",
       "      <td>0</td>\n",
       "      <td>Not Hispanic or Latino</td>\n",
       "      <td>Black or African American</td>\n",
       "      <td>Female</td>\n",
       "      <td>1</td>\n",
       "      <td>2</td>\n",
       "      <td>1</td>\n",
       "      <td>32</td>\n",
       "      <td>105000.0</td>\n",
       "      <td>75.0</td>\n",
       "      <td>2</td>\n",
       "      <td>2</td>\n",
       "      <td>91.0</td>\n",
       "      <td>48</td>\n",
       "      <td>35-44</td>\n",
       "    </tr>\n",
       "    <tr>\n",
       "      <th>1</th>\n",
       "      <td>1</td>\n",
       "      <td>Not Hispanic or Latino</td>\n",
       "      <td>Black or African American</td>\n",
       "      <td>Female</td>\n",
       "      <td>3</td>\n",
       "      <td>2</td>\n",
       "      <td>1</td>\n",
       "      <td>31</td>\n",
       "      <td>275000.0</td>\n",
       "      <td>52.38</td>\n",
       "      <td>2</td>\n",
       "      <td>2</td>\n",
       "      <td>142.0</td>\n",
       "      <td>44</td>\n",
       "      <td>&gt;74</td>\n",
       "    </tr>\n",
       "    <tr>\n",
       "      <th>2</th>\n",
       "      <td>2</td>\n",
       "      <td>Hispanic or Latino</td>\n",
       "      <td>White</td>\n",
       "      <td>Male</td>\n",
       "      <td>3</td>\n",
       "      <td>2</td>\n",
       "      <td>1</td>\n",
       "      <td>1</td>\n",
       "      <td>235000.0</td>\n",
       "      <td>80.0</td>\n",
       "      <td>2</td>\n",
       "      <td>2</td>\n",
       "      <td>60.0</td>\n",
       "      <td>38</td>\n",
       "      <td>35-44</td>\n",
       "    </tr>\n",
       "    <tr>\n",
       "      <th>3</th>\n",
       "      <td>3</td>\n",
       "      <td>Not Hispanic or Latino</td>\n",
       "      <td>White</td>\n",
       "      <td>Male</td>\n",
       "      <td>1</td>\n",
       "      <td>2</td>\n",
       "      <td>1</td>\n",
       "      <td>1</td>\n",
       "      <td>465000.0</td>\n",
       "      <td>94.69</td>\n",
       "      <td>2</td>\n",
       "      <td>2</td>\n",
       "      <td>112.0</td>\n",
       "      <td>42</td>\n",
       "      <td>35-44</td>\n",
       "    </tr>\n",
       "    <tr>\n",
       "      <th>4</th>\n",
       "      <td>4</td>\n",
       "      <td>Not Hispanic or Latino</td>\n",
       "      <td>Black or African American</td>\n",
       "      <td>Male</td>\n",
       "      <td>1</td>\n",
       "      <td>1</td>\n",
       "      <td>3</td>\n",
       "      <td>1</td>\n",
       "      <td>415000.0</td>\n",
       "      <td>100.0</td>\n",
       "      <td>2</td>\n",
       "      <td>2</td>\n",
       "      <td>83.0</td>\n",
       "      <td>50%-60%</td>\n",
       "      <td>25-34</td>\n",
       "    </tr>\n",
       "  </tbody>\n",
       "</table>\n",
       "</div>"
      ],
      "text/plain": [
       "   Unnamed: 0       derived_ethnicity               derived_race derived_sex  \\\n",
       "0           0  Not Hispanic or Latino  Black or African American      Female   \n",
       "1           1  Not Hispanic or Latino  Black or African American      Female   \n",
       "2           2      Hispanic or Latino                      White        Male   \n",
       "3           3  Not Hispanic or Latino                      White        Male   \n",
       "4           4  Not Hispanic or Latino  Black or African American        Male   \n",
       "\n",
       "   action_taken  preapproval  loan_type  loan_purpose  loan_amount  \\\n",
       "0             1            2          1            32     105000.0   \n",
       "1             3            2          1            31     275000.0   \n",
       "2             3            2          1             1     235000.0   \n",
       "3             1            2          1             1     465000.0   \n",
       "4             1            1          3             1     415000.0   \n",
       "\n",
       "  loan_to_value_ratio  interest_only_payment  balloon_payment  income  \\\n",
       "0                75.0                      2                2    91.0   \n",
       "1               52.38                      2                2   142.0   \n",
       "2                80.0                      2                2    60.0   \n",
       "3               94.69                      2                2   112.0   \n",
       "4               100.0                      2                2    83.0   \n",
       "\n",
       "  debt_to_income_ratio applicant_age  \n",
       "0                   48         35-44  \n",
       "1                   44           >74  \n",
       "2                   38         35-44  \n",
       "3                   42         35-44  \n",
       "4              50%-60%         25-34  "
      ]
     },
     "execution_count": 6,
     "metadata": {},
     "output_type": "execute_result"
    }
   ],
   "source": [
    "df_cr.head() # column 0 is redundant"
   ]
  },
  {
   "cell_type": "code",
   "execution_count": 7,
   "id": "3bbd805c",
   "metadata": {},
   "outputs": [
    {
     "name": "stdout",
     "output_type": "stream",
     "text": [
      "<class 'pandas.core.frame.DataFrame'>\n",
      "RangeIndex: 14509 entries, 0 to 14508\n",
      "Data columns (total 15 columns):\n",
      " #   Column                 Non-Null Count  Dtype  \n",
      "---  ------                 --------------  -----  \n",
      " 0   Unnamed: 0             14509 non-null  int64  \n",
      " 1   derived_ethnicity      14509 non-null  object \n",
      " 2   derived_race           14509 non-null  object \n",
      " 3   derived_sex            14509 non-null  object \n",
      " 4   action_taken           14509 non-null  int64  \n",
      " 5   preapproval            14509 non-null  int64  \n",
      " 6   loan_type              14509 non-null  int64  \n",
      " 7   loan_purpose           14509 non-null  int64  \n",
      " 8   loan_amount            14509 non-null  float64\n",
      " 9   loan_to_value_ratio    13902 non-null  object \n",
      " 10  interest_only_payment  14509 non-null  int64  \n",
      " 11  balloon_payment        14509 non-null  int64  \n",
      " 12  income                 14027 non-null  float64\n",
      " 13  debt_to_income_ratio   13787 non-null  object \n",
      " 14  applicant_age          14509 non-null  object \n",
      "dtypes: float64(2), int64(7), object(6)\n",
      "memory usage: 1.7+ MB\n"
     ]
    }
   ],
   "source": [
    "# check data info\n",
    "df_cr.info()"
   ]
  },
  {
   "cell_type": "code",
   "execution_count": 8,
   "id": "678b8385",
   "metadata": {
    "scrolled": true
   },
   "outputs": [
    {
     "data": {
      "text/plain": [
       "Unnamed: 0               14509\n",
       "derived_ethnicity            5\n",
       "derived_race                 9\n",
       "derived_sex                  2\n",
       "action_taken                 2\n",
       "preapproval                  2\n",
       "loan_type                    4\n",
       "loan_purpose                 6\n",
       "loan_amount                237\n",
       "loan_to_value_ratio       7074\n",
       "interest_only_payment        3\n",
       "balloon_payment              3\n",
       "income                     778\n",
       "debt_to_income_ratio        20\n",
       "applicant_age                8\n",
       "dtype: int64"
      ]
     },
     "execution_count": 8,
     "metadata": {},
     "output_type": "execute_result"
    }
   ],
   "source": [
    "# check the unique values for each column\n",
    "df_cr.nunique()"
   ]
  },
  {
   "cell_type": "code",
   "execution_count": 9,
   "id": "a6926495",
   "metadata": {},
   "outputs": [],
   "source": [
    "df_cr = df_cr.drop('Unnamed: 0', 1) # delete index column from csv"
   ]
  },
  {
   "cell_type": "markdown",
   "id": "09520e45",
   "metadata": {},
   "source": [
    "##### action_taken - Y variable\n",
    "1 -- Loan originated (the qualification and verification process that begins a new loan.) <br>\n",
    "2 -- Application approved but not accepted (If the loan was approved before closing but the applicant either failed to respond or the loan was not otherwise closed, then the action taken would be reported as approved but not accepted.) <br>\n",
    "3 -- Application denied by financial institution <br>\n",
    "\n",
    "Comments: <br>\n",
    "category 1 (a typo) might actually be 2(Approved) in the codebook, and 3 stays the same(Disapproved)"
   ]
  },
  {
   "cell_type": "code",
   "execution_count": 10,
   "id": "36bb0854",
   "metadata": {
    "scrolled": true
   },
   "outputs": [
    {
     "data": {
      "text/plain": [
       "array([1, 3], dtype=int64)"
      ]
     },
     "execution_count": 10,
     "metadata": {},
     "output_type": "execute_result"
    }
   ],
   "source": [
    "pd.unique(df_cr['action_taken'])"
   ]
  },
  {
   "cell_type": "code",
   "execution_count": 11,
   "id": "960e2679",
   "metadata": {},
   "outputs": [],
   "source": [
    "# new codebook: 1 - Approved; 0 - Disapproved\n",
    "# so change all the vlaues of 3 to 0\n",
    "df_cr['action_taken'].mask((df_cr['action_taken'] == 3), 0, inplace=True)"
   ]
  },
  {
   "cell_type": "code",
   "execution_count": 12,
   "id": "7782980c",
   "metadata": {},
   "outputs": [
    {
     "data": {
      "text/plain": [
       "1    10871\n",
       "0     3638\n",
       "Name: action_taken, dtype: int64"
      ]
     },
     "execution_count": 12,
     "metadata": {},
     "output_type": "execute_result"
    }
   ],
   "source": [
    "# check the distribution of target variable action_taken\n",
    "df_cr.loc[:,'action_taken'].value_counts()"
   ]
  },
  {
   "cell_type": "code",
   "execution_count": null,
   "id": "89efbb7d",
   "metadata": {},
   "outputs": [],
   "source": []
  },
  {
   "cell_type": "markdown",
   "id": "8bc5acdd",
   "metadata": {},
   "source": [
    "## Part 1.2: Understand the Features"
   ]
  },
  {
   "cell_type": "code",
   "execution_count": 13,
   "id": "0302d276",
   "metadata": {
    "scrolled": false
   },
   "outputs": [
    {
     "data": {
      "text/html": [
       "<div>\n",
       "<style scoped>\n",
       "    .dataframe tbody tr th:only-of-type {\n",
       "        vertical-align: middle;\n",
       "    }\n",
       "\n",
       "    .dataframe tbody tr th {\n",
       "        vertical-align: top;\n",
       "    }\n",
       "\n",
       "    .dataframe thead th {\n",
       "        text-align: right;\n",
       "    }\n",
       "</style>\n",
       "<table border=\"1\" class=\"dataframe\">\n",
       "  <thead>\n",
       "    <tr style=\"text-align: right;\">\n",
       "      <th></th>\n",
       "      <th>action_taken</th>\n",
       "      <th>preapproval</th>\n",
       "      <th>loan_type</th>\n",
       "      <th>loan_purpose</th>\n",
       "      <th>loan_amount</th>\n",
       "      <th>interest_only_payment</th>\n",
       "      <th>balloon_payment</th>\n",
       "      <th>income</th>\n",
       "    </tr>\n",
       "  </thead>\n",
       "  <tbody>\n",
       "    <tr>\n",
       "      <th>count</th>\n",
       "      <td>14509.000000</td>\n",
       "      <td>14509.000000</td>\n",
       "      <td>14509.000000</td>\n",
       "      <td>14509.000000</td>\n",
       "      <td>1.450900e+04</td>\n",
       "      <td>14509.000000</td>\n",
       "      <td>14509.000000</td>\n",
       "      <td>14027.000000</td>\n",
       "    </tr>\n",
       "    <tr>\n",
       "      <th>mean</th>\n",
       "      <td>0.749259</td>\n",
       "      <td>1.978979</td>\n",
       "      <td>1.147081</td>\n",
       "      <td>14.755669</td>\n",
       "      <td>3.924981e+05</td>\n",
       "      <td>14.098973</td>\n",
       "      <td>14.135295</td>\n",
       "      <td>160.826335</td>\n",
       "    </tr>\n",
       "    <tr>\n",
       "      <th>std</th>\n",
       "      <td>0.433455</td>\n",
       "      <td>0.143461</td>\n",
       "      <td>0.459418</td>\n",
       "      <td>14.860877</td>\n",
       "      <td>3.340678e+05</td>\n",
       "      <td>115.466461</td>\n",
       "      <td>115.462492</td>\n",
       "      <td>297.351109</td>\n",
       "    </tr>\n",
       "    <tr>\n",
       "      <th>min</th>\n",
       "      <td>0.000000</td>\n",
       "      <td>1.000000</td>\n",
       "      <td>1.000000</td>\n",
       "      <td>1.000000</td>\n",
       "      <td>5.000000e+03</td>\n",
       "      <td>1.000000</td>\n",
       "      <td>1.000000</td>\n",
       "      <td>-123.000000</td>\n",
       "    </tr>\n",
       "    <tr>\n",
       "      <th>25%</th>\n",
       "      <td>0.000000</td>\n",
       "      <td>2.000000</td>\n",
       "      <td>1.000000</td>\n",
       "      <td>1.000000</td>\n",
       "      <td>1.950000e+05</td>\n",
       "      <td>2.000000</td>\n",
       "      <td>2.000000</td>\n",
       "      <td>79.000000</td>\n",
       "    </tr>\n",
       "    <tr>\n",
       "      <th>50%</th>\n",
       "      <td>1.000000</td>\n",
       "      <td>2.000000</td>\n",
       "      <td>1.000000</td>\n",
       "      <td>4.000000</td>\n",
       "      <td>3.450000e+05</td>\n",
       "      <td>2.000000</td>\n",
       "      <td>2.000000</td>\n",
       "      <td>116.000000</td>\n",
       "    </tr>\n",
       "    <tr>\n",
       "      <th>75%</th>\n",
       "      <td>1.000000</td>\n",
       "      <td>2.000000</td>\n",
       "      <td>1.000000</td>\n",
       "      <td>31.000000</td>\n",
       "      <td>5.050000e+05</td>\n",
       "      <td>2.000000</td>\n",
       "      <td>2.000000</td>\n",
       "      <td>170.000000</td>\n",
       "    </tr>\n",
       "    <tr>\n",
       "      <th>max</th>\n",
       "      <td>1.000000</td>\n",
       "      <td>2.000000</td>\n",
       "      <td>4.000000</td>\n",
       "      <td>32.000000</td>\n",
       "      <td>7.505000e+06</td>\n",
       "      <td>1111.000000</td>\n",
       "      <td>1111.000000</td>\n",
       "      <td>20000.000000</td>\n",
       "    </tr>\n",
       "  </tbody>\n",
       "</table>\n",
       "</div>"
      ],
      "text/plain": [
       "       action_taken   preapproval     loan_type  loan_purpose   loan_amount  \\\n",
       "count  14509.000000  14509.000000  14509.000000  14509.000000  1.450900e+04   \n",
       "mean       0.749259      1.978979      1.147081     14.755669  3.924981e+05   \n",
       "std        0.433455      0.143461      0.459418     14.860877  3.340678e+05   \n",
       "min        0.000000      1.000000      1.000000      1.000000  5.000000e+03   \n",
       "25%        0.000000      2.000000      1.000000      1.000000  1.950000e+05   \n",
       "50%        1.000000      2.000000      1.000000      4.000000  3.450000e+05   \n",
       "75%        1.000000      2.000000      1.000000     31.000000  5.050000e+05   \n",
       "max        1.000000      2.000000      4.000000     32.000000  7.505000e+06   \n",
       "\n",
       "       interest_only_payment  balloon_payment        income  \n",
       "count           14509.000000     14509.000000  14027.000000  \n",
       "mean               14.098973        14.135295    160.826335  \n",
       "std               115.466461       115.462492    297.351109  \n",
       "min                 1.000000         1.000000   -123.000000  \n",
       "25%                 2.000000         2.000000     79.000000  \n",
       "50%                 2.000000         2.000000    116.000000  \n",
       "75%                 2.000000         2.000000    170.000000  \n",
       "max              1111.000000      1111.000000  20000.000000  "
      ]
     },
     "execution_count": 13,
     "metadata": {},
     "output_type": "execute_result"
    }
   ],
   "source": [
    "# understand overall features\n",
    "df_cr.describe()\n",
    "# Action Taken:\n",
    "# 1 -- Loan originated\n",
    "# 2 -- Application approved but not accepted\n",
    "# 3 -- Application denied by financial institution\n",
    "\n",
    "# Preapproval:\n",
    "# 1 -- Preapproval was requested\n",
    "# 2 -- Preapproval was not requested\n",
    "\n",
    "# Loan Type: **75% IQR = 1\n",
    "# 1 -- Conventional (any loan other than FHA, VA, FSA, or RHS loans)\n",
    "# 2 -- FHA-insured (Federal Housing Administration)\n",
    "# 3 -- VA-guaranteed (Veterans Administration)\n",
    "# 4 -- FSA/RHS (Farm Service Agency or Rural Housing Service)\n",
    "\n",
    "# Loan Purpose: **error data,\n",
    "# 1 -- Home purchase\n",
    "# 2 -- Home improvement\n",
    "# 3 -- Refinancing\n",
    "\n",
    "# Loan Amount: in thousands of dollars\n",
    "\n",
    "# interest_only_payment **not in the codebook, 1111？\n",
    "\n",
    "# balloon_payment **not in the codebook, 1111？\n",
    "\n",
    "# income: Gross Annual Income: in thousands of dollars **negative/ error data"
   ]
  },
  {
   "cell_type": "markdown",
   "id": "dfce8f2a",
   "metadata": {},
   "source": [
    "### Numerical Features Data Cleaning "
   ]
  },
  {
   "cell_type": "code",
   "execution_count": 14,
   "id": "e9fb6643",
   "metadata": {
    "scrolled": true
   },
   "outputs": [
    {
     "data": {
      "text/html": [
       "<div>\n",
       "<style scoped>\n",
       "    .dataframe tbody tr th:only-of-type {\n",
       "        vertical-align: middle;\n",
       "    }\n",
       "\n",
       "    .dataframe tbody tr th {\n",
       "        vertical-align: top;\n",
       "    }\n",
       "\n",
       "    .dataframe thead th {\n",
       "        text-align: right;\n",
       "    }\n",
       "</style>\n",
       "<table border=\"1\" class=\"dataframe\">\n",
       "  <thead>\n",
       "    <tr style=\"text-align: right;\">\n",
       "      <th></th>\n",
       "      <th>loan_amount</th>\n",
       "      <th>income</th>\n",
       "    </tr>\n",
       "  </thead>\n",
       "  <tbody>\n",
       "    <tr>\n",
       "      <th>count</th>\n",
       "      <td>1.450900e+04</td>\n",
       "      <td>14027.000000</td>\n",
       "    </tr>\n",
       "    <tr>\n",
       "      <th>mean</th>\n",
       "      <td>3.924981e+05</td>\n",
       "      <td>160.826335</td>\n",
       "    </tr>\n",
       "    <tr>\n",
       "      <th>std</th>\n",
       "      <td>3.340678e+05</td>\n",
       "      <td>297.351109</td>\n",
       "    </tr>\n",
       "    <tr>\n",
       "      <th>min</th>\n",
       "      <td>5.000000e+03</td>\n",
       "      <td>-123.000000</td>\n",
       "    </tr>\n",
       "    <tr>\n",
       "      <th>25%</th>\n",
       "      <td>1.950000e+05</td>\n",
       "      <td>79.000000</td>\n",
       "    </tr>\n",
       "    <tr>\n",
       "      <th>50%</th>\n",
       "      <td>3.450000e+05</td>\n",
       "      <td>116.000000</td>\n",
       "    </tr>\n",
       "    <tr>\n",
       "      <th>75%</th>\n",
       "      <td>5.050000e+05</td>\n",
       "      <td>170.000000</td>\n",
       "    </tr>\n",
       "    <tr>\n",
       "      <th>max</th>\n",
       "      <td>7.505000e+06</td>\n",
       "      <td>20000.000000</td>\n",
       "    </tr>\n",
       "  </tbody>\n",
       "</table>\n",
       "</div>"
      ],
      "text/plain": [
       "        loan_amount        income\n",
       "count  1.450900e+04  14027.000000\n",
       "mean   3.924981e+05    160.826335\n",
       "std    3.340678e+05    297.351109\n",
       "min    5.000000e+03   -123.000000\n",
       "25%    1.950000e+05     79.000000\n",
       "50%    3.450000e+05    116.000000\n",
       "75%    5.050000e+05    170.000000\n",
       "max    7.505000e+06  20000.000000"
      ]
     },
     "execution_count": 14,
     "metadata": {},
     "output_type": "execute_result"
    }
   ],
   "source": [
    "# understand numerical features\n",
    "# loan_amount look normal, need to clean column loan_to_value_ratio, income\n",
    "df_cr[[\"loan_amount\", \"loan_to_value_ratio\", \"income\"]].describe()"
   ]
  },
  {
   "cell_type": "markdown",
   "id": "30f6fa35",
   "metadata": {},
   "source": [
    "##### loan_to_value_ratio\n",
    "Description: The ratio of the total amount of debt secured by the property to the value of the property relied on in making the credit decisiontio."
   ]
  },
  {
   "cell_type": "code",
   "execution_count": 15,
   "id": "145cde97",
   "metadata": {
    "scrolled": false
   },
   "outputs": [
    {
     "data": {
      "text/plain": [
       "array(['75.0', '52.38', '80.0', ..., '68.883', '87.03', '52.45'],\n",
       "      dtype=object)"
      ]
     },
     "execution_count": 15,
     "metadata": {},
     "output_type": "execute_result"
    }
   ],
   "source": [
    "pd.unique(df_cr['loan_to_value_ratio'])"
   ]
  },
  {
   "cell_type": "code",
   "execution_count": 16,
   "id": "a2c52632",
   "metadata": {},
   "outputs": [
    {
     "data": {
      "text/plain": [
       "<class 'str'>      13902\n",
       "<class 'float'>      607\n",
       "Name: loan_to_value_ratio, dtype: int64"
      ]
     },
     "execution_count": 16,
     "metadata": {},
     "output_type": "execute_result"
    }
   ],
   "source": [
    "df_cr['loan_to_value_ratio'].map(type).value_counts()"
   ]
  },
  {
   "cell_type": "code",
   "execution_count": 17,
   "id": "9e5377bd",
   "metadata": {},
   "outputs": [
    {
     "data": {
      "text/plain": [
       "607"
      ]
     },
     "execution_count": 17,
     "metadata": {},
     "output_type": "execute_result"
    }
   ],
   "source": [
    "# 607 null values\n",
    "len(df_cr[pd.to_numeric(df_cr['loan_to_value_ratio'].isnull(),errors='coerce')])"
   ]
  },
  {
   "cell_type": "code",
   "execution_count": 18,
   "id": "bc3f3ccd",
   "metadata": {},
   "outputs": [
    {
     "data": {
      "text/plain": [
       "159"
      ]
     },
     "execution_count": 18,
     "metadata": {},
     "output_type": "execute_result"
    }
   ],
   "source": [
    "# 159 Exempt values\n",
    "len(df_cr[(df_cr['loan_to_value_ratio'] == \"Exempt\")])"
   ]
  },
  {
   "cell_type": "code",
   "execution_count": 19,
   "id": "8b5676ca",
   "metadata": {},
   "outputs": [],
   "source": [
    "# drop 607 null values and 159 Exempt values\n",
    "df_cr = df_cr[pd.to_numeric(df_cr['loan_to_value_ratio'].notnull(),errors='coerce')]\n",
    "df_cr = df_cr[(df_cr['loan_to_value_ratio'] != \"Exempt\")]\n",
    "# reset index\n",
    "df_cr = df_cr.reset_index(drop = True)\n",
    "# cast string types of values to numeric type\n",
    "pd.to_numeric(df_cr['loan_to_value_ratio'], errors='coerce')\n",
    "# cast string types of values to numeric type\n",
    "df_cr['loan_to_value_ratio'] = pd.to_numeric(df_cr['loan_to_value_ratio'], errors='coerce')"
   ]
  },
  {
   "cell_type": "code",
   "execution_count": 20,
   "id": "0b7b2ca8",
   "metadata": {},
   "outputs": [
    {
     "data": {
      "text/plain": [
       "<class 'float'>    13743\n",
       "Name: loan_to_value_ratio, dtype: int64"
      ]
     },
     "execution_count": 20,
     "metadata": {},
     "output_type": "execute_result"
    }
   ],
   "source": [
    "# check the result\n",
    "df_cr['loan_to_value_ratio'].map(type).value_counts()"
   ]
  },
  {
   "cell_type": "markdown",
   "id": "6288ac04",
   "metadata": {},
   "source": [
    "##### income"
   ]
  },
  {
   "cell_type": "code",
   "execution_count": 21,
   "id": "c7ca52df",
   "metadata": {},
   "outputs": [
    {
     "data": {
      "text/plain": [
       "252"
      ]
     },
     "execution_count": 21,
     "metadata": {},
     "output_type": "execute_result"
    }
   ],
   "source": [
    "# 252 null values\n",
    "len(df_cr[pd.to_numeric(df_cr['income'].isnull(),errors='coerce')])"
   ]
  },
  {
   "cell_type": "code",
   "execution_count": 22,
   "id": "89320b1b",
   "metadata": {},
   "outputs": [
    {
     "data": {
      "text/plain": [
       "10"
      ]
     },
     "execution_count": 22,
     "metadata": {},
     "output_type": "execute_result"
    }
   ],
   "source": [
    "# 10 negative/ error values, will keep them in the data\n",
    "len(df_cr[(df_cr['income'] < 0)])"
   ]
  },
  {
   "cell_type": "code",
   "execution_count": 23,
   "id": "bfd319b0",
   "metadata": {},
   "outputs": [],
   "source": [
    "# drop 252 null values\n",
    "df_cr = df_cr[pd.to_numeric(df_cr['income'].notnull(),errors='coerce')]\n",
    "# reset index\n",
    "df_cr = df_cr.reset_index(drop = True)"
   ]
  },
  {
   "cell_type": "code",
   "execution_count": 24,
   "id": "cb8b187b",
   "metadata": {
    "scrolled": true
   },
   "outputs": [
    {
     "data": {
      "text/plain": [
       "<class 'float'>    13491\n",
       "Name: loan_to_value_ratio, dtype: int64"
      ]
     },
     "execution_count": 24,
     "metadata": {},
     "output_type": "execute_result"
    }
   ],
   "source": [
    "# check the result\n",
    "df_cr['loan_to_value_ratio'].map(type).value_counts()"
   ]
  },
  {
   "cell_type": "markdown",
   "id": "e59b6620",
   "metadata": {},
   "source": [
    "#### Cleaned Numeric Features Summary"
   ]
  },
  {
   "cell_type": "code",
   "execution_count": 25,
   "id": "d6e637e2",
   "metadata": {
    "scrolled": true
   },
   "outputs": [
    {
     "data": {
      "text/html": [
       "<div>\n",
       "<style scoped>\n",
       "    .dataframe tbody tr th:only-of-type {\n",
       "        vertical-align: middle;\n",
       "    }\n",
       "\n",
       "    .dataframe tbody tr th {\n",
       "        vertical-align: top;\n",
       "    }\n",
       "\n",
       "    .dataframe thead th {\n",
       "        text-align: right;\n",
       "    }\n",
       "</style>\n",
       "<table border=\"1\" class=\"dataframe\">\n",
       "  <thead>\n",
       "    <tr style=\"text-align: right;\">\n",
       "      <th></th>\n",
       "      <th>loan_amount</th>\n",
       "      <th>loan_to_value_ratio</th>\n",
       "      <th>income</th>\n",
       "    </tr>\n",
       "  </thead>\n",
       "  <tbody>\n",
       "    <tr>\n",
       "      <th>count</th>\n",
       "      <td>1.349100e+04</td>\n",
       "      <td>13491.000000</td>\n",
       "      <td>13491.000000</td>\n",
       "    </tr>\n",
       "    <tr>\n",
       "      <th>mean</th>\n",
       "      <td>3.937288e+05</td>\n",
       "      <td>71.587950</td>\n",
       "      <td>162.098732</td>\n",
       "    </tr>\n",
       "    <tr>\n",
       "      <th>std</th>\n",
       "      <td>3.268893e+05</td>\n",
       "      <td>27.608336</td>\n",
       "      <td>295.949162</td>\n",
       "    </tr>\n",
       "    <tr>\n",
       "      <th>min</th>\n",
       "      <td>5.000000e+03</td>\n",
       "      <td>0.541000</td>\n",
       "      <td>-123.000000</td>\n",
       "    </tr>\n",
       "    <tr>\n",
       "      <th>25%</th>\n",
       "      <td>1.950000e+05</td>\n",
       "      <td>59.090000</td>\n",
       "      <td>80.000000</td>\n",
       "    </tr>\n",
       "    <tr>\n",
       "      <th>50%</th>\n",
       "      <td>3.450000e+05</td>\n",
       "      <td>75.000000</td>\n",
       "      <td>118.000000</td>\n",
       "    </tr>\n",
       "    <tr>\n",
       "      <th>75%</th>\n",
       "      <td>5.050000e+05</td>\n",
       "      <td>88.317000</td>\n",
       "      <td>172.000000</td>\n",
       "    </tr>\n",
       "    <tr>\n",
       "      <th>max</th>\n",
       "      <td>7.505000e+06</td>\n",
       "      <td>999.999000</td>\n",
       "      <td>20000.000000</td>\n",
       "    </tr>\n",
       "  </tbody>\n",
       "</table>\n",
       "</div>"
      ],
      "text/plain": [
       "        loan_amount  loan_to_value_ratio        income\n",
       "count  1.349100e+04         13491.000000  13491.000000\n",
       "mean   3.937288e+05            71.587950    162.098732\n",
       "std    3.268893e+05            27.608336    295.949162\n",
       "min    5.000000e+03             0.541000   -123.000000\n",
       "25%    1.950000e+05            59.090000     80.000000\n",
       "50%    3.450000e+05            75.000000    118.000000\n",
       "75%    5.050000e+05            88.317000    172.000000\n",
       "max    7.505000e+06           999.999000  20000.000000"
      ]
     },
     "execution_count": 25,
     "metadata": {},
     "output_type": "execute_result"
    }
   ],
   "source": [
    "# understand numeric features\n",
    "df_cr[[\"loan_amount\", \"loan_to_value_ratio\", \"income\"]].describe()"
   ]
  },
  {
   "cell_type": "markdown",
   "id": "41c2b351",
   "metadata": {},
   "source": [
    "#### Correlation of Numeric Features"
   ]
  },
  {
   "cell_type": "code",
   "execution_count": 26,
   "id": "c22d3190",
   "metadata": {},
   "outputs": [],
   "source": [
    "# correlation heat map of numerical features\n",
    "sns.set()\n",
    "\n",
    "numCol = []\n",
    "for col in df_cr:\n",
    "  if df_cr[col].dtype == np.float64:\n",
    "    numCol.append(col)\n",
    "corr = df_cr[numCol].corr()"
   ]
  },
  {
   "cell_type": "code",
   "execution_count": 27,
   "id": "0db34c0f",
   "metadata": {
    "scrolled": true
   },
   "outputs": [
    {
     "data": {
      "text/plain": [
       "[Text(0.5, 0, 'loan_amount'),\n",
       " Text(1.5, 0, 'loan_to_value_ratio'),\n",
       " Text(2.5, 0, 'income')]"
      ]
     },
     "execution_count": 27,
     "metadata": {},
     "output_type": "execute_result"
    },
    {
     "data": {
      "image/png": "[encoded data removed]",
      "text/plain": [
       "<Figure size 432x288 with 2 Axes>"
      ]
     },
     "metadata": {},
     "output_type": "display_data"
    }
   ],
   "source": [
    "ax = sns.heatmap(\n",
    "    corr, \n",
    "    vmin=-1, vmax=1, center=0,\n",
    "    cmap=sns.diverging_palette(20, 220, n=200),\n",
    "    square=True\n",
    ")\n",
    "ax.set_xticklabels(\n",
    "    ax.get_xticklabels(),\n",
    "    rotation=45,\n",
    "    horizontalalignment='right')"
   ]
  },
  {
   "cell_type": "code",
   "execution_count": 28,
   "id": "d882ae30",
   "metadata": {
    "scrolled": true
   },
   "outputs": [
    {
     "data": {
      "text/html": [
       "<div>\n",
       "<style scoped>\n",
       "    .dataframe tbody tr th:only-of-type {\n",
       "        vertical-align: middle;\n",
       "    }\n",
       "\n",
       "    .dataframe tbody tr th {\n",
       "        vertical-align: top;\n",
       "    }\n",
       "\n",
       "    .dataframe thead th {\n",
       "        text-align: right;\n",
       "    }\n",
       "</style>\n",
       "<table border=\"1\" class=\"dataframe\">\n",
       "  <thead>\n",
       "    <tr style=\"text-align: right;\">\n",
       "      <th></th>\n",
       "      <th>loan_amount</th>\n",
       "      <th>loan_to_value_ratio</th>\n",
       "      <th>income</th>\n",
       "    </tr>\n",
       "  </thead>\n",
       "  <tbody>\n",
       "    <tr>\n",
       "      <th>loan_amount</th>\n",
       "      <td>1.000000</td>\n",
       "      <td>0.145522</td>\n",
       "      <td>0.400237</td>\n",
       "    </tr>\n",
       "    <tr>\n",
       "      <th>loan_to_value_ratio</th>\n",
       "      <td>0.145522</td>\n",
       "      <td>1.000000</td>\n",
       "      <td>-0.003318</td>\n",
       "    </tr>\n",
       "    <tr>\n",
       "      <th>income</th>\n",
       "      <td>0.400237</td>\n",
       "      <td>-0.003318</td>\n",
       "      <td>1.000000</td>\n",
       "    </tr>\n",
       "  </tbody>\n",
       "</table>\n",
       "</div>"
      ],
      "text/plain": [
       "                     loan_amount  loan_to_value_ratio    income\n",
       "loan_amount             1.000000             0.145522  0.400237\n",
       "loan_to_value_ratio     0.145522             1.000000 -0.003318\n",
       "income                  0.400237            -0.003318  1.000000"
      ]
     },
     "execution_count": 28,
     "metadata": {},
     "output_type": "execute_result"
    }
   ],
   "source": [
    "# check the actual values of correlations\n",
    "corr_score = df_cr[numCol].corr()\n",
    "corr_score\n",
    "# heatmap conclusion: all good, no column needs to be dropped.\n",
    "# ***but keep in mind that loan_amount and loan_to_value_ratio are not dependent - might need to drop one of them when using linear/ logistic regression"
   ]
  },
  {
   "cell_type": "markdown",
   "id": "011f0e23",
   "metadata": {},
   "source": [
    "### Categorical Features Data Cleaning "
   ]
  },
  {
   "cell_type": "markdown",
   "id": "fb907da4",
   "metadata": {},
   "source": [
    "##### loan_type\n",
    "1 -- Conventional (any loan other than FHA, VA, FSA, or RHS loans) <br>\n",
    "2 -- FHA-insured (Federal Housing Administration) <br>\n",
    "3 -- VA-guaranteed (Veterans Administration) <br>\n",
    "4 -- FSA/RHS (Farm Service Agency or Rural Housing Service) <br>\n",
    "\n",
    "Comments: <br>\n",
    "75% IQR = 1 <br>\n",
    "About 90% of the whole loan type is type 1 - Conventional among the 4 types. <br>\n",
    "Is this data representative to the whole population? <br>\n",
    "possible research directions: if people with a Conventional loan type have an obviously higher/lower chance to get approved for the loan compared to people with a NON Conventional loan type?"
   ]
  },
  {
   "cell_type": "code",
   "execution_count": 29,
   "id": "b8f04377",
   "metadata": {
    "scrolled": true
   },
   "outputs": [
    {
     "data": {
      "text/plain": [
       "0.9175746794159069"
      ]
     },
     "execution_count": 29,
     "metadata": {},
     "output_type": "execute_result"
    }
   ],
   "source": [
    "len(df_cr[df_cr['loan_type'] == 1]) / len(df_cr['loan_type'])"
   ]
  },
  {
   "cell_type": "code",
   "execution_count": 30,
   "id": "94179f3e",
   "metadata": {},
   "outputs": [
    {
     "data": {
      "text/plain": [
       "<AxesSubplot:>"
      ]
     },
     "execution_count": 30,
     "metadata": {},
     "output_type": "execute_result"
    },
    {
     "data": {
      "image/png": "[encoded data removed]",
      "text/plain": [
       "<Figure size 432x288 with 1 Axes>"
      ]
     },
     "metadata": {},
     "output_type": "display_data"
    }
   ],
   "source": [
    "# explore loan_type category\n",
    "df_cr[\"loan_type\"].value_counts().plot(kind='barh')"
   ]
  },
  {
   "cell_type": "markdown",
   "id": "e01e842d",
   "metadata": {},
   "source": [
    "##### loan_purpose \n",
    "Description: The purpose of covered loan or application\n",
    "Values: <br>\n",
    "1 - Home purchase <br>\n",
    "2 - Home improvement <br>\n",
    "31 - Refinancing <br>\n",
    "32 - Cash-out refinancing <br>\n",
    "4 - Other purpose <br>\n",
    "5 - Not applicable \n",
    "\n",
    "CHANGE - 31, 32 -> 3 - Refinancing"
   ]
  },
  {
   "cell_type": "code",
   "execution_count": 31,
   "id": "7f972a35",
   "metadata": {},
   "outputs": [],
   "source": [
    "df_cr[\"loan_purpose\"].replace([31, 32], 3, regex=False, inplace=True)"
   ]
  },
  {
   "cell_type": "code",
   "execution_count": 32,
   "id": "51c25d24",
   "metadata": {},
   "outputs": [
    {
     "data": {
      "text/plain": [
       "<AxesSubplot:>"
      ]
     },
     "execution_count": 32,
     "metadata": {},
     "output_type": "execute_result"
    },
    {
     "data": {
      "image/png": "[encoded data removed]",
      "text/plain": [
       "<Figure size 432x288 with 1 Axes>"
      ]
     },
     "metadata": {},
     "output_type": "display_data"
    }
   ],
   "source": [
    "# explore loan_purpose category\n",
    "df_cr[\"loan_purpose\"].value_counts().plot(kind='barh')"
   ]
  },
  {
   "cell_type": "markdown",
   "id": "6eb13a6b",
   "metadata": {},
   "source": [
    "##### derived_ethnicity"
   ]
  },
  {
   "cell_type": "code",
   "execution_count": 33,
   "id": "3f7df01f",
   "metadata": {
    "scrolled": false
   },
   "outputs": [
    {
     "data": {
      "text/plain": [
       "array(['Not Hispanic or Latino', 'Hispanic or Latino', 'Joint',\n",
       "       'Ethnicity Not Available', 'Free Form Text Only'], dtype=object)"
      ]
     },
     "execution_count": 33,
     "metadata": {},
     "output_type": "execute_result"
    }
   ],
   "source": [
    "pd.unique(df_cr['derived_ethnicity'])"
   ]
  },
  {
   "cell_type": "code",
   "execution_count": 34,
   "id": "a5a1c216",
   "metadata": {},
   "outputs": [],
   "source": [
    "# Convert 'Joint', 'Ethnicity Not Available', 'Free Form Text Only' to NAs\n",
    "df_cr['derived_ethnicity'].mask((df_cr['derived_ethnicity'] == 'Joint') |\n",
    "                                (df_cr['derived_ethnicity'] == 'Ethnicity Not Available') |\n",
    "                                (df_cr['derived_ethnicity'] == 'Free Form Text Only'), None, inplace=True)"
   ]
  },
  {
   "cell_type": "code",
   "execution_count": 35,
   "id": "c2067302",
   "metadata": {},
   "outputs": [
    {
     "data": {
      "text/plain": [
       "<class 'str'>         11760\n",
       "<class 'NoneType'>     1731\n",
       "Name: derived_ethnicity, dtype: int64"
      ]
     },
     "execution_count": 35,
     "metadata": {},
     "output_type": "execute_result"
    }
   ],
   "source": [
    "df_cr['derived_ethnicity'].map(type).value_counts()"
   ]
  },
  {
   "cell_type": "code",
   "execution_count": 36,
   "id": "eaafa52e",
   "metadata": {},
   "outputs": [],
   "source": [
    "# drop 1878 null values\n",
    "df_cr = df_cr[pd.to_numeric(df_cr['derived_ethnicity'].notnull(),errors='coerce')]"
   ]
  },
  {
   "cell_type": "code",
   "execution_count": 37,
   "id": "de90a115",
   "metadata": {},
   "outputs": [
    {
     "data": {
      "text/plain": [
       "<class 'str'>    11760\n",
       "Name: derived_ethnicity, dtype: int64"
      ]
     },
     "execution_count": 37,
     "metadata": {},
     "output_type": "execute_result"
    }
   ],
   "source": [
    "df_cr['derived_ethnicity'].map(type).value_counts()"
   ]
  },
  {
   "cell_type": "code",
   "execution_count": 38,
   "id": "29f160a2",
   "metadata": {},
   "outputs": [],
   "source": [
    "# reset index\n",
    "df_cr = df_cr.reset_index(drop = True)"
   ]
  },
  {
   "cell_type": "code",
   "execution_count": 39,
   "id": "a4642e52",
   "metadata": {},
   "outputs": [
    {
     "data": {
      "text/plain": [
       "<AxesSubplot:>"
      ]
     },
     "execution_count": 39,
     "metadata": {},
     "output_type": "execute_result"
    },
    {
     "data": {
      "image/png": "[encoded data removed]",
      "text/plain": [
       "<Figure size 432x288 with 1 Axes>"
      ]
     },
     "metadata": {},
     "output_type": "display_data"
    }
   ],
   "source": [
    "# explore derived_ethnicity category\n",
    "df_cr[\"derived_ethnicity\"].value_counts().plot(kind='barh')"
   ]
  },
  {
   "cell_type": "markdown",
   "id": "5fe0fdba",
   "metadata": {},
   "source": [
    "##### derived_race"
   ]
  },
  {
   "cell_type": "code",
   "execution_count": 40,
   "id": "aa0c7e96",
   "metadata": {
    "scrolled": false
   },
   "outputs": [
    {
     "data": {
      "text/plain": [
       "array(['Black or African American', 'White', 'Asian',\n",
       "       '2 or more minority races', 'Race Not Available', 'Joint',\n",
       "       'Native Hawaiian or Other Pacific Islander',\n",
       "       'American Indian or Alaska Native', 'Free Form Text Only'],\n",
       "      dtype=object)"
      ]
     },
     "execution_count": 40,
     "metadata": {},
     "output_type": "execute_result"
    }
   ],
   "source": [
    "pd.unique(df_cr['derived_race'])"
   ]
  },
  {
   "cell_type": "code",
   "execution_count": 41,
   "id": "1d37738d",
   "metadata": {},
   "outputs": [],
   "source": [
    "# Convert '2 or more minority races', 'Race Not Available','American Indian or Alaska Native', \n",
    "# 'Joint', 'Native Hawaiian or Other Pacific Islander' to 'Minority Race/(s/)'\n",
    "df_cr['derived_race'].mask((df_cr['derived_race'] == '2 or more minority races') |\n",
    "                            (df_cr['derived_race'] == 'American Indian or Alaska Native') |\n",
    "                            (df_cr['derived_race'] == 'Joint') |\n",
    "                            (df_cr['derived_race'] == 'Native Hawaiian or Other Pacific Islander'), \"Minority Races\", inplace=True)"
   ]
  },
  {
   "cell_type": "code",
   "execution_count": 42,
   "id": "57888bba",
   "metadata": {},
   "outputs": [],
   "source": [
    "df_cr['derived_race'].mask((df_cr['derived_race'] == 'Free Form Text Only') |\n",
    "                           (df_cr['derived_race'] == 'Race Not Available'), None, inplace=True)"
   ]
  },
  {
   "cell_type": "code",
   "execution_count": 43,
   "id": "0b4c90ba",
   "metadata": {
    "scrolled": false
   },
   "outputs": [
    {
     "data": {
      "text/plain": [
       "<class 'str'>         11261\n",
       "<class 'NoneType'>      499\n",
       "Name: derived_race, dtype: int64"
      ]
     },
     "execution_count": 43,
     "metadata": {},
     "output_type": "execute_result"
    }
   ],
   "source": [
    "df_cr['derived_race'].map(type).value_counts()"
   ]
  },
  {
   "cell_type": "code",
   "execution_count": 44,
   "id": "beedf00b",
   "metadata": {
    "scrolled": true
   },
   "outputs": [
    {
     "data": {
      "text/plain": [
       "array(['Black or African American', 'White', 'Asian', 'Minority Races',\n",
       "       None], dtype=object)"
      ]
     },
     "execution_count": 44,
     "metadata": {},
     "output_type": "execute_result"
    }
   ],
   "source": [
    "pd.unique(df_cr['derived_race'])"
   ]
  },
  {
   "cell_type": "code",
   "execution_count": 45,
   "id": "091e3309",
   "metadata": {},
   "outputs": [],
   "source": [
    "# drop 526 null values\n",
    "df_cr = df_cr[pd.to_numeric(df_cr['derived_race'].notnull(),errors='coerce')]"
   ]
  },
  {
   "cell_type": "code",
   "execution_count": 46,
   "id": "b480a35a",
   "metadata": {
    "scrolled": false
   },
   "outputs": [
    {
     "data": {
      "text/plain": [
       "array(['Black or African American', 'White', 'Asian', 'Minority Races'],\n",
       "      dtype=object)"
      ]
     },
     "execution_count": 46,
     "metadata": {},
     "output_type": "execute_result"
    }
   ],
   "source": [
    "pd.unique(df_cr['derived_race'])"
   ]
  },
  {
   "cell_type": "code",
   "execution_count": 47,
   "id": "2b9e1619",
   "metadata": {},
   "outputs": [],
   "source": [
    "# reset index\n",
    "df_cr = df_cr.reset_index(drop = True)"
   ]
  },
  {
   "cell_type": "code",
   "execution_count": 48,
   "id": "ed70b09e",
   "metadata": {},
   "outputs": [
    {
     "data": {
      "text/plain": [
       "<AxesSubplot:>"
      ]
     },
     "execution_count": 48,
     "metadata": {},
     "output_type": "execute_result"
    },
    {
     "data": {
      "image/png": "[encoded data removed]",
      "text/plain": [
       "<Figure size 432x288 with 1 Axes>"
      ]
     },
     "metadata": {},
     "output_type": "display_data"
    }
   ],
   "source": [
    "# explore derived_race category\n",
    "df_cr[\"derived_race\"].value_counts().plot(kind='barh')"
   ]
  },
  {
   "cell_type": "markdown",
   "id": "2a9d950b",
   "metadata": {},
   "source": [
    "##### derived_sex"
   ]
  },
  {
   "cell_type": "code",
   "execution_count": 49,
   "id": "90e98210",
   "metadata": {
    "scrolled": true
   },
   "outputs": [
    {
     "data": {
      "text/plain": [
       "array(['Female', 'Male'], dtype=object)"
      ]
     },
     "execution_count": 49,
     "metadata": {},
     "output_type": "execute_result"
    }
   ],
   "source": [
    "pd.unique(df_cr['derived_sex']) # OK"
   ]
  },
  {
   "cell_type": "code",
   "execution_count": 50,
   "id": "014a85a1",
   "metadata": {},
   "outputs": [
    {
     "data": {
      "text/plain": [
       "<AxesSubplot:>"
      ]
     },
     "execution_count": 50,
     "metadata": {},
     "output_type": "execute_result"
    },
    {
     "data": {
      "image/png": "[encoded data removed]",
      "text/plain": [
       "<Figure size 432x288 with 1 Axes>"
      ]
     },
     "metadata": {},
     "output_type": "display_data"
    }
   ],
   "source": [
    "# explore derived_sex category\n",
    "df_cr[\"derived_sex\"].value_counts().plot(kind='barh')"
   ]
  },
  {
   "cell_type": "markdown",
   "id": "ce305b4d",
   "metadata": {},
   "source": [
    "##### debt_to_income_ratio \n",
    "Description: The ratio, as a percentage, of the applicant’s or borrower’s total monthly debt to the total monthly income relied on in making the credit decision"
   ]
  },
  {
   "cell_type": "code",
   "execution_count": 51,
   "id": "8e5035b9",
   "metadata": {
    "scrolled": false
   },
   "outputs": [
    {
     "data": {
      "text/plain": [
       "array(['48', '44', '38', '42', '50%-60%', '>60%', '30%-<36%', '40', '36',\n",
       "       '20%-<30%', '49', '<20%', '43', '41', '47', '46', '37', '39', '45',\n",
       "       nan], dtype=object)"
      ]
     },
     "execution_count": 51,
     "metadata": {},
     "output_type": "execute_result"
    }
   ],
   "source": [
    "pd.unique(df_cr['debt_to_income_ratio']) # should create a new column: 36% - 49%, Exempt = NaN?"
   ]
  },
  {
   "cell_type": "code",
   "execution_count": 52,
   "id": "eeadeab5",
   "metadata": {},
   "outputs": [],
   "source": [
    "df_cr[\"debt_to_income_ratio\"].replace(['48', '44', '38', '42', '40', '36', '49', '47', '43', '41', '39', '46', '37', '45'], '36%-<50%', regex=False, inplace=True)"
   ]
  },
  {
   "cell_type": "code",
   "execution_count": 53,
   "id": "cf8f868a",
   "metadata": {},
   "outputs": [],
   "source": [
    "# replace \"Exempt\" with NAs\n",
    "df_cr['debt_to_income_ratio'].mask((df_cr['debt_to_income_ratio'] == 'Exempt'), None, inplace=True)"
   ]
  },
  {
   "cell_type": "code",
   "execution_count": 54,
   "id": "1f5b5279",
   "metadata": {},
   "outputs": [],
   "source": [
    "# drop null values\n",
    "df_cr = df_cr[pd.to_numeric(df_cr['debt_to_income_ratio'].notnull(),errors='coerce')]"
   ]
  },
  {
   "cell_type": "code",
   "execution_count": 55,
   "id": "1d6e4d04",
   "metadata": {
    "scrolled": false
   },
   "outputs": [
    {
     "data": {
      "text/plain": [
       "array(['36%-<50%', '50%-60%', '>60%', '30%-<36%', '20%-<30%', '<20%'],\n",
       "      dtype=object)"
      ]
     },
     "execution_count": 55,
     "metadata": {},
     "output_type": "execute_result"
    }
   ],
   "source": [
    "pd.unique(df_cr['debt_to_income_ratio'])"
   ]
  },
  {
   "cell_type": "code",
   "execution_count": 56,
   "id": "e161ee48",
   "metadata": {},
   "outputs": [],
   "source": [
    "# reset index\n",
    "df_cr = df_cr.reset_index(drop = True)"
   ]
  },
  {
   "cell_type": "code",
   "execution_count": 57,
   "id": "4fee57db",
   "metadata": {},
   "outputs": [
    {
     "data": {
      "text/plain": [
       "<AxesSubplot:>"
      ]
     },
     "execution_count": 57,
     "metadata": {},
     "output_type": "execute_result"
    },
    {
     "data": {
      "image/png": "[encoded data removed]",
      "text/plain": [
       "<Figure size 432x288 with 1 Axes>"
      ]
     },
     "metadata": {},
     "output_type": "display_data"
    }
   ],
   "source": [
    "# explore debt_to_income_ratio category\n",
    "df_cr[\"debt_to_income_ratio\"].value_counts().plot(kind='barh')"
   ]
  },
  {
   "cell_type": "markdown",
   "id": "7be7b76b",
   "metadata": {},
   "source": [
    "##### applicant_age"
   ]
  },
  {
   "cell_type": "code",
   "execution_count": 58,
   "id": "71bb546f",
   "metadata": {
    "scrolled": true
   },
   "outputs": [
    {
     "data": {
      "text/plain": [
       "array(['35-44', '>74', '25-34', '55-64', '45-54', '65-74', '<25', '8888'],\n",
       "      dtype=object)"
      ]
     },
     "execution_count": 58,
     "metadata": {},
     "output_type": "execute_result"
    }
   ],
   "source": [
    "pd.unique(df_cr['applicant_age']) # 8888\n",
    "# df_cr[(df_cr['applicant_age'] == '8888')] # print 4 rows with age = 8888"
   ]
  },
  {
   "cell_type": "code",
   "execution_count": 59,
   "id": "1fcded44",
   "metadata": {},
   "outputs": [],
   "source": [
    "# drop rows with 8888\n",
    "df_cr.drop(df_cr.index[df_cr['applicant_age'] == '8888'], inplace=True)"
   ]
  },
  {
   "cell_type": "code",
   "execution_count": 60,
   "id": "1a7c4991",
   "metadata": {},
   "outputs": [
    {
     "data": {
      "text/plain": [
       "array(['35-44', '>74', '25-34', '55-64', '45-54', '65-74', '<25'],\n",
       "      dtype=object)"
      ]
     },
     "execution_count": 60,
     "metadata": {},
     "output_type": "execute_result"
    }
   ],
   "source": [
    "pd.unique(df_cr['applicant_age'])"
   ]
  },
  {
   "cell_type": "code",
   "execution_count": 61,
   "id": "3f588378",
   "metadata": {},
   "outputs": [],
   "source": [
    "# reset index\n",
    "df_cr = df_cr.reset_index(drop = True)"
   ]
  },
  {
   "cell_type": "code",
   "execution_count": 62,
   "id": "809d474c",
   "metadata": {},
   "outputs": [
    {
     "data": {
      "text/plain": [
       "<AxesSubplot:>"
      ]
     },
     "execution_count": 62,
     "metadata": {},
     "output_type": "execute_result"
    },
    {
     "data": {
      "image/png": "[encoded data removed]",
      "text/plain": [
       "<Figure size 432x288 with 1 Axes>"
      ]
     },
     "metadata": {},
     "output_type": "display_data"
    }
   ],
   "source": [
    "# explore applicant_age category\n",
    "df_cr[\"applicant_age\"].value_counts().plot(kind='barh')"
   ]
  },
  {
   "cell_type": "code",
   "execution_count": 63,
   "id": "b5800b58",
   "metadata": {
    "scrolled": true
   },
   "outputs": [
    {
     "name": "stdout",
     "output_type": "stream",
     "text": [
      "<class 'pandas.core.frame.DataFrame'>\n",
      "RangeIndex: 11163 entries, 0 to 11162\n",
      "Data columns (total 14 columns):\n",
      " #   Column                 Non-Null Count  Dtype  \n",
      "---  ------                 --------------  -----  \n",
      " 0   derived_ethnicity      11163 non-null  object \n",
      " 1   derived_race           11163 non-null  object \n",
      " 2   derived_sex            11163 non-null  object \n",
      " 3   action_taken           11163 non-null  int64  \n",
      " 4   preapproval            11163 non-null  int64  \n",
      " 5   loan_type              11163 non-null  int64  \n",
      " 6   loan_purpose           11163 non-null  int64  \n",
      " 7   loan_amount            11163 non-null  float64\n",
      " 8   loan_to_value_ratio    11163 non-null  float64\n",
      " 9   interest_only_payment  11163 non-null  int64  \n",
      " 10  balloon_payment        11163 non-null  int64  \n",
      " 11  income                 11163 non-null  float64\n",
      " 12  debt_to_income_ratio   11163 non-null  object \n",
      " 13  applicant_age          11163 non-null  object \n",
      "dtypes: float64(3), int64(6), object(5)\n",
      "memory usage: 1.2+ MB\n"
     ]
    }
   ],
   "source": [
    "# cleaned dataset info\n",
    "df_cr.info()"
   ]
  },
  {
   "cell_type": "code",
   "execution_count": 64,
   "id": "3bd68269",
   "metadata": {},
   "outputs": [
    {
     "data": {
      "text/html": [
       "<div>\n",
       "<style scoped>\n",
       "    .dataframe tbody tr th:only-of-type {\n",
       "        vertical-align: middle;\n",
       "    }\n",
       "\n",
       "    .dataframe tbody tr th {\n",
       "        vertical-align: top;\n",
       "    }\n",
       "\n",
       "    .dataframe thead th {\n",
       "        text-align: right;\n",
       "    }\n",
       "</style>\n",
       "<table border=\"1\" class=\"dataframe\">\n",
       "  <thead>\n",
       "    <tr style=\"text-align: right;\">\n",
       "      <th></th>\n",
       "      <th>derived_ethnicity</th>\n",
       "      <th>derived_race</th>\n",
       "      <th>derived_sex</th>\n",
       "      <th>action_taken</th>\n",
       "      <th>preapproval</th>\n",
       "      <th>loan_type</th>\n",
       "      <th>loan_purpose</th>\n",
       "      <th>loan_amount</th>\n",
       "      <th>loan_to_value_ratio</th>\n",
       "      <th>interest_only_payment</th>\n",
       "      <th>balloon_payment</th>\n",
       "      <th>income</th>\n",
       "      <th>debt_to_income_ratio</th>\n",
       "      <th>applicant_age</th>\n",
       "    </tr>\n",
       "  </thead>\n",
       "  <tbody>\n",
       "    <tr>\n",
       "      <th>0</th>\n",
       "      <td>Not Hispanic or Latino</td>\n",
       "      <td>Black or African American</td>\n",
       "      <td>Female</td>\n",
       "      <td>1</td>\n",
       "      <td>2</td>\n",
       "      <td>1</td>\n",
       "      <td>3</td>\n",
       "      <td>105000.0</td>\n",
       "      <td>75.00</td>\n",
       "      <td>2</td>\n",
       "      <td>2</td>\n",
       "      <td>91.0</td>\n",
       "      <td>36%-&lt;50%</td>\n",
       "      <td>35-44</td>\n",
       "    </tr>\n",
       "    <tr>\n",
       "      <th>1</th>\n",
       "      <td>Not Hispanic or Latino</td>\n",
       "      <td>Black or African American</td>\n",
       "      <td>Female</td>\n",
       "      <td>0</td>\n",
       "      <td>2</td>\n",
       "      <td>1</td>\n",
       "      <td>3</td>\n",
       "      <td>275000.0</td>\n",
       "      <td>52.38</td>\n",
       "      <td>2</td>\n",
       "      <td>2</td>\n",
       "      <td>142.0</td>\n",
       "      <td>36%-&lt;50%</td>\n",
       "      <td>&gt;74</td>\n",
       "    </tr>\n",
       "    <tr>\n",
       "      <th>2</th>\n",
       "      <td>Hispanic or Latino</td>\n",
       "      <td>White</td>\n",
       "      <td>Male</td>\n",
       "      <td>0</td>\n",
       "      <td>2</td>\n",
       "      <td>1</td>\n",
       "      <td>1</td>\n",
       "      <td>235000.0</td>\n",
       "      <td>80.00</td>\n",
       "      <td>2</td>\n",
       "      <td>2</td>\n",
       "      <td>60.0</td>\n",
       "      <td>36%-&lt;50%</td>\n",
       "      <td>35-44</td>\n",
       "    </tr>\n",
       "    <tr>\n",
       "      <th>3</th>\n",
       "      <td>Not Hispanic or Latino</td>\n",
       "      <td>White</td>\n",
       "      <td>Male</td>\n",
       "      <td>1</td>\n",
       "      <td>2</td>\n",
       "      <td>1</td>\n",
       "      <td>1</td>\n",
       "      <td>465000.0</td>\n",
       "      <td>94.69</td>\n",
       "      <td>2</td>\n",
       "      <td>2</td>\n",
       "      <td>112.0</td>\n",
       "      <td>36%-&lt;50%</td>\n",
       "      <td>35-44</td>\n",
       "    </tr>\n",
       "    <tr>\n",
       "      <th>4</th>\n",
       "      <td>Not Hispanic or Latino</td>\n",
       "      <td>Black or African American</td>\n",
       "      <td>Male</td>\n",
       "      <td>1</td>\n",
       "      <td>1</td>\n",
       "      <td>3</td>\n",
       "      <td>1</td>\n",
       "      <td>415000.0</td>\n",
       "      <td>100.00</td>\n",
       "      <td>2</td>\n",
       "      <td>2</td>\n",
       "      <td>83.0</td>\n",
       "      <td>50%-60%</td>\n",
       "      <td>25-34</td>\n",
       "    </tr>\n",
       "    <tr>\n",
       "      <th>...</th>\n",
       "      <td>...</td>\n",
       "      <td>...</td>\n",
       "      <td>...</td>\n",
       "      <td>...</td>\n",
       "      <td>...</td>\n",
       "      <td>...</td>\n",
       "      <td>...</td>\n",
       "      <td>...</td>\n",
       "      <td>...</td>\n",
       "      <td>...</td>\n",
       "      <td>...</td>\n",
       "      <td>...</td>\n",
       "      <td>...</td>\n",
       "      <td>...</td>\n",
       "    </tr>\n",
       "    <tr>\n",
       "      <th>11158</th>\n",
       "      <td>Hispanic or Latino</td>\n",
       "      <td>White</td>\n",
       "      <td>Male</td>\n",
       "      <td>0</td>\n",
       "      <td>2</td>\n",
       "      <td>1</td>\n",
       "      <td>3</td>\n",
       "      <td>225000.0</td>\n",
       "      <td>75.00</td>\n",
       "      <td>2</td>\n",
       "      <td>2</td>\n",
       "      <td>76.0</td>\n",
       "      <td>&gt;60%</td>\n",
       "      <td>55-64</td>\n",
       "    </tr>\n",
       "    <tr>\n",
       "      <th>11159</th>\n",
       "      <td>Not Hispanic or Latino</td>\n",
       "      <td>Black or African American</td>\n",
       "      <td>Male</td>\n",
       "      <td>1</td>\n",
       "      <td>2</td>\n",
       "      <td>1</td>\n",
       "      <td>1</td>\n",
       "      <td>345000.0</td>\n",
       "      <td>80.00</td>\n",
       "      <td>2</td>\n",
       "      <td>2</td>\n",
       "      <td>168.0</td>\n",
       "      <td>36%-&lt;50%</td>\n",
       "      <td>25-34</td>\n",
       "    </tr>\n",
       "    <tr>\n",
       "      <th>11160</th>\n",
       "      <td>Not Hispanic or Latino</td>\n",
       "      <td>Black or African American</td>\n",
       "      <td>Male</td>\n",
       "      <td>0</td>\n",
       "      <td>2</td>\n",
       "      <td>1</td>\n",
       "      <td>3</td>\n",
       "      <td>385000.0</td>\n",
       "      <td>75.00</td>\n",
       "      <td>2</td>\n",
       "      <td>2</td>\n",
       "      <td>160.0</td>\n",
       "      <td>36%-&lt;50%</td>\n",
       "      <td>25-34</td>\n",
       "    </tr>\n",
       "    <tr>\n",
       "      <th>11161</th>\n",
       "      <td>Not Hispanic or Latino</td>\n",
       "      <td>White</td>\n",
       "      <td>Male</td>\n",
       "      <td>1</td>\n",
       "      <td>2</td>\n",
       "      <td>1</td>\n",
       "      <td>3</td>\n",
       "      <td>655000.0</td>\n",
       "      <td>77.00</td>\n",
       "      <td>2</td>\n",
       "      <td>2</td>\n",
       "      <td>150.0</td>\n",
       "      <td>36%-&lt;50%</td>\n",
       "      <td>55-64</td>\n",
       "    </tr>\n",
       "    <tr>\n",
       "      <th>11162</th>\n",
       "      <td>Not Hispanic or Latino</td>\n",
       "      <td>Black or African American</td>\n",
       "      <td>Male</td>\n",
       "      <td>1</td>\n",
       "      <td>2</td>\n",
       "      <td>1</td>\n",
       "      <td>3</td>\n",
       "      <td>475000.0</td>\n",
       "      <td>65.00</td>\n",
       "      <td>2</td>\n",
       "      <td>2</td>\n",
       "      <td>173.0</td>\n",
       "      <td>36%-&lt;50%</td>\n",
       "      <td>25-34</td>\n",
       "    </tr>\n",
       "  </tbody>\n",
       "</table>\n",
       "<p>11163 rows × 14 columns</p>\n",
       "</div>"
      ],
      "text/plain": [
       "            derived_ethnicity               derived_race derived_sex  \\\n",
       "0      Not Hispanic or Latino  Black or African American      Female   \n",
       "1      Not Hispanic or Latino  Black or African American      Female   \n",
       "2          Hispanic or Latino                      White        Male   \n",
       "3      Not Hispanic or Latino                      White        Male   \n",
       "4      Not Hispanic or Latino  Black or African American        Male   \n",
       "...                       ...                        ...         ...   \n",
       "11158      Hispanic or Latino                      White        Male   \n",
       "11159  Not Hispanic or Latino  Black or African American        Male   \n",
       "11160  Not Hispanic or Latino  Black or African American        Male   \n",
       "11161  Not Hispanic or Latino                      White        Male   \n",
       "11162  Not Hispanic or Latino  Black or African American        Male   \n",
       "\n",
       "       action_taken  preapproval  loan_type  loan_purpose  loan_amount  \\\n",
       "0                 1            2          1             3     105000.0   \n",
       "1                 0            2          1             3     275000.0   \n",
       "2                 0            2          1             1     235000.0   \n",
       "3                 1            2          1             1     465000.0   \n",
       "4                 1            1          3             1     415000.0   \n",
       "...             ...          ...        ...           ...          ...   \n",
       "11158             0            2          1             3     225000.0   \n",
       "11159             1            2          1             1     345000.0   \n",
       "11160             0            2          1             3     385000.0   \n",
       "11161             1            2          1             3     655000.0   \n",
       "11162             1            2          1             3     475000.0   \n",
       "\n",
       "       loan_to_value_ratio  interest_only_payment  balloon_payment  income  \\\n",
       "0                    75.00                      2                2    91.0   \n",
       "1                    52.38                      2                2   142.0   \n",
       "2                    80.00                      2                2    60.0   \n",
       "3                    94.69                      2                2   112.0   \n",
       "4                   100.00                      2                2    83.0   \n",
       "...                    ...                    ...              ...     ...   \n",
       "11158                75.00                      2                2    76.0   \n",
       "11159                80.00                      2                2   168.0   \n",
       "11160                75.00                      2                2   160.0   \n",
       "11161                77.00                      2                2   150.0   \n",
       "11162                65.00                      2                2   173.0   \n",
       "\n",
       "      debt_to_income_ratio applicant_age  \n",
       "0                 36%-<50%         35-44  \n",
       "1                 36%-<50%           >74  \n",
       "2                 36%-<50%         35-44  \n",
       "3                 36%-<50%         35-44  \n",
       "4                  50%-60%         25-34  \n",
       "...                    ...           ...  \n",
       "11158                 >60%         55-64  \n",
       "11159             36%-<50%         25-34  \n",
       "11160             36%-<50%         25-34  \n",
       "11161             36%-<50%         55-64  \n",
       "11162             36%-<50%         25-34  \n",
       "\n",
       "[11163 rows x 14 columns]"
      ]
     },
     "execution_count": 64,
     "metadata": {},
     "output_type": "execute_result"
    }
   ],
   "source": [
    "df_cr"
   ]
  },
  {
   "cell_type": "markdown",
   "id": "3ac48b8d",
   "metadata": {},
   "source": [
    "#### Understand Numerical Feature Distribution\n",
    "##### loan_amount, loan_to_value_ratio, income"
   ]
  },
  {
   "cell_type": "code",
   "execution_count": 65,
   "id": "e609c87e",
   "metadata": {
    "scrolled": true
   },
   "outputs": [
    {
     "data": {
      "text/plain": [
       "<AxesSubplot:xlabel='action_taken', ylabel='income'>"
      ]
     },
     "execution_count": 65,
     "metadata": {},
     "output_type": "execute_result"
    },
    {
     "data": {
      "image/png": "[encoded data removed]",
      "text/plain": [
       "<Figure size 1008x504 with 3 Axes>"
      ]
     },
     "metadata": {},
     "output_type": "display_data"
    }
   ],
   "source": [
    "_,axs = plt.subplots(1,3, figsize=[14,7])\n",
    "_.title = \"title\"\n",
    "sns.boxplot(x='action_taken', y='loan_amount', data=df_cr, ax=axs[0])\n",
    "sns.boxplot(x='action_taken', y='loan_to_value_ratio', data=df_cr, ax=axs[1])\n",
    "sns.boxplot(x='action_taken', y='income', data=df_cr, ax=axs[2])"
   ]
  },
  {
   "cell_type": "markdown",
   "id": "3108fde1",
   "metadata": {},
   "source": [
    "#### Understand Categorical Feature Distribution\n",
    "##### derived_ethnicity, derived_race, interest_only_payment, balloon_payment, derived_sex, preapproval, loan_type,  loan_purpose"
   ]
  },
  {
   "cell_type": "code",
   "execution_count": 66,
   "id": "ea040280",
   "metadata": {},
   "outputs": [
    {
     "data": {
      "text/plain": [
       "<AxesSubplot:xlabel='action_taken', ylabel='count'>"
      ]
     },
     "execution_count": 66,
     "metadata": {},
     "output_type": "execute_result"
    },
    {
     "data": {
      "image/png": "[encoded data removed]",
      "text/plain": [
       "<Figure size 864x432 with 2 Axes>"
      ]
     },
     "metadata": {},
     "output_type": "display_data"
    }
   ],
   "source": [
    " _,axss = plt.subplots(1,2, figsize=[12,6])\n",
    "sns.countplot(x='action_taken', hue='derived_ethnicity', data=df_cr, ax=axss[0])\n",
    "sns.countplot(x='action_taken', hue='derived_race', data=df_cr, ax=axss[1])"
   ]
  },
  {
   "cell_type": "code",
   "execution_count": 67,
   "id": "450d987c",
   "metadata": {
    "scrolled": true
   },
   "outputs": [
    {
     "data": {
      "text/plain": [
       "<AxesSubplot:xlabel='action_taken', ylabel='count'>"
      ]
     },
     "execution_count": 67,
     "metadata": {},
     "output_type": "execute_result"
    },
    {
     "data": {
      "image/png": "[encoded data removed]",
      "text/plain": [
       "<Figure size 864x432 with 4 Axes>"
      ]
     },
     "metadata": {},
     "output_type": "display_data"
    }
   ],
   "source": [
    "_,axss = plt.subplots(2,2, figsize=[12,6])\n",
    "sns.countplot(x='action_taken', hue='interest_only_payment', data=df_cr, ax=axss[0][0])\n",
    "sns.countplot(x='action_taken', hue='balloon_payment', data=df_cr, ax=axss[0][1])\n",
    "sns.countplot(x='action_taken', hue='derived_sex', data=df_cr, ax=axss[1][0])\n",
    "sns.countplot(x='action_taken', hue='preapproval', data=df_cr, ax=axss[1][1])"
   ]
  },
  {
   "cell_type": "code",
   "execution_count": 68,
   "id": "454a7916",
   "metadata": {},
   "outputs": [
    {
     "data": {
      "text/plain": [
       "<AxesSubplot:xlabel='action_taken', ylabel='count'>"
      ]
     },
     "execution_count": 68,
     "metadata": {},
     "output_type": "execute_result"
    },
    {
     "data": {
      "image/png": "[encoded data removed]",
      "text/plain": [
       "<Figure size 864x432 with 2 Axes>"
      ]
     },
     "metadata": {},
     "output_type": "display_data"
    }
   ],
   "source": [
    "_,axss = plt.subplots(1,2, figsize=[12,6])\n",
    "sns.countplot(x='action_taken', hue='loan_type', data=df_cr, ax=axss[0])\n",
    "sns.countplot(x='action_taken', hue='loan_purpose', data=df_cr, ax=axss[1])"
   ]
  },
  {
   "cell_type": "code",
   "execution_count": 69,
   "id": "53e0b785",
   "metadata": {
    "scrolled": false
   },
   "outputs": [
    {
     "data": {
      "text/plain": [
       "<AxesSubplot:xlabel='action_taken', ylabel='count'>"
      ]
     },
     "execution_count": 69,
     "metadata": {},
     "output_type": "execute_result"
    },
    {
     "data": {
      "image/png": "[encoded data removed]",
      "text/plain": [
       "<Figure size 864x432 with 2 Axes>"
      ]
     },
     "metadata": {},
     "output_type": "display_data"
    }
   ],
   "source": [
    "_,axss = plt.subplots(1,2, figsize=[12,6])\n",
    "sns.countplot(x='action_taken', hue='debt_to_income_ratio', data=df_cr, ax=axss[0])\n",
    "sns.countplot(x='action_taken', hue='applicant_age', data=df_cr, ax=axss[1])"
   ]
  },
  {
   "cell_type": "markdown",
   "id": "6e9e7ddf",
   "metadata": {},
   "source": [
    "# Part 2: Feature Preprocessing"
   ]
  },
  {
   "cell_type": "code",
   "execution_count": 70,
   "id": "013b12b5",
   "metadata": {},
   "outputs": [],
   "source": [
    "from sklearn import model_selection\n",
    "from sklearn.preprocessing import OneHotEncoder\n",
    "from sklearn.preprocessing import OrdinalEncoder\n",
    "from sklearn.preprocessing import StandardScaler"
   ]
  },
  {
   "cell_type": "markdown",
   "id": "8c83a961",
   "metadata": {},
   "source": [
    "### Split Data"
   ]
  },
  {
   "cell_type": "code",
   "execution_count": 71,
   "id": "101bd852",
   "metadata": {},
   "outputs": [],
   "source": [
    "to_drop = ['action_taken']\n",
    "X = df_cr.drop(to_drop, axis = 1)\n",
    "# target variable\n",
    "y = df_cr['action_taken']"
   ]
  },
  {
   "cell_type": "code",
   "execution_count": 72,
   "id": "e8e674c5",
   "metadata": {},
   "outputs": [
    {
     "name": "stdout",
     "output_type": "stream",
     "text": [
      "training data has 8372 observation with 13 features\n",
      "test data has 2791 observation with 13 features\n"
     ]
    }
   ],
   "source": [
    "# Splite data into training and testing\n",
    "# 100 -> 75:y=1, 25:y=0\n",
    "# training(80): 60 y=1; 20 y=0 \n",
    "# testing(20):  15 y=1; 5 y=0\n",
    "\n",
    "# Reserve 25% for testing\n",
    "# stratify example:\n",
    "# 100 -> y: 80 '0', 20 '1' -> 4:1\n",
    "# 80% training 64: '0', 16:'1' -> 4:1\n",
    "# 20% testing  16:'0', 4: '1' -> 4:1\n",
    "X_train, X_test, y_train, y_test = model_selection.train_test_split(X, y, test_size=0.25, stratify = y, random_state=1) #stratified sampling\n",
    "\n",
    "print('training data has ' + str(X_train.shape[0]) + ' observation with ' + str(X_train.shape[1]) + ' features')\n",
    "print('test data has ' + str(X_test.shape[0]) + ' observation with ' + str(X_test.shape[1]) + ' features')"
   ]
  },
  {
   "cell_type": "code",
   "execution_count": 73,
   "id": "6345f00b",
   "metadata": {
    "scrolled": true
   },
   "outputs": [
    {
     "data": {
      "text/html": [
       "<div>\n",
       "<style scoped>\n",
       "    .dataframe tbody tr th:only-of-type {\n",
       "        vertical-align: middle;\n",
       "    }\n",
       "\n",
       "    .dataframe tbody tr th {\n",
       "        vertical-align: top;\n",
       "    }\n",
       "\n",
       "    .dataframe thead th {\n",
       "        text-align: right;\n",
       "    }\n",
       "</style>\n",
       "<table border=\"1\" class=\"dataframe\">\n",
       "  <thead>\n",
       "    <tr style=\"text-align: right;\">\n",
       "      <th></th>\n",
       "      <th>derived_ethnicity</th>\n",
       "      <th>derived_race</th>\n",
       "      <th>derived_sex</th>\n",
       "      <th>preapproval</th>\n",
       "      <th>loan_type</th>\n",
       "      <th>loan_purpose</th>\n",
       "      <th>loan_amount</th>\n",
       "      <th>loan_to_value_ratio</th>\n",
       "      <th>interest_only_payment</th>\n",
       "      <th>balloon_payment</th>\n",
       "      <th>income</th>\n",
       "      <th>debt_to_income_ratio</th>\n",
       "      <th>applicant_age</th>\n",
       "    </tr>\n",
       "  </thead>\n",
       "  <tbody>\n",
       "    <tr>\n",
       "      <th>4198</th>\n",
       "      <td>Not Hispanic or Latino</td>\n",
       "      <td>Black or African American</td>\n",
       "      <td>Male</td>\n",
       "      <td>2</td>\n",
       "      <td>1</td>\n",
       "      <td>2</td>\n",
       "      <td>55000.0</td>\n",
       "      <td>51.520</td>\n",
       "      <td>2</td>\n",
       "      <td>2</td>\n",
       "      <td>42.0</td>\n",
       "      <td>&lt;20%</td>\n",
       "      <td>65-74</td>\n",
       "    </tr>\n",
       "    <tr>\n",
       "      <th>9486</th>\n",
       "      <td>Not Hispanic or Latino</td>\n",
       "      <td>Black or African American</td>\n",
       "      <td>Male</td>\n",
       "      <td>2</td>\n",
       "      <td>1</td>\n",
       "      <td>3</td>\n",
       "      <td>485000.0</td>\n",
       "      <td>67.271</td>\n",
       "      <td>2</td>\n",
       "      <td>2</td>\n",
       "      <td>132.0</td>\n",
       "      <td>30%-&lt;36%</td>\n",
       "      <td>35-44</td>\n",
       "    </tr>\n",
       "    <tr>\n",
       "      <th>4408</th>\n",
       "      <td>Not Hispanic or Latino</td>\n",
       "      <td>Black or African American</td>\n",
       "      <td>Female</td>\n",
       "      <td>2</td>\n",
       "      <td>1</td>\n",
       "      <td>2</td>\n",
       "      <td>25000.0</td>\n",
       "      <td>44.140</td>\n",
       "      <td>2</td>\n",
       "      <td>2</td>\n",
       "      <td>141.0</td>\n",
       "      <td>20%-&lt;30%</td>\n",
       "      <td>45-54</td>\n",
       "    </tr>\n",
       "    <tr>\n",
       "      <th>2933</th>\n",
       "      <td>Not Hispanic or Latino</td>\n",
       "      <td>White</td>\n",
       "      <td>Male</td>\n",
       "      <td>2</td>\n",
       "      <td>1</td>\n",
       "      <td>2</td>\n",
       "      <td>275000.0</td>\n",
       "      <td>21.619</td>\n",
       "      <td>1</td>\n",
       "      <td>2</td>\n",
       "      <td>85.0</td>\n",
       "      <td>36%-&lt;50%</td>\n",
       "      <td>25-34</td>\n",
       "    </tr>\n",
       "    <tr>\n",
       "      <th>6032</th>\n",
       "      <td>Hispanic or Latino</td>\n",
       "      <td>White</td>\n",
       "      <td>Male</td>\n",
       "      <td>2</td>\n",
       "      <td>1</td>\n",
       "      <td>1</td>\n",
       "      <td>605000.0</td>\n",
       "      <td>64.865</td>\n",
       "      <td>2</td>\n",
       "      <td>2</td>\n",
       "      <td>349.0</td>\n",
       "      <td>&lt;20%</td>\n",
       "      <td>35-44</td>\n",
       "    </tr>\n",
       "  </tbody>\n",
       "</table>\n",
       "</div>"
      ],
      "text/plain": [
       "           derived_ethnicity               derived_race derived_sex  \\\n",
       "4198  Not Hispanic or Latino  Black or African American        Male   \n",
       "9486  Not Hispanic or Latino  Black or African American        Male   \n",
       "4408  Not Hispanic or Latino  Black or African American      Female   \n",
       "2933  Not Hispanic or Latino                      White        Male   \n",
       "6032      Hispanic or Latino                      White        Male   \n",
       "\n",
       "      preapproval  loan_type  loan_purpose  loan_amount  loan_to_value_ratio  \\\n",
       "4198            2          1             2      55000.0               51.520   \n",
       "9486            2          1             3     485000.0               67.271   \n",
       "4408            2          1             2      25000.0               44.140   \n",
       "2933            2          1             2     275000.0               21.619   \n",
       "6032            2          1             1     605000.0               64.865   \n",
       "\n",
       "      interest_only_payment  balloon_payment  income debt_to_income_ratio  \\\n",
       "4198                      2                2    42.0                 <20%   \n",
       "9486                      2                2   132.0             30%-<36%   \n",
       "4408                      2                2   141.0             20%-<30%   \n",
       "2933                      1                2    85.0             36%-<50%   \n",
       "6032                      2                2   349.0                 <20%   \n",
       "\n",
       "     applicant_age  \n",
       "4198         65-74  \n",
       "9486         35-44  \n",
       "4408         45-54  \n",
       "2933         25-34  \n",
       "6032         35-44  "
      ]
     },
     "execution_count": 73,
     "metadata": {},
     "output_type": "execute_result"
    }
   ],
   "source": [
    "X_train.head()"
   ]
  },
  {
   "cell_type": "code",
   "execution_count": 74,
   "id": "b6928b1c",
   "metadata": {},
   "outputs": [
    {
     "data": {
      "text/plain": [
       "derived_ethnicity         object\n",
       "derived_race              object\n",
       "derived_sex               object\n",
       "preapproval                int64\n",
       "loan_type                  int64\n",
       "loan_purpose               int64\n",
       "loan_amount              float64\n",
       "loan_to_value_ratio      float64\n",
       "interest_only_payment      int64\n",
       "balloon_payment            int64\n",
       "income                   float64\n",
       "debt_to_income_ratio      object\n",
       "applicant_age             object\n",
       "dtype: object"
      ]
     },
     "execution_count": 74,
     "metadata": {},
     "output_type": "execute_result"
    }
   ],
   "source": [
    "X.dtypes"
   ]
  },
  {
   "cell_type": "code",
   "execution_count": 75,
   "id": "90226299",
   "metadata": {},
   "outputs": [],
   "source": [
    "cat_cols = X.columns[X.dtypes == 'object']\n",
    "num_cols = X.columns[(X.dtypes == 'float64') | (X.dtypes == 'int64')]"
   ]
  },
  {
   "cell_type": "code",
   "execution_count": 76,
   "id": "815f1e5c",
   "metadata": {},
   "outputs": [
    {
     "data": {
      "text/plain": [
       "Index(['preapproval', 'loan_type', 'loan_purpose', 'loan_amount',\n",
       "       'loan_to_value_ratio', 'interest_only_payment', 'balloon_payment',\n",
       "       'income'],\n",
       "      dtype='object')"
      ]
     },
     "execution_count": 76,
     "metadata": {},
     "output_type": "execute_result"
    }
   ],
   "source": [
    "num_cols"
   ]
  },
  {
   "cell_type": "code",
   "execution_count": 77,
   "id": "4516520a",
   "metadata": {
    "scrolled": false
   },
   "outputs": [
    {
     "data": {
      "text/plain": [
       "Index(['derived_ethnicity', 'derived_race', 'derived_sex',\n",
       "       'debt_to_income_ratio', 'applicant_age'],\n",
       "      dtype='object')"
      ]
     },
     "execution_count": 77,
     "metadata": {},
     "output_type": "execute_result"
    }
   ],
   "source": [
    "cat_cols"
   ]
  },
  {
   "cell_type": "markdown",
   "id": "02cd7c10",
   "metadata": {},
   "source": [
    "### One Hot, Oridinary Encoding, Standarization"
   ]
  },
  {
   "cell_type": "code",
   "execution_count": 78,
   "id": "eadb267b",
   "metadata": {},
   "outputs": [],
   "source": [
    "# One hot encoding\n",
    "\n",
    "def OneHotEncoding(df, enc, categories):  \n",
    "  transformed = pd.DataFrame(enc.transform(df[categories]).toarray(), columns=enc.get_feature_names(categories))\n",
    "  return pd.concat([df.reset_index(drop=True), transformed], axis=1).drop(categories, axis=1)\n",
    "\n",
    "categories = ['derived_race', 'debt_to_income_ratio', 'applicant_age']\n",
    "enc_ohe = OneHotEncoder()\n",
    "enc_ohe.fit(X_train[categories])\n",
    "\n",
    "X_train = OneHotEncoding(X_train, enc_ohe, categories)\n",
    "X_test = OneHotEncoding(X_test, enc_ohe, categories)"
   ]
  },
  {
   "cell_type": "code",
   "execution_count": 79,
   "id": "ac493e6d",
   "metadata": {
    "scrolled": true
   },
   "outputs": [
    {
     "data": {
      "text/html": [
       "<div>\n",
       "<style scoped>\n",
       "    .dataframe tbody tr th:only-of-type {\n",
       "        vertical-align: middle;\n",
       "    }\n",
       "\n",
       "    .dataframe tbody tr th {\n",
       "        vertical-align: top;\n",
       "    }\n",
       "\n",
       "    .dataframe thead th {\n",
       "        text-align: right;\n",
       "    }\n",
       "</style>\n",
       "<table border=\"1\" class=\"dataframe\">\n",
       "  <thead>\n",
       "    <tr style=\"text-align: right;\">\n",
       "      <th></th>\n",
       "      <th>derived_ethnicity</th>\n",
       "      <th>derived_sex</th>\n",
       "      <th>preapproval</th>\n",
       "      <th>loan_type</th>\n",
       "      <th>loan_purpose</th>\n",
       "      <th>loan_amount</th>\n",
       "      <th>loan_to_value_ratio</th>\n",
       "      <th>interest_only_payment</th>\n",
       "      <th>balloon_payment</th>\n",
       "      <th>income</th>\n",
       "      <th>...</th>\n",
       "      <th>debt_to_income_ratio_50%-60%</th>\n",
       "      <th>debt_to_income_ratio_&lt;20%</th>\n",
       "      <th>debt_to_income_ratio_&gt;60%</th>\n",
       "      <th>applicant_age_25-34</th>\n",
       "      <th>applicant_age_35-44</th>\n",
       "      <th>applicant_age_45-54</th>\n",
       "      <th>applicant_age_55-64</th>\n",
       "      <th>applicant_age_65-74</th>\n",
       "      <th>applicant_age_&lt;25</th>\n",
       "      <th>applicant_age_&gt;74</th>\n",
       "    </tr>\n",
       "  </thead>\n",
       "  <tbody>\n",
       "    <tr>\n",
       "      <th>0</th>\n",
       "      <td>Not Hispanic or Latino</td>\n",
       "      <td>Male</td>\n",
       "      <td>2</td>\n",
       "      <td>1</td>\n",
       "      <td>2</td>\n",
       "      <td>55000.0</td>\n",
       "      <td>51.520</td>\n",
       "      <td>2</td>\n",
       "      <td>2</td>\n",
       "      <td>42.0</td>\n",
       "      <td>...</td>\n",
       "      <td>0.0</td>\n",
       "      <td>1.0</td>\n",
       "      <td>0.0</td>\n",
       "      <td>0.0</td>\n",
       "      <td>0.0</td>\n",
       "      <td>0.0</td>\n",
       "      <td>0.0</td>\n",
       "      <td>1.0</td>\n",
       "      <td>0.0</td>\n",
       "      <td>0.0</td>\n",
       "    </tr>\n",
       "    <tr>\n",
       "      <th>1</th>\n",
       "      <td>Not Hispanic or Latino</td>\n",
       "      <td>Male</td>\n",
       "      <td>2</td>\n",
       "      <td>1</td>\n",
       "      <td>3</td>\n",
       "      <td>485000.0</td>\n",
       "      <td>67.271</td>\n",
       "      <td>2</td>\n",
       "      <td>2</td>\n",
       "      <td>132.0</td>\n",
       "      <td>...</td>\n",
       "      <td>0.0</td>\n",
       "      <td>0.0</td>\n",
       "      <td>0.0</td>\n",
       "      <td>0.0</td>\n",
       "      <td>1.0</td>\n",
       "      <td>0.0</td>\n",
       "      <td>0.0</td>\n",
       "      <td>0.0</td>\n",
       "      <td>0.0</td>\n",
       "      <td>0.0</td>\n",
       "    </tr>\n",
       "    <tr>\n",
       "      <th>2</th>\n",
       "      <td>Not Hispanic or Latino</td>\n",
       "      <td>Female</td>\n",
       "      <td>2</td>\n",
       "      <td>1</td>\n",
       "      <td>2</td>\n",
       "      <td>25000.0</td>\n",
       "      <td>44.140</td>\n",
       "      <td>2</td>\n",
       "      <td>2</td>\n",
       "      <td>141.0</td>\n",
       "      <td>...</td>\n",
       "      <td>0.0</td>\n",
       "      <td>0.0</td>\n",
       "      <td>0.0</td>\n",
       "      <td>0.0</td>\n",
       "      <td>0.0</td>\n",
       "      <td>1.0</td>\n",
       "      <td>0.0</td>\n",
       "      <td>0.0</td>\n",
       "      <td>0.0</td>\n",
       "      <td>0.0</td>\n",
       "    </tr>\n",
       "    <tr>\n",
       "      <th>3</th>\n",
       "      <td>Not Hispanic or Latino</td>\n",
       "      <td>Male</td>\n",
       "      <td>2</td>\n",
       "      <td>1</td>\n",
       "      <td>2</td>\n",
       "      <td>275000.0</td>\n",
       "      <td>21.619</td>\n",
       "      <td>1</td>\n",
       "      <td>2</td>\n",
       "      <td>85.0</td>\n",
       "      <td>...</td>\n",
       "      <td>0.0</td>\n",
       "      <td>0.0</td>\n",
       "      <td>0.0</td>\n",
       "      <td>1.0</td>\n",
       "      <td>0.0</td>\n",
       "      <td>0.0</td>\n",
       "      <td>0.0</td>\n",
       "      <td>0.0</td>\n",
       "      <td>0.0</td>\n",
       "      <td>0.0</td>\n",
       "    </tr>\n",
       "    <tr>\n",
       "      <th>4</th>\n",
       "      <td>Hispanic or Latino</td>\n",
       "      <td>Male</td>\n",
       "      <td>2</td>\n",
       "      <td>1</td>\n",
       "      <td>1</td>\n",
       "      <td>605000.0</td>\n",
       "      <td>64.865</td>\n",
       "      <td>2</td>\n",
       "      <td>2</td>\n",
       "      <td>349.0</td>\n",
       "      <td>...</td>\n",
       "      <td>0.0</td>\n",
       "      <td>1.0</td>\n",
       "      <td>0.0</td>\n",
       "      <td>0.0</td>\n",
       "      <td>1.0</td>\n",
       "      <td>0.0</td>\n",
       "      <td>0.0</td>\n",
       "      <td>0.0</td>\n",
       "      <td>0.0</td>\n",
       "      <td>0.0</td>\n",
       "    </tr>\n",
       "  </tbody>\n",
       "</table>\n",
       "<p>5 rows × 27 columns</p>\n",
       "</div>"
      ],
      "text/plain": [
       "        derived_ethnicity derived_sex  preapproval  loan_type  loan_purpose  \\\n",
       "0  Not Hispanic or Latino        Male            2          1             2   \n",
       "1  Not Hispanic or Latino        Male            2          1             3   \n",
       "2  Not Hispanic or Latino      Female            2          1             2   \n",
       "3  Not Hispanic or Latino        Male            2          1             2   \n",
       "4      Hispanic or Latino        Male            2          1             1   \n",
       "\n",
       "   loan_amount  loan_to_value_ratio  interest_only_payment  balloon_payment  \\\n",
       "0      55000.0               51.520                      2                2   \n",
       "1     485000.0               67.271                      2                2   \n",
       "2      25000.0               44.140                      2                2   \n",
       "3     275000.0               21.619                      1                2   \n",
       "4     605000.0               64.865                      2                2   \n",
       "\n",
       "   income  ...  debt_to_income_ratio_50%-60%  debt_to_income_ratio_<20%  \\\n",
       "0    42.0  ...                           0.0                        1.0   \n",
       "1   132.0  ...                           0.0                        0.0   \n",
       "2   141.0  ...                           0.0                        0.0   \n",
       "3    85.0  ...                           0.0                        0.0   \n",
       "4   349.0  ...                           0.0                        1.0   \n",
       "\n",
       "   debt_to_income_ratio_>60%  applicant_age_25-34  applicant_age_35-44  \\\n",
       "0                        0.0                  0.0                  0.0   \n",
       "1                        0.0                  0.0                  1.0   \n",
       "2                        0.0                  0.0                  0.0   \n",
       "3                        0.0                  1.0                  0.0   \n",
       "4                        0.0                  0.0                  1.0   \n",
       "\n",
       "   applicant_age_45-54  applicant_age_55-64  applicant_age_65-74  \\\n",
       "0                  0.0                  0.0                  1.0   \n",
       "1                  0.0                  0.0                  0.0   \n",
       "2                  1.0                  0.0                  0.0   \n",
       "3                  0.0                  0.0                  0.0   \n",
       "4                  0.0                  0.0                  0.0   \n",
       "\n",
       "   applicant_age_<25  applicant_age_>74  \n",
       "0                0.0                0.0  \n",
       "1                0.0                0.0  \n",
       "2                0.0                0.0  \n",
       "3                0.0                0.0  \n",
       "4                0.0                0.0  \n",
       "\n",
       "[5 rows x 27 columns]"
      ]
     },
     "execution_count": 79,
     "metadata": {},
     "output_type": "execute_result"
    }
   ],
   "source": [
    "X_train.head()"
   ]
  },
  {
   "cell_type": "code",
   "execution_count": 80,
   "id": "777501aa",
   "metadata": {},
   "outputs": [],
   "source": [
    "# Ordinal Encoding\n",
    "categories = ['derived_ethnicity', 'derived_sex']\n",
    "enc_oe = OrdinalEncoder()\n",
    "enc_oe.fit(X_train[categories])\n",
    "\n",
    "X_train[categories] = enc_oe.transform(X_train[categories])\n",
    "X_test[categories] = enc_oe.transform(X_test[categories])"
   ]
  },
  {
   "cell_type": "code",
   "execution_count": 81,
   "id": "c7eb983c",
   "metadata": {},
   "outputs": [
    {
     "data": {
      "text/html": [
       "<div>\n",
       "<style scoped>\n",
       "    .dataframe tbody tr th:only-of-type {\n",
       "        vertical-align: middle;\n",
       "    }\n",
       "\n",
       "    .dataframe tbody tr th {\n",
       "        vertical-align: top;\n",
       "    }\n",
       "\n",
       "    .dataframe thead th {\n",
       "        text-align: right;\n",
       "    }\n",
       "</style>\n",
       "<table border=\"1\" class=\"dataframe\">\n",
       "  <thead>\n",
       "    <tr style=\"text-align: right;\">\n",
       "      <th></th>\n",
       "      <th>derived_ethnicity</th>\n",
       "      <th>derived_sex</th>\n",
       "      <th>preapproval</th>\n",
       "      <th>loan_type</th>\n",
       "      <th>loan_purpose</th>\n",
       "      <th>loan_amount</th>\n",
       "      <th>loan_to_value_ratio</th>\n",
       "      <th>interest_only_payment</th>\n",
       "      <th>balloon_payment</th>\n",
       "      <th>income</th>\n",
       "      <th>...</th>\n",
       "      <th>debt_to_income_ratio_50%-60%</th>\n",
       "      <th>debt_to_income_ratio_&lt;20%</th>\n",
       "      <th>debt_to_income_ratio_&gt;60%</th>\n",
       "      <th>applicant_age_25-34</th>\n",
       "      <th>applicant_age_35-44</th>\n",
       "      <th>applicant_age_45-54</th>\n",
       "      <th>applicant_age_55-64</th>\n",
       "      <th>applicant_age_65-74</th>\n",
       "      <th>applicant_age_&lt;25</th>\n",
       "      <th>applicant_age_&gt;74</th>\n",
       "    </tr>\n",
       "  </thead>\n",
       "  <tbody>\n",
       "    <tr>\n",
       "      <th>0</th>\n",
       "      <td>1.0</td>\n",
       "      <td>1.0</td>\n",
       "      <td>2</td>\n",
       "      <td>1</td>\n",
       "      <td>2</td>\n",
       "      <td>55000.0</td>\n",
       "      <td>51.520</td>\n",
       "      <td>2</td>\n",
       "      <td>2</td>\n",
       "      <td>42.0</td>\n",
       "      <td>...</td>\n",
       "      <td>0.0</td>\n",
       "      <td>1.0</td>\n",
       "      <td>0.0</td>\n",
       "      <td>0.0</td>\n",
       "      <td>0.0</td>\n",
       "      <td>0.0</td>\n",
       "      <td>0.0</td>\n",
       "      <td>1.0</td>\n",
       "      <td>0.0</td>\n",
       "      <td>0.0</td>\n",
       "    </tr>\n",
       "    <tr>\n",
       "      <th>1</th>\n",
       "      <td>1.0</td>\n",
       "      <td>1.0</td>\n",
       "      <td>2</td>\n",
       "      <td>1</td>\n",
       "      <td>3</td>\n",
       "      <td>485000.0</td>\n",
       "      <td>67.271</td>\n",
       "      <td>2</td>\n",
       "      <td>2</td>\n",
       "      <td>132.0</td>\n",
       "      <td>...</td>\n",
       "      <td>0.0</td>\n",
       "      <td>0.0</td>\n",
       "      <td>0.0</td>\n",
       "      <td>0.0</td>\n",
       "      <td>1.0</td>\n",
       "      <td>0.0</td>\n",
       "      <td>0.0</td>\n",
       "      <td>0.0</td>\n",
       "      <td>0.0</td>\n",
       "      <td>0.0</td>\n",
       "    </tr>\n",
       "    <tr>\n",
       "      <th>2</th>\n",
       "      <td>1.0</td>\n",
       "      <td>0.0</td>\n",
       "      <td>2</td>\n",
       "      <td>1</td>\n",
       "      <td>2</td>\n",
       "      <td>25000.0</td>\n",
       "      <td>44.140</td>\n",
       "      <td>2</td>\n",
       "      <td>2</td>\n",
       "      <td>141.0</td>\n",
       "      <td>...</td>\n",
       "      <td>0.0</td>\n",
       "      <td>0.0</td>\n",
       "      <td>0.0</td>\n",
       "      <td>0.0</td>\n",
       "      <td>0.0</td>\n",
       "      <td>1.0</td>\n",
       "      <td>0.0</td>\n",
       "      <td>0.0</td>\n",
       "      <td>0.0</td>\n",
       "      <td>0.0</td>\n",
       "    </tr>\n",
       "    <tr>\n",
       "      <th>3</th>\n",
       "      <td>1.0</td>\n",
       "      <td>1.0</td>\n",
       "      <td>2</td>\n",
       "      <td>1</td>\n",
       "      <td>2</td>\n",
       "      <td>275000.0</td>\n",
       "      <td>21.619</td>\n",
       "      <td>1</td>\n",
       "      <td>2</td>\n",
       "      <td>85.0</td>\n",
       "      <td>...</td>\n",
       "      <td>0.0</td>\n",
       "      <td>0.0</td>\n",
       "      <td>0.0</td>\n",
       "      <td>1.0</td>\n",
       "      <td>0.0</td>\n",
       "      <td>0.0</td>\n",
       "      <td>0.0</td>\n",
       "      <td>0.0</td>\n",
       "      <td>0.0</td>\n",
       "      <td>0.0</td>\n",
       "    </tr>\n",
       "    <tr>\n",
       "      <th>4</th>\n",
       "      <td>0.0</td>\n",
       "      <td>1.0</td>\n",
       "      <td>2</td>\n",
       "      <td>1</td>\n",
       "      <td>1</td>\n",
       "      <td>605000.0</td>\n",
       "      <td>64.865</td>\n",
       "      <td>2</td>\n",
       "      <td>2</td>\n",
       "      <td>349.0</td>\n",
       "      <td>...</td>\n",
       "      <td>0.0</td>\n",
       "      <td>1.0</td>\n",
       "      <td>0.0</td>\n",
       "      <td>0.0</td>\n",
       "      <td>1.0</td>\n",
       "      <td>0.0</td>\n",
       "      <td>0.0</td>\n",
       "      <td>0.0</td>\n",
       "      <td>0.0</td>\n",
       "      <td>0.0</td>\n",
       "    </tr>\n",
       "  </tbody>\n",
       "</table>\n",
       "<p>5 rows × 27 columns</p>\n",
       "</div>"
      ],
      "text/plain": [
       "   derived_ethnicity  derived_sex  preapproval  loan_type  loan_purpose  \\\n",
       "0                1.0          1.0            2          1             2   \n",
       "1                1.0          1.0            2          1             3   \n",
       "2                1.0          0.0            2          1             2   \n",
       "3                1.0          1.0            2          1             2   \n",
       "4                0.0          1.0            2          1             1   \n",
       "\n",
       "   loan_amount  loan_to_value_ratio  interest_only_payment  balloon_payment  \\\n",
       "0      55000.0               51.520                      2                2   \n",
       "1     485000.0               67.271                      2                2   \n",
       "2      25000.0               44.140                      2                2   \n",
       "3     275000.0               21.619                      1                2   \n",
       "4     605000.0               64.865                      2                2   \n",
       "\n",
       "   income  ...  debt_to_income_ratio_50%-60%  debt_to_income_ratio_<20%  \\\n",
       "0    42.0  ...                           0.0                        1.0   \n",
       "1   132.0  ...                           0.0                        0.0   \n",
       "2   141.0  ...                           0.0                        0.0   \n",
       "3    85.0  ...                           0.0                        0.0   \n",
       "4   349.0  ...                           0.0                        1.0   \n",
       "\n",
       "   debt_to_income_ratio_>60%  applicant_age_25-34  applicant_age_35-44  \\\n",
       "0                        0.0                  0.0                  0.0   \n",
       "1                        0.0                  0.0                  1.0   \n",
       "2                        0.0                  0.0                  0.0   \n",
       "3                        0.0                  1.0                  0.0   \n",
       "4                        0.0                  0.0                  1.0   \n",
       "\n",
       "   applicant_age_45-54  applicant_age_55-64  applicant_age_65-74  \\\n",
       "0                  0.0                  0.0                  1.0   \n",
       "1                  0.0                  0.0                  0.0   \n",
       "2                  1.0                  0.0                  0.0   \n",
       "3                  0.0                  0.0                  0.0   \n",
       "4                  0.0                  0.0                  0.0   \n",
       "\n",
       "   applicant_age_<25  applicant_age_>74  \n",
       "0                0.0                0.0  \n",
       "1                0.0                0.0  \n",
       "2                0.0                0.0  \n",
       "3                0.0                0.0  \n",
       "4                0.0                0.0  \n",
       "\n",
       "[5 rows x 27 columns]"
      ]
     },
     "execution_count": 81,
     "metadata": {},
     "output_type": "execute_result"
    }
   ],
   "source": [
    "X_train.head()"
   ]
  },
  {
   "cell_type": "code",
   "execution_count": 82,
   "id": "b0b4e2b3",
   "metadata": {},
   "outputs": [],
   "source": [
    "# Standarization\n",
    "# scalar.fit -> mean:1, std:100\n",
    "# scalar.transform -> apply mean:1, std:100 to X_train\n",
    "# scalar.transform -> apply mean:1, std:100 to X_test\n",
    "scaler = StandardScaler()\n",
    "scaler.fit(X_train[num_cols])\n",
    "X_train[num_cols] = scaler.transform(X_train[num_cols])\n",
    "X_test[num_cols] = scaler.transform(X_test[num_cols])"
   ]
  },
  {
   "cell_type": "code",
   "execution_count": 83,
   "id": "8a0a4bba",
   "metadata": {
    "scrolled": true
   },
   "outputs": [
    {
     "data": {
      "text/html": [
       "<div>\n",
       "<style scoped>\n",
       "    .dataframe tbody tr th:only-of-type {\n",
       "        vertical-align: middle;\n",
       "    }\n",
       "\n",
       "    .dataframe tbody tr th {\n",
       "        vertical-align: top;\n",
       "    }\n",
       "\n",
       "    .dataframe thead th {\n",
       "        text-align: right;\n",
       "    }\n",
       "</style>\n",
       "<table border=\"1\" class=\"dataframe\">\n",
       "  <thead>\n",
       "    <tr style=\"text-align: right;\">\n",
       "      <th></th>\n",
       "      <th>derived_ethnicity</th>\n",
       "      <th>derived_sex</th>\n",
       "      <th>preapproval</th>\n",
       "      <th>loan_type</th>\n",
       "      <th>loan_purpose</th>\n",
       "      <th>loan_amount</th>\n",
       "      <th>loan_to_value_ratio</th>\n",
       "      <th>interest_only_payment</th>\n",
       "      <th>balloon_payment</th>\n",
       "      <th>income</th>\n",
       "      <th>...</th>\n",
       "      <th>debt_to_income_ratio_50%-60%</th>\n",
       "      <th>debt_to_income_ratio_&lt;20%</th>\n",
       "      <th>debt_to_income_ratio_&gt;60%</th>\n",
       "      <th>applicant_age_25-34</th>\n",
       "      <th>applicant_age_35-44</th>\n",
       "      <th>applicant_age_45-54</th>\n",
       "      <th>applicant_age_55-64</th>\n",
       "      <th>applicant_age_65-74</th>\n",
       "      <th>applicant_age_&lt;25</th>\n",
       "      <th>applicant_age_&gt;74</th>\n",
       "    </tr>\n",
       "  </thead>\n",
       "  <tbody>\n",
       "    <tr>\n",
       "      <th>0</th>\n",
       "      <td>1.0</td>\n",
       "      <td>1.0</td>\n",
       "      <td>0.156441</td>\n",
       "      <td>-0.271305</td>\n",
       "      <td>-0.151269</td>\n",
       "      <td>-1.031533</td>\n",
       "      <td>-0.782833</td>\n",
       "      <td>0.236088</td>\n",
       "      <td>0.136892</td>\n",
       "      <td>-0.387383</td>\n",
       "      <td>...</td>\n",
       "      <td>0.0</td>\n",
       "      <td>1.0</td>\n",
       "      <td>0.0</td>\n",
       "      <td>0.0</td>\n",
       "      <td>0.0</td>\n",
       "      <td>0.0</td>\n",
       "      <td>0.0</td>\n",
       "      <td>1.0</td>\n",
       "      <td>0.0</td>\n",
       "      <td>0.0</td>\n",
       "    </tr>\n",
       "    <tr>\n",
       "      <th>1</th>\n",
       "      <td>1.0</td>\n",
       "      <td>1.0</td>\n",
       "      <td>0.156441</td>\n",
       "      <td>-0.271305</td>\n",
       "      <td>0.816208</td>\n",
       "      <td>0.293450</td>\n",
       "      <td>-0.151931</td>\n",
       "      <td>0.236088</td>\n",
       "      <td>0.136892</td>\n",
       "      <td>-0.098715</td>\n",
       "      <td>...</td>\n",
       "      <td>0.0</td>\n",
       "      <td>0.0</td>\n",
       "      <td>0.0</td>\n",
       "      <td>0.0</td>\n",
       "      <td>1.0</td>\n",
       "      <td>0.0</td>\n",
       "      <td>0.0</td>\n",
       "      <td>0.0</td>\n",
       "      <td>0.0</td>\n",
       "      <td>0.0</td>\n",
       "    </tr>\n",
       "    <tr>\n",
       "      <th>2</th>\n",
       "      <td>1.0</td>\n",
       "      <td>0.0</td>\n",
       "      <td>0.156441</td>\n",
       "      <td>-0.271305</td>\n",
       "      <td>-0.151269</td>\n",
       "      <td>-1.123974</td>\n",
       "      <td>-1.078438</td>\n",
       "      <td>0.236088</td>\n",
       "      <td>0.136892</td>\n",
       "      <td>-0.069848</td>\n",
       "      <td>...</td>\n",
       "      <td>0.0</td>\n",
       "      <td>0.0</td>\n",
       "      <td>0.0</td>\n",
       "      <td>0.0</td>\n",
       "      <td>0.0</td>\n",
       "      <td>1.0</td>\n",
       "      <td>0.0</td>\n",
       "      <td>0.0</td>\n",
       "      <td>0.0</td>\n",
       "      <td>0.0</td>\n",
       "    </tr>\n",
       "    <tr>\n",
       "      <th>3</th>\n",
       "      <td>1.0</td>\n",
       "      <td>1.0</td>\n",
       "      <td>0.156441</td>\n",
       "      <td>-0.271305</td>\n",
       "      <td>-0.151269</td>\n",
       "      <td>-0.353635</td>\n",
       "      <td>-1.980511</td>\n",
       "      <td>-4.235703</td>\n",
       "      <td>0.136892</td>\n",
       "      <td>-0.249464</td>\n",
       "      <td>...</td>\n",
       "      <td>0.0</td>\n",
       "      <td>0.0</td>\n",
       "      <td>0.0</td>\n",
       "      <td>1.0</td>\n",
       "      <td>0.0</td>\n",
       "      <td>0.0</td>\n",
       "      <td>0.0</td>\n",
       "      <td>0.0</td>\n",
       "      <td>0.0</td>\n",
       "      <td>0.0</td>\n",
       "    </tr>\n",
       "    <tr>\n",
       "      <th>4</th>\n",
       "      <td>0.0</td>\n",
       "      <td>1.0</td>\n",
       "      <td>0.156441</td>\n",
       "      <td>-0.271305</td>\n",
       "      <td>-1.118746</td>\n",
       "      <td>0.663213</td>\n",
       "      <td>-0.248303</td>\n",
       "      <td>0.236088</td>\n",
       "      <td>0.136892</td>\n",
       "      <td>0.597296</td>\n",
       "      <td>...</td>\n",
       "      <td>0.0</td>\n",
       "      <td>1.0</td>\n",
       "      <td>0.0</td>\n",
       "      <td>0.0</td>\n",
       "      <td>1.0</td>\n",
       "      <td>0.0</td>\n",
       "      <td>0.0</td>\n",
       "      <td>0.0</td>\n",
       "      <td>0.0</td>\n",
       "      <td>0.0</td>\n",
       "    </tr>\n",
       "  </tbody>\n",
       "</table>\n",
       "<p>5 rows × 27 columns</p>\n",
       "</div>"
      ],
      "text/plain": [
       "   derived_ethnicity  derived_sex  preapproval  loan_type  loan_purpose  \\\n",
       "0                1.0          1.0     0.156441  -0.271305     -0.151269   \n",
       "1                1.0          1.0     0.156441  -0.271305      0.816208   \n",
       "2                1.0          0.0     0.156441  -0.271305     -0.151269   \n",
       "3                1.0          1.0     0.156441  -0.271305     -0.151269   \n",
       "4                0.0          1.0     0.156441  -0.271305     -1.118746   \n",
       "\n",
       "   loan_amount  loan_to_value_ratio  interest_only_payment  balloon_payment  \\\n",
       "0    -1.031533            -0.782833               0.236088         0.136892   \n",
       "1     0.293450            -0.151931               0.236088         0.136892   \n",
       "2    -1.123974            -1.078438               0.236088         0.136892   \n",
       "3    -0.353635            -1.980511              -4.235703         0.136892   \n",
       "4     0.663213            -0.248303               0.236088         0.136892   \n",
       "\n",
       "     income  ...  debt_to_income_ratio_50%-60%  debt_to_income_ratio_<20%  \\\n",
       "0 -0.387383  ...                           0.0                        1.0   \n",
       "1 -0.098715  ...                           0.0                        0.0   \n",
       "2 -0.069848  ...                           0.0                        0.0   \n",
       "3 -0.249464  ...                           0.0                        0.0   \n",
       "4  0.597296  ...                           0.0                        1.0   \n",
       "\n",
       "   debt_to_income_ratio_>60%  applicant_age_25-34  applicant_age_35-44  \\\n",
       "0                        0.0                  0.0                  0.0   \n",
       "1                        0.0                  0.0                  1.0   \n",
       "2                        0.0                  0.0                  0.0   \n",
       "3                        0.0                  1.0                  0.0   \n",
       "4                        0.0                  0.0                  1.0   \n",
       "\n",
       "   applicant_age_45-54  applicant_age_55-64  applicant_age_65-74  \\\n",
       "0                  0.0                  0.0                  1.0   \n",
       "1                  0.0                  0.0                  0.0   \n",
       "2                  1.0                  0.0                  0.0   \n",
       "3                  0.0                  0.0                  0.0   \n",
       "4                  0.0                  0.0                  0.0   \n",
       "\n",
       "   applicant_age_<25  applicant_age_>74  \n",
       "0                0.0                0.0  \n",
       "1                0.0                0.0  \n",
       "2                0.0                0.0  \n",
       "3                0.0                0.0  \n",
       "4                0.0                0.0  \n",
       "\n",
       "[5 rows x 27 columns]"
      ]
     },
     "execution_count": 83,
     "metadata": {},
     "output_type": "execute_result"
    }
   ],
   "source": [
    "X_train.head()"
   ]
  },
  {
   "cell_type": "markdown",
   "id": "51871e1c",
   "metadata": {},
   "source": [
    "### Exploring Improtant Features"
   ]
  },
  {
   "cell_type": "code",
   "execution_count": 84,
   "id": "a600379c",
   "metadata": {},
   "outputs": [],
   "source": [
    "import statsmodels.api as sm\n",
    "from sklearn.linear_model import LogisticRegression\n",
    "from sklearn.ensemble import RandomForestClassifier"
   ]
  },
  {
   "cell_type": "markdown",
   "id": "6870c50f",
   "metadata": {},
   "source": [
    "#### Method1 - Logistic Regression Beta"
   ]
  },
  {
   "cell_type": "code",
   "execution_count": 85,
   "id": "a388ef77",
   "metadata": {
    "scrolled": true
   },
   "outputs": [
    {
     "name": "stdout",
     "output_type": "stream",
     "text": [
      "Warning: Maximum number of iterations has been exceeded.\n",
      "         Current function value: 0.368593\n",
      "         Iterations: 35\n",
      "                                            Results: Logit\n",
      "=======================================================================================================\n",
      "Model:                           Logit                         Pseudo R-squared:              0.329    \n",
      "Dependent Variable:              y                             AIC:                           6221.7157\n",
      "Date:                            2022-05-28 22:47              BIC:                           6397.5319\n",
      "No. Observations:                8372                          Log-Likelihood:                -3085.9  \n",
      "Df Model:                        24                            LL-Null:                       -4598.3  \n",
      "Df Residuals:                    8347                          LLR p-value:                   0.0000   \n",
      "Converged:                       0.0000                        Scale:                         1.0000   \n",
      "No. Iterations:                  35.0000                                                               \n",
      "-------------------------------------------------------------------------------------------------------\n",
      "                                        Coef.    Std.Err.      z    P>|z|      [0.025         0.975]   \n",
      "-------------------------------------------------------------------------------------------------------\n",
      "derived_ethnicity                       0.5371       0.1329  4.0415 0.0001         0.2766        0.7976\n",
      "derived_sex                            -0.2086       0.0673 -3.1010 0.0019        -0.3404       -0.0768\n",
      "preapproval                            -3.8785    7230.5467 -0.0005 0.9996    -14175.4896    14167.7326\n",
      "loan_type                               0.0472       0.0343  1.3769 0.1686        -0.0200        0.1144\n",
      "loan_purpose                           -0.3658       0.0382 -9.5847 0.0000        -0.4406       -0.2910\n",
      "loan_amount                             0.5112       0.0504 10.1516 0.0000         0.4125        0.6099\n",
      "loan_to_value_ratio                     0.0470       0.0367  1.2806 0.2003        -0.0249        0.1190\n",
      "interest_only_payment                   0.0204       0.0342  0.5953 0.5516        -0.0467        0.0875\n",
      "balloon_payment                        -0.0871       0.0340 -2.5638 0.0104        -0.1536       -0.0205\n",
      "income                                 -0.1040       0.0291 -3.5777 0.0003        -0.1609       -0.0470\n",
      "derived_race_Asian                      0.5439 3579865.7437  0.0000 1.0000  -7016407.3833  7016408.4712\n",
      "derived_race_Black or African American  0.1082 3579865.7437  0.0000 1.0000  -7016407.8190  7016408.0354\n",
      "derived_race_Minority Races             0.4058 3579865.7437  0.0000 1.0000  -7016407.5215  7016408.3330\n",
      "derived_race_White                      0.9645 3579865.7437  0.0000 1.0000  -7016406.9628  7016408.8917\n",
      "debt_to_income_ratio_20%-<30%           1.5214 5581649.0691  0.0000 1.0000 -10939829.6283 10939832.6711\n",
      "debt_to_income_ratio_30%-<36%           1.3696 5581649.0691  0.0000 1.0000 -10939829.7801 10939832.5193\n",
      "debt_to_income_ratio_36%-<50%           1.4200 5581649.0691  0.0000 1.0000 -10939829.7297 10939832.5698\n",
      "debt_to_income_ratio_50%-60%           -0.4694 5581649.0691 -0.0000 1.0000 -10939831.6191 10939830.6803\n",
      "debt_to_income_ratio_<20%               1.2605 5581649.0691  0.0000 1.0000 -10939829.8892 10939832.4102\n",
      "debt_to_income_ratio_>60%              -3.0798 5581649.0691 -0.0000 1.0000 -10939834.2295 10939828.0699\n",
      "applicant_age_25-34                     0.4820 3910832.8958  0.0000 1.0000  -7665091.1434  7665092.1074\n",
      "applicant_age_35-44                    -0.0413 3910832.8958 -0.0000 1.0000  -7665091.6667  7665091.5841\n",
      "applicant_age_45-54                    -0.1026 3910832.8958 -0.0000 1.0000  -7665091.7280  7665091.5228\n",
      "applicant_age_55-64                     0.1641 3910832.8958  0.0000 1.0000  -7665091.4613  7665091.7895\n",
      "applicant_age_65-74                     0.1743 3910832.8958  0.0000 1.0000  -7665091.4511  7665091.7997\n",
      "applicant_age_<25                       1.2192 3910832.8958  0.0000 1.0000  -7665090.4062  7665092.8446\n",
      "applicant_age_>74                       0.1266 3910832.8958  0.0000 1.0000  -7665091.4988  7665091.7520\n",
      "=======================================================================================================\n",
      "\n"
     ]
    },
    {
     "name": "stderr",
     "output_type": "stream",
     "text": [
      "C:\\Users\\Xue Feng\\anaconda3\\lib\\site-packages\\statsmodels\\base\\model.py:566: ConvergenceWarning: Maximum Likelihood optimization failed to converge. Check mle_retvals\n",
      "  warnings.warn(\"Maximum Likelihood optimization failed to \"\n"
     ]
    }
   ],
   "source": [
    "logic = sm.Logit(list(y_train), X_train)\n",
    "result = logic.fit()\n",
    "print(result.summary2())"
   ]
  },
  {
   "cell_type": "code",
   "execution_count": 87,
   "id": "7be6dbae",
   "metadata": {},
   "outputs": [
    {
     "name": "stdout",
     "output_type": "stream",
     "text": [
      "Optimization terminated successfully.\n",
      "         Current function value: 0.378996\n",
      "         Iterations 9\n",
      "                                    Results: Logit\n",
      "=======================================================================================\n",
      "Model:                       Logit                   Pseudo R-squared:        0.310    \n",
      "Dependent Variable:          y                       AIC:                     6393.9151\n",
      "Date:                        2022-05-28 22:56        BIC:                     6562.6986\n",
      "No. Observations:            8372                    Log-Likelihood:          -3173.0  \n",
      "Df Model:                    23                      LL-Null:                 -4598.3  \n",
      "Df Residuals:                8348                    LLR p-value:             0.0000   \n",
      "Converged:                   1.0000                  Scale:                   1.0000   \n",
      "No. Iterations:              9.0000                                                    \n",
      "---------------------------------------------------------------------------------------\n",
      "                                        Coef.  Std.Err.    z     P>|z|   [0.025  0.975]\n",
      "---------------------------------------------------------------------------------------\n",
      "derived_ethnicity                       1.7425   0.0791  22.0331 0.0000  1.5875  1.8975\n",
      "derived_sex                             0.0418   0.0631   0.6617 0.5082 -0.0820  0.1655\n",
      "preapproval                            -0.4423   0.1072  -4.1249 0.0000 -0.6524 -0.2321\n",
      "loan_type                               0.0228   0.0336   0.6798 0.4966 -0.0430  0.0886\n",
      "loan_purpose                           -0.3806   0.0373 -10.2087 0.0000 -0.4536 -0.3075\n",
      "loan_amount                             0.4956   0.0489  10.1348 0.0000  0.3998  0.5915\n",
      "loan_to_value_ratio                     0.0835   0.0330   2.5273 0.0115  0.0187  0.1483\n",
      "interest_only_payment                   0.0183   0.0341   0.5360 0.5920 -0.0485  0.0850\n",
      "balloon_payment                        -0.0819   0.0333  -2.4576 0.0140 -0.1471 -0.0166\n",
      "income                                 -0.1180   0.0306  -3.8561 0.0001 -0.1779 -0.0580\n",
      "derived_race_Asian                     -0.2708   0.1444  -1.8754 0.0607 -0.5539  0.0122\n",
      "derived_race_Black or African American -0.7038   0.0733  -9.5996 0.0000 -0.8475 -0.5601\n",
      "derived_race_Minority Races            -0.2705   0.2210  -1.2240 0.2209 -0.7036  0.1626\n",
      "debt_to_income_ratio_20%-<30%           0.3650   0.0938   3.8927 0.0001  0.1812  0.5488\n",
      "debt_to_income_ratio_30%-<36%           0.1915   0.0914   2.0947 0.0362  0.0123  0.3706\n",
      "debt_to_income_ratio_50%-60%           -1.7027   0.1050 -16.2207 0.0000 -1.9084 -1.4970\n",
      "debt_to_income_ratio_<20%               0.0966   0.1259   0.7673 0.4429 -0.1502  0.3434\n",
      "debt_to_income_ratio_>60%              -4.3599   0.1876 -23.2357 0.0000 -4.7277 -3.9921\n",
      "applicant_age_25-34                     0.9131   0.1001   9.1211 0.0000  0.7169  1.1093\n",
      "applicant_age_45-54                     0.2878   0.0863   3.3342 0.0009  0.1186  0.4570\n",
      "applicant_age_55-64                     0.5619   0.0978   5.7471 0.0000  0.3703  0.7535\n",
      "applicant_age_65-74                     0.5900   0.1203   4.9032 0.0000  0.3541  0.8258\n",
      "applicant_age_<25                       1.7818   0.6318   2.8201 0.0048  0.5435  3.0202\n",
      "applicant_age_>74                       0.5184   0.1702   3.0459 0.0023  0.1848  0.8520\n",
      "=======================================================================================\n",
      "\n"
     ]
    }
   ],
   "source": [
    "# FIX cov = 1 - removed 1 category from each columns that have more than 2 categories\n",
    "# now P values look good\n",
    "category_log_reg = [\"derived_ethnicity\", \"derived_sex\", \"preapproval\", \"loan_type\", \"loan_purpose\", \"loan_amount\", \"loan_to_value_ratio\", \"interest_only_payment\",\n",
    "               \"balloon_payment\", \"income\", \"derived_race_Asian\", \"derived_race_Black or African American\", \"derived_race_Minority Races\", \n",
    "               \"debt_to_income_ratio_20%-<30%\", \"debt_to_income_ratio_30%-<36%\", \"debt_to_income_ratio_50%-60%\", \"debt_to_income_ratio_<20%\",\n",
    "               \"debt_to_income_ratio_>60%\", \"applicant_age_25-34\", \"applicant_age_45-54\", \"applicant_age_55-64\", \"applicant_age_65-74\", \"applicant_age_<25\",\n",
    "               \"applicant_age_>74\"]\n",
    "logic = sm.Logit(list(y_train), X_train[category_log_reg])\n",
    "result = logic.fit()\n",
    "print(result.summary2())"
   ]
  },
  {
   "cell_type": "markdown",
   "id": "2008ca8e",
   "metadata": {},
   "source": [
    "#### Method2 - Random Forest - Feature Importance"
   ]
  },
  {
   "cell_type": "code",
   "execution_count": null,
   "id": "364e3ec9",
   "metadata": {
    "scrolled": true
   },
   "outputs": [],
   "source": [
    "X_RF = X.copy()\n",
    "categories = ['derived_ethnicity', 'derived_sex', 'derived_race', 'debt_to_income_ratio', 'applicant_age']\n",
    "enc_oe = OrdinalEncoder()\n",
    "enc_oe.fit(X_RF[categories])\n",
    "X_RF[categories] = enc_oe.transform(X_RF[categories])\n",
    "X_RF.head()"
   ]
  },
  {
   "cell_type": "code",
   "execution_count": 502,
   "id": "37d624af",
   "metadata": {},
   "outputs": [
    {
     "name": "stdout",
     "output_type": "stream",
     "text": [
      "Feature importance ranking by Random Forest Model:\n",
      "debt_to_income_ratio : 0.2477\n",
      "loan_amount : 0.1875\n",
      "loan_to_value_ratio : 0.1728\n",
      "income : 0.1717\n",
      "loan_purpose : 0.0711\n",
      "applicant_age : 0.0574\n",
      "derived_race : 0.0325\n",
      "derived_sex : 0.02\n",
      "loan_type : 0.0145\n",
      "interest_only_payment : 0.0098\n",
      "derived_ethnicity : 0.0081\n",
      "balloon_payment : 0.0048\n",
      "preapproval : 0.0022\n"
     ]
    }
   ],
   "source": [
    "# check feature importance of random forest for feature selection\n",
    "forest = RandomForestClassifier()\n",
    "forest.fit(X_RF, y)\n",
    "\n",
    "importances = forest.feature_importances_\n",
    "\n",
    "indices = np.argsort(importances)[::-1]\n",
    "\n",
    "# Print the feature ranking\n",
    "print(\"Feature importance ranking by Random Forest Model:\")\n",
    "for ind in range(X.shape[1]):\n",
    "  print (\"{0} : {1}\".format(X_RF.columns[indices[ind]],round(importances[indices[ind]], 4)))"
   ]
  },
  {
   "cell_type": "markdown",
   "id": "9c0deaad",
   "metadata": {},
   "source": [
    "# Part 3: Initial Model Training and Initial Results"
   ]
  },
  {
   "cell_type": "code",
   "execution_count": 503,
   "id": "9540731b",
   "metadata": {},
   "outputs": [],
   "source": [
    "from sklearn.ensemble import RandomForestClassifier\n",
    "from sklearn.neighbors import KNeighborsClassifier \n",
    "from sklearn.linear_model import LogisticRegression\n",
    "from sklearn.model_selection import GridSearchCV\n",
    "from sklearn.metrics import confusion_matrix\n",
    "from sklearn.metrics import classification_report\n",
    "from sklearn.metrics import precision_score\n",
    "from sklearn.metrics import recall_score"
   ]
  },
  {
   "cell_type": "code",
   "execution_count": 504,
   "id": "20aaecb1",
   "metadata": {},
   "outputs": [],
   "source": [
    "# build models\n",
    "# Logistic Regression\n",
    "classifier_logistic = LogisticRegression()\n",
    "\n",
    "# Random Forest\n",
    "classifier_RF = RandomForestClassifier()"
   ]
  },
  {
   "cell_type": "code",
   "execution_count": 505,
   "id": "071986ec",
   "metadata": {},
   "outputs": [],
   "source": [
    "# helper function for printing out grid search results \n",
    "def print_grid_search_metrics(gs):\n",
    "    print (\"Best score: \" + str(gs.best_score_))\n",
    "    print (\"Best parameters set:\")\n",
    "    best_parameters = gs.best_params_\n",
    "    for param_name in sorted(best_parameters.keys()):\n",
    "        print(param_name + ':' + str(best_parameters[param_name]))"
   ]
  },
  {
   "cell_type": "markdown",
   "id": "f945a443",
   "metadata": {},
   "source": [
    "### Logistic Regression"
   ]
  },
  {
   "cell_type": "code",
   "execution_count": 506,
   "id": "6ca974fc",
   "metadata": {},
   "outputs": [
    {
     "data": {
      "text/plain": [
       "LogisticRegression()"
      ]
     },
     "execution_count": 506,
     "metadata": {},
     "output_type": "execute_result"
    }
   ],
   "source": [
    "# Train the model\n",
    "classifier_logistic.fit(X_train, y_train)"
   ]
  },
  {
   "cell_type": "code",
   "execution_count": 507,
   "id": "afd78a3e",
   "metadata": {},
   "outputs": [
    {
     "data": {
      "text/plain": [
       "array([1, 1, 1, ..., 1, 1, 1], dtype=int64)"
      ]
     },
     "execution_count": 507,
     "metadata": {},
     "output_type": "execute_result"
    }
   ],
   "source": [
    "# Prediction of test data\n",
    "classifier_logistic.predict(X_test)"
   ]
  },
  {
   "cell_type": "code",
   "execution_count": 508,
   "id": "56581403",
   "metadata": {
    "scrolled": true
   },
   "outputs": [
    {
     "data": {
      "text/plain": [
       "0.84736653529201"
      ]
     },
     "execution_count": 508,
     "metadata": {},
     "output_type": "execute_result"
    }
   ],
   "source": [
    "# Accuracy of test data\n",
    "classifier_logistic.score(X_test, y_test)"
   ]
  },
  {
   "cell_type": "markdown",
   "id": "2e5e6dd5",
   "metadata": {},
   "source": [
    "### Random Forest"
   ]
  },
  {
   "cell_type": "code",
   "execution_count": 509,
   "id": "7e5437e0",
   "metadata": {},
   "outputs": [
    {
     "data": {
      "text/plain": [
       "GridSearchCV(cv=5, estimator=RandomForestClassifier(),\n",
       "             param_grid={'max_depth': [1, 5, 10],\n",
       "                         'n_estimators': [60, 80, 100]})"
      ]
     },
     "execution_count": 509,
     "metadata": {},
     "output_type": "execute_result"
    }
   ],
   "source": [
    "# Possible hyperparamter options for Random Forest\n",
    "# Choose the number of trees\n",
    "parameters = {\n",
    "    'n_estimators' : [60,80,100],\n",
    "    'max_depth': [1,5,10]\n",
    "}\n",
    "Grid_RF = GridSearchCV(RandomForestClassifier(),parameters, cv=5)\n",
    "Grid_RF.fit(X_train, y_train)"
   ]
  },
  {
   "cell_type": "code",
   "execution_count": 510,
   "id": "755070d7",
   "metadata": {},
   "outputs": [
    {
     "name": "stdout",
     "output_type": "stream",
     "text": [
      "Best score: 0.855828670268728\n",
      "Best parameters set:\n",
      "max_depth:10\n",
      "n_estimators:80\n"
     ]
    }
   ],
   "source": [
    "# best number of tress\n",
    "print_grid_search_metrics(Grid_RF)"
   ]
  },
  {
   "cell_type": "code",
   "execution_count": 511,
   "id": "13a27bc5",
   "metadata": {},
   "outputs": [],
   "source": [
    "# best random forest\n",
    "best_RF_model = Grid_RF.best_estimator_"
   ]
  },
  {
   "cell_type": "code",
   "execution_count": 512,
   "id": "7ab591e6",
   "metadata": {},
   "outputs": [
    {
     "data": {
      "text/plain": [
       "RandomForestClassifier(max_depth=10, n_estimators=80)"
      ]
     },
     "execution_count": 512,
     "metadata": {},
     "output_type": "execute_result"
    }
   ],
   "source": [
    "best_RF_model"
   ]
  },
  {
   "cell_type": "code",
   "execution_count": null,
   "id": "0f9d459f",
   "metadata": {},
   "outputs": [],
   "source": []
  }
 ],
 "metadata": {
  "kernelspec": {
   "display_name": "Python 3",
   "language": "python",
   "name": "python3"
  },
  "language_info": {
   "codemirror_mode": {
    "name": "ipython",
    "version": 3
   },
   "file_extension": ".py",
   "mimetype": "text/x-python",
   "name": "python",
   "nbconvert_exporter": "python",
   "pygments_lexer": "ipython3",
   "version": "3.8.8"
  }
 },
 "nbformat": 4,
 "nbformat_minor": 5
}
